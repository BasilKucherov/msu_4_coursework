{
 "cells": [
  {
   "cell_type": "code",
   "execution_count": 1,
   "metadata": {},
   "outputs": [],
   "source": [
    "from datetime import datetime\n",
    "import matplotlib.pyplot as plt\n",
    "import seaborn as sns\n",
    "\n",
    "from sklearn.metrics import confusion_matrix, accuracy_score\n",
    "\n",
    "import numpy as np\n",
    "import torch\n",
    "\n",
    "import librosa\n",
    "from torch.utils.data import Dataset\n",
    "from torch.utils.data import DataLoader\n",
    "from torch.utils.data import Sampler\n",
    "\n",
    "import os\n",
    "import tqdm.notebook as tqdm\n",
    "\n",
    "import json\n",
    "\n",
    "import time\n",
    "import datetime\n",
    "import math"
   ]
  },
  {
   "cell_type": "code",
   "execution_count": 2,
   "metadata": {},
   "outputs": [],
   "source": [
    "from transforms import *\n",
    "from loss_functions import *\n",
    "from datasets import *\n",
    "from models import *\n",
    "from torchvision.transforms import Compose\n",
    "from clustering_metrics import *"
   ]
  },
  {
   "cell_type": "code",
   "execution_count": 3,
   "metadata": {},
   "outputs": [],
   "source": [
    "train_dataset_path = 'datasets/speech_commands/train'\n",
    "valid_dataset_path = 'datasets/speech_commands/validation'\n",
    "test_dataset_path = 'datasets/speech_commands/test'"
   ]
  },
  {
   "cell_type": "code",
   "execution_count": 4,
   "metadata": {},
   "outputs": [],
   "source": [
    "device = torch.device('cpu')\n",
    "use_gpu = False\n",
    "if torch.cuda.is_available():\n",
    "        use_gpu = True\n",
    "        device = torch.device('cuda', 0)"
   ]
  },
  {
   "cell_type": "markdown",
   "metadata": {},
   "source": [
    "# Train Loop"
   ]
  },
  {
   "cell_type": "code",
   "execution_count": 5,
   "metadata": {},
   "outputs": [],
   "source": [
    "\n",
    "def training_loop(start_epoch, n_epochs, model, loss_fn, optimizer, dl_train, dl_valid, device, save_config):\n",
    "    train_losses, valid_losses = [], []\n",
    "    train_epoch, valid_epoch = [], []\n",
    "\n",
    "    experiment_name = save_config['experiment_name']\n",
    "    experiments_folder = save_config['experiments_folder']\n",
    "\n",
    "    experiment_folder = os.path.join(experiments_folder, experiment_name)\n",
    "    checkpoints_folder = os.path.join(experiment_folder, \"checkpoints\")\n",
    "    os.makedirs(experiment_folder, exist_ok=True)\n",
    "    os.makedirs(checkpoints_folder, exist_ok=True)\n",
    "\n",
    "    for epoch in (pbar := tqdm.tqdm(range(n_epochs), total=n_epochs, position = 0, leave=True)):\n",
    "        # Переводим сеть в режим обучения\n",
    "        model.train()\n",
    "\n",
    "        train_loss = 0\n",
    "        iter_cnt = 0\n",
    "        # Итерация обучения сети\n",
    "        for batch in (pbar2 := tqdm.tqdm(dl_train, total=len(dl_train), position = 1, leave=False)):\n",
    "            images = batch['input']\n",
    "            images = torch.unsqueeze(images, 1)\n",
    "\n",
    "            labels = batch['target']\n",
    "\n",
    "            optimizer.zero_grad()\n",
    "            \n",
    "            images = images.to(device)\n",
    "            labels = labels.to(device)\n",
    "\n",
    "            net_out = model(images)\n",
    "            loss = loss_fn(net_out, labels)\n",
    "            \n",
    "            train_loss += loss.item()\n",
    "            loss.backward()\n",
    "            optimizer.step()\n",
    "\n",
    "            iter_cnt += 1\n",
    "\n",
    "            pbar2.set_description(\n",
    "                'Loss Train: {0:.5f}\\n'.format(\n",
    "                    loss.item()\n",
    "                )\n",
    "            )\n",
    "        \n",
    "        train_losses.append(train_loss / iter_cnt)\n",
    "        train_epoch.append(epoch)\n",
    "        \n",
    "        # Оцениваем качество модели каждые 3 итерации\n",
    "        if dl_valid:\n",
    "            if epoch % 3 == 0 or epoch == n_epochs - 1:\n",
    "                model.eval()\n",
    "                with torch.no_grad():\n",
    "                    iter_cnt = 0\n",
    "                    loss_sum = 0\n",
    "\n",
    "                    for batch in (pbar2 := tqdm.tqdm(dl_valid, total=len(dl_valid), position = 1, leave=False)):\n",
    "                        images = batch['input']\n",
    "                        images = torch.unsqueeze(images, 1)\n",
    "\n",
    "                        labels = batch['target']\n",
    "\n",
    "                        images = images.to(device)\n",
    "                        labels = labels.to(device)\n",
    "                    \n",
    "                        net_out = model(images)\n",
    "                        loss = loss_fn(net_out, labels)\n",
    "\n",
    "                        loss_sum += loss.item()\n",
    "                        iter_cnt += 1\n",
    "                        \n",
    "                        pbar2.set_description(\n",
    "                            'Loss Valid: {0:.5f}\\n'.format(\n",
    "                                loss.item()\n",
    "                            )\n",
    "                        )\n",
    "                    \n",
    "                    valid_losses.append(loss_sum / iter_cnt)\n",
    "                    valid_epoch.append(epoch)\n",
    "    \n",
    "        checkpoint = {\n",
    "            'epoch': start_epoch + epoch,\n",
    "            'state_dict': model.state_dict(),\n",
    "            'optimizer' : optimizer.state_dict(),\n",
    "        }\n",
    "\n",
    "        torch.save(checkpoint, os.path.join(checkpoints_folder, f\"checkpoint_{start_epoch + epoch}\"))\n",
    "\n",
    "        if dl_valid:\n",
    "            pbar.set_description(\n",
    "                        'Loss (Train/Valid): {0:.5f}/{1:.5f}\\n'.format(\n",
    "                            train_losses[-1], valid_losses[-1]\n",
    "                        )\n",
    "                    )\n",
    "        else:\n",
    "            pbar.set_description(\n",
    "                        'Loss (Train): {0:.5f}\\n'.format(\n",
    "                            train_losses[-1]\n",
    "                        )\n",
    "                    )\n",
    "\n",
    "    losses = {\n",
    "        'train': train_losses,\n",
    "        'train_epoch': train_epoch,\n",
    "    }\n",
    "    \n",
    "    if dl_valid:\n",
    "        losses['valid'] = valid_losses\n",
    "        losses['valid_epoch'] = valid_epoch\n",
    "\n",
    "    return losses"
   ]
  },
  {
   "cell_type": "markdown",
   "metadata": {},
   "source": [
    "# Putting all togather"
   ]
  },
  {
   "cell_type": "code",
   "execution_count": 6,
   "metadata": {},
   "outputs": [
    {
     "name": "stdout",
     "output_type": "stream",
     "text": [
      "<class 'torch.device'> cuda:0\n"
     ]
    }
   ],
   "source": [
    "device = torch.device('cpu')\n",
    "use_gpu = False\n",
    "if torch.cuda.is_available():\n",
    "    use_gpu = True\n",
    "    device = torch.device('cuda', 0)\n",
    "    \n",
    "print(type(device), device)\n",
    "\n",
    "# may benefit if network size/input/output is stable\n",
    "if use_gpu:\n",
    "    torch.backends.cudnn.benchmark = True\n",
    "\n",
    "background_noise_path = 'datasets/speech_commands/_background_noise_'\n",
    "train_dataset_path = 'datasets/speech_commands/train'\n",
    "valid_dataset_path = 'datasets/speech_commands/validation'"
   ]
  },
  {
   "cell_type": "code",
   "execution_count": 20,
   "metadata": {},
   "outputs": [],
   "source": [
    "def create_model(model_description):\n",
    "        if 'name' not in model_description:\n",
    "                return '[ERROR]: corrupted model description'\n",
    "\n",
    "        if model_description['name'] == 'DSCNN':\n",
    "                n_mels = model_description['n_mels']\n",
    "                in_shape = (n_mels, 32)\n",
    "                in_channels = model_description['in_channels']\n",
    "                ds_cnn_number = model_description['ds_cnn_number']\n",
    "                ds_cnn_size = model_description['ds_cnn_size']\n",
    "                is_classifier = model_description['is_classifier']\n",
    "                classes_number = 0 if not is_classifier else model_description['classes_number']\n",
    "\n",
    "                return DSCNN(in_channels, in_shape, ds_cnn_number, ds_cnn_size, is_classifier, classes_number)\n",
    "\n",
    "\n",
    "def do_experiment(experiment_settings):\n",
    "        experiment_settings['time_start'] = str(datetime.datetime.now())\n",
    "        experiment_folder = os.path.join(experiment_settings['experiments_folder'], experiment_settings['experiment_name'])\n",
    "\n",
    "        background_noise_path = 'datasets/speech_commands/_background_noise_'\n",
    "\n",
    "        train_dataset_path = 'datasets/speech_commands/train'\n",
    "        valid_dataset_path = 'datasets/speech_commands/validation'\n",
    "\n",
    "        if 'train_dataset' in experiment_settings.keys():\n",
    "                if experiment_settings['train_dataset'] == 'speech_commands/train':\n",
    "                        train_dataset_path = 'datasets/speech_commands/train'\n",
    "                elif experiment_settings['train_dataset'] == 'speech_commands/valid':\n",
    "                        train_dataset_path = 'datasets/speech_commands/validation'\n",
    "                elif experiment_settings['train_dataset'] == 'speech_commands/test':\n",
    "                        train_dataset_path = 'datasets/speech_commands/test'\n",
    "        \n",
    "        if 'valid_dataset'  in experiment_settings.keys():\n",
    "                if experiment_settings['valid_dataset'] == 'speech_commands/train':\n",
    "                        valid_dataset_path = 'datasets/speech_commands/train'\n",
    "                elif experiment_settings['valid_dataset'] == 'speech_commands/valid':\n",
    "                        valid_dataset_path = 'datasets/speech_commands/validation'\n",
    "                elif experiment_settings['valid_dataset'] == 'speech_commands/test':\n",
    "                        valid_dataset_path = 'datasets/speech_commands/test'\n",
    "                elif experiment_settings['valid_dataset'] is None:\n",
    "                        valid_dataset_path = None\n",
    "        \n",
    "        print(f\"train_dataset_path = {train_dataset_path}\")\n",
    "        print(f\"valid_dataset_path = {valid_dataset_path}\")\n",
    "                        \n",
    "\n",
    "        # prepare device\n",
    "        device = torch.device('cpu')\n",
    "        use_gpu = False\n",
    "        if torch.cuda.is_available():\n",
    "                use_gpu = True\n",
    "                device = torch.device('cuda', 0)\n",
    "        \n",
    "        print(type(device), device)\n",
    "\n",
    "        if use_gpu:\n",
    "                torch.backends.cudnn.benchmark = True\n",
    "\n",
    "        print(f'Start experiment {experiment_settings[\"experiment_name\"]} -- {str(datetime.datetime.now())}')\n",
    "\n",
    "        save_config = {'experiment_name': experiment_settings['experiment_name'],\n",
    "                'experiments_folder': experiment_settings['experiments_folder']}\n",
    "        \n",
    "        # prepare folder\n",
    "        experiment_folder = os.path.join(experiment_settings['experiments_folder'], experiment_settings['experiment_name'])\n",
    "        os.makedirs(experiment_folder, exist_ok=True)\n",
    "\n",
    "        # create datasets\n",
    "        n_mels = experiment_settings['model']['n_mels']\n",
    "\n",
    "        data_aug_transform = Compose([ChangeAmplitude(), ChangeSpeedAndPitchAudio(), FixAudioLength(), ToSTFT(), StretchAudioOnSTFT(), TimeshiftAudioOnSTFT(), FixSTFTDimension()])\n",
    "\n",
    "        bg_dataset = BackgroundNoiseDataset(background_noise_path, data_aug_transform)\n",
    "        add_bg_noise = AddBackgroundNoiseOnSTFT(bg_dataset)\n",
    "\n",
    "\n",
    "        train_feature_transform = Compose([ToMelSpectrogramFromSTFT(n_mels=n_mels), DeleteSTFT(), ToTensor('mel_spectrogram', 'input')])\n",
    "        train_dataset = SpeechCommandsDataset(train_dataset_path,\n",
    "                                        Compose([LoadAudio(),\n",
    "                                                data_aug_transform,\n",
    "                                                add_bg_noise,\n",
    "                                                train_feature_transform]))\n",
    "\n",
    "        if valid_dataset_path:\n",
    "                valid_feature_transform = Compose([ToSTFT(), ToMelSpectrogramFromSTFT(n_mels=n_mels), ToTensor('mel_spectrogram', 'input')])\n",
    "                valid_dataset = SpeechCommandsDataset(valid_dataset_path,\n",
    "                                                Compose([LoadAudio(),\n",
    "                                                        FixAudioLength(),\n",
    "                                                        valid_feature_transform]))\n",
    "    \n",
    "        \n",
    "        # Create model\n",
    "        experiment_settings['model']['classes_number'] = train_dataset.get_classes_number()\n",
    "        model = create_model(experiment_settings['model'])\n",
    "\n",
    "        pytorch_total_params = sum(p.numel() for p in model.parameters())\n",
    "        pytorch_train_params = sum(p.numel() for p in model.parameters() if p.requires_grad)\n",
    "        experiment_settings['model']['total_params'] = pytorch_total_params\n",
    "        experiment_settings['model']['train_params'] = pytorch_train_params\n",
    "\n",
    "        print(f'Model total params: {pytorch_total_params}')\n",
    "        print(f'Model train params: {pytorch_train_params}')\n",
    "\n",
    "        batch_size = experiment_settings['batch_size']\n",
    "        n_epoch = experiment_settings['n_epoch']\n",
    "\n",
    "        if use_gpu:\n",
    "                model = torch.nn.DataParallel(model).cuda()\n",
    "\n",
    "        # create dataloaders\n",
    "        loss_settings = experiment_settings['loss']\n",
    "        if loss_settings['name'] == 'CrossEntropy':\n",
    "                dl_train = DataLoader(train_dataset, batch_size=batch_size, shuffle=True, num_workers=16)\n",
    "                dl_valid = DataLoader(valid_dataset, batch_size=batch_size, shuffle=True, num_workers=16) if valid_dataset_path else None\n",
    "\n",
    "                loss_fn = torch.nn.CrossEntropyLoss()\n",
    "        elif loss_settings['name'] == 'TripletLoss':\n",
    "                train_sampler = TripletBatchSampler(train_dataset.get_class_indices(), batch_size, 20)\n",
    "                valid_sampler = TripletBatchSampler(valid_dataset.get_class_indices(), batch_size, 20) if valid_dataset_path else None\n",
    "\n",
    "                dl_train = DataLoader(train_dataset, batch_sampler=train_sampler, num_workers=16)\n",
    "                dl_valid = DataLoader(valid_dataset, batch_sampler=valid_sampler, num_workers=16) if valid_dataset_path else None\n",
    "                \n",
    "                margin = loss_settings['loss_margin'] if 'loss_margin' in loss_settings.keys() else 1\n",
    "                loss_agr_policy = loss_settings['loss_agr_policy'] if 'loss_agr_policy' in loss_settings.keys() else 'mean'\n",
    "                \n",
    "                if loss_settings['triplet_mining_strategy'] == 'batch_random':\n",
    "                        loss_fn = TripletLossBatchRandom(margin=margin, loss_agr_policy=loss_agr_policy)\n",
    "                elif loss_settings['triplet_mining_strategy'] == 'batch_hard':\n",
    "                        loss_fn = TripletLossBatchHard(margin=margin, loss_agr_policy=loss_agr_policy)\n",
    "        elif loss_settings['name'] == 'LiftedStructuredLoss':\n",
    "                dl_train = DataLoader(train_dataset, batch_size=batch_size, shuffle=True, num_workers=16)\n",
    "                dl_valid = DataLoader(valid_dataset, batch_size=batch_size, shuffle=True, num_workers=16) if valid_dataset_path else None\n",
    "\n",
    "                margin = loss_settings['loss_margin'] if 'loss_margin' in loss_settings.keys() else 1\n",
    "\n",
    "                loss_fn = LiftedStructuredLoss(margin=margin)\n",
    "        elif loss_settings['name'] == 'NPairLoss':\n",
    "                train_sampler = NPairBatchSampler(train_dataset.get_class_indices())\n",
    "                valid_sampler = NPairBatchSampler(valid_dataset.get_class_indices()) if valid_dataset_path else None\n",
    "\n",
    "                dl_train = DataLoader(train_dataset, batch_sampler=train_sampler, num_workers=16)\n",
    "                dl_valid = DataLoader(valid_dataset, batch_sampler=valid_sampler, num_workers=16) if valid_dataset_path else None\n",
    "\n",
    "                l2_reg = loss_settings['l2_reg'] if 'l2_reg' in loss_settings.keys() else 0.02\n",
    "\n",
    "                loss_fn = NpairLoss(l2_reg=l2_reg)\n",
    "        elif loss_settings['name'] == 'SilhouetteLoss':\n",
    "                train_sampler = SilhouetteBatchSampler(train_dataset.get_class_indices(), batch_size, min(20, batch_size // 5))\n",
    "                valid_sampler = SilhouetteBatchSampler(valid_dataset.get_class_indices(), batch_size, min(20, batch_size // 5)) if valid_dataset_path else None\n",
    "\n",
    "                dl_train = DataLoader(train_dataset, batch_sampler=train_sampler, num_workers=16)\n",
    "                dl_valid = DataLoader(valid_dataset, batch_sampler=valid_sampler, num_workers=16) if valid_dataset_path else None\n",
    "\n",
    "                loss_fn = SilhouetteLoss()\n",
    "        elif loss_settings['name'] == 'SilhouetteMarginLoss':\n",
    "                train_sampler = SilhouetteBatchSampler(train_dataset.get_class_indices(), batch_size, min(20, batch_size // 5))\n",
    "                valid_sampler = SilhouetteBatchSampler(valid_dataset.get_class_indices(), batch_size, min(20, batch_size // 5)) if valid_dataset_path else None\n",
    "\n",
    "                dl_train = DataLoader(train_dataset, batch_sampler=train_sampler, num_workers=16)\n",
    "                dl_valid = DataLoader(valid_dataset, batch_sampler=valid_sampler, num_workers=16) if valid_dataset_path else None\n",
    "\n",
    "                margin = 1 if 'margin' not in loss_settings.keys() else float(loss_settings['margin'])\n",
    "                print(f\"margin = {margin}\")\n",
    "                \n",
    "                loss_fn = SilhouetteMarginLoss(margin=margin)\n",
    "        else:\n",
    "                return\n",
    "\n",
    "        learning_rate = experiment_settings['learning_rate']\n",
    "        optimizer = torch.optim.Adam(model.parameters(), lr=learning_rate)\n",
    "\n",
    "        losses = training_loop(0, n_epoch, model, loss_fn, optimizer, dl_train, dl_valid, device, save_config)\n",
    "\n",
    "        # load stats if exists and add loss\n",
    "        stats_fname = \"stats.json\"\n",
    "        stats_fpath = os.path.join(experiment_folder, stats_fname)\n",
    "        stats = {}\n",
    "        if os.path.isfile(stats_fpath):\n",
    "                with open(stats_fpath, \"r\") as fp:\n",
    "                        stats = json.load(fp)\n",
    "\n",
    "        stats[\"loss\"] = {\n",
    "                \"best_train\": float(np.min(losses['train'])),\n",
    "                \"best_train_epoch\": int(np.argmin(losses['train'])),\n",
    "                \"best_valid\": float(np.min(losses['valid'])) if valid_dataset_path else None,\n",
    "                \"best_valid_epoch\": int(np.argmin(losses['valid'])) if valid_dataset_path else None,\n",
    "                \"train\": list(map(float, losses['train'])),\n",
    "                \"valid\": list(map(float, losses['valid'])) if valid_dataset_path else None,\n",
    "                \"train_epoch\": list(map(int, losses['train_epoch'])),\n",
    "                \"valid_epoch\": list(map(int, losses['valid_epoch'])) if valid_dataset_path else None,\n",
    "        }\n",
    "                \n",
    "\n",
    "        with open(stats_fpath, \"w\") as fp:\n",
    "                json.dump(stats, fp)\n",
    "\n",
    "        # save experiment setttings\n",
    "        experiment_settings['time_finish'] = str(datetime.datetime.now())\n",
    "        with open(os.path.join(experiment_folder, 'experiment_settings.json'), 'w') as fp:\n",
    "                json.dump(experiment_settings, fp)"
   ]
  },
  {
   "cell_type": "markdown",
   "metadata": {},
   "source": [
    "# Eval model clasterization"
   ]
  },
  {
   "cell_type": "code",
   "execution_count": 22,
   "metadata": {},
   "outputs": [],
   "source": [
    "from sklearn.metrics import silhouette_score\n",
    "from sklearn.metrics import calinski_harabasz_score\n",
    "from sklearn.metrics import davies_bouldin_score\n",
    "from clustering_metrics import *\n",
    "\n",
    "def eval_model_clustering(model, dl, device):\n",
    "    with torch.no_grad():\n",
    "        all_pred = []\n",
    "        all_labels = []\n",
    "\n",
    "        for batch in dl:\n",
    "            images = batch['input'].to(device)\n",
    "            images = torch.unsqueeze(images, 1)\n",
    "\n",
    "            labels = batch['target'].to(device)\n",
    "\n",
    "            net_out = model(images)\n",
    "\n",
    "            all_pred += net_out.tolist()\n",
    "            all_labels += labels.tolist()\n",
    "\n",
    "        silhouette = silhouette_score(all_pred, all_labels) # Higher - better, top is 1,   -1..0..1 wrong_class_assignmetnt...overlapping...good\n",
    "        calhar = calinski_harabasz_score(all_pred, all_labels) / len(all_labels) # Higher - better, top is inf? so norming\n",
    "        davbou = davies_bouldin_score(all_pred, all_labels) # lower better\n",
    "\n",
    "        all_pred = torch.tensor(all_pred)\n",
    "        all_labels = torch.tensor(all_labels)\n",
    "        fc = clustering_metric_fc(all_pred, all_labels)\n",
    "        hv, hv_max = clustering_metric_hv(all_pred, all_labels, 100)\n",
    "\n",
    "        result = {\n",
    "            \"fc\": fc,\n",
    "            \"hv\": hv,\n",
    "            \"silhouette_score\": silhouette,\n",
    "            \"calinski_harabasz_score\": calhar,\n",
    "            \"davies_bouldin_score\": davbou\n",
    "        }\n",
    "\n",
    "    return result"
   ]
  },
  {
   "cell_type": "code",
   "execution_count": 23,
   "metadata": {},
   "outputs": [],
   "source": [
    "def extract_number_from_filename(filename):\n",
    "    try:\n",
    "        return int(filename.split('_')[1])\n",
    "    except (ValueError, IndexError):\n",
    "        return float('inf')\n",
    "\n",
    "def plot_triple(x, y1, y2, y3, y1_title, y2_title, y3_title, y_axes, x_axes, title, fname):\n",
    "    sns.set(style=\"whitegrid\")\n",
    "    plt.figure(figsize=(8, 6))\n",
    "\n",
    "    sns.lineplot(x=x, y=y1, marker='o', label=y1_title, color='blue')\n",
    "    sns.lineplot(x=x, y=y2, marker='s', label=y2_title, color='green')\n",
    "    sns.lineplot(x=x, y=y3, marker='D', label=y3_title, color='red')\n",
    "\n",
    "    plt.xlabel(x_axes)\n",
    "    plt.ylabel(y_axes)\n",
    "    plt.title(title)\n",
    "\n",
    "    plt.legend()\n",
    "    plt.ioff()\n",
    "    plt.savefig(fname, dpi=300)\n",
    "    plt.close()\n",
    "    plt.ion()\n",
    "\n",
    "def eval_experiment_clusterization(experiment_folder, every_nth, batch_size, device):\n",
    "    train_dataset_path = 'datasets/speech_commands/train'\n",
    "    valid_dataset_path = 'datasets/speech_commands/validation'\n",
    "    test_dataset_path = 'datasets/speech_commands/test'\n",
    "\n",
    "    experiment_settings_path = os.path.join(experiment_folder, \"experiment_settings.json\")\n",
    "\n",
    "    with open(experiment_settings_path, 'r') as fp:\n",
    "        experiment_settings = json.load(fp)\n",
    "    \n",
    "    model = create_model(experiment_settings['model'])\n",
    "    model.to(device)\n",
    "    model.eval()\n",
    "\n",
    "    n_mels = experiment_settings['model']['n_mels']\n",
    "\n",
    "    feature_transform = Compose([ToSTFT(), ToMelSpectrogramFromSTFT(n_mels=n_mels), ToTensor('mel_spectrogram', 'input')])\n",
    "\n",
    "    train_dataset = SpeechCommandsDataset(train_dataset_path,\n",
    "                                Compose([LoadAudio(),\n",
    "                                        FixAudioLength(),\n",
    "                                        feature_transform]))\n",
    "\n",
    "    valid_dataset = SpeechCommandsDataset(valid_dataset_path,\n",
    "                                    Compose([LoadAudio(),\n",
    "                                            FixAudioLength(),\n",
    "                                            feature_transform]))\n",
    "    \n",
    "    test_dataset = SpeechCommandsDataset(test_dataset_path,\n",
    "                                    Compose([LoadAudio(),\n",
    "                                            FixAudioLength(),\n",
    "                                            feature_transform]))\n",
    "\n",
    "\n",
    "    dl_train = DataLoader(train_dataset, batch_size=batch_size, shuffle=True, num_workers=16, prefetch_factor=2)\n",
    "    dl_valid = DataLoader(valid_dataset, batch_size=batch_size, shuffle=True, num_workers=16, prefetch_factor=2)\n",
    "    dl_test = DataLoader(test_dataset, batch_size=batch_size, shuffle=True, num_workers=16, prefetch_factor=2)\n",
    "\n",
    "    checkpoints_folder = os.path.join(experiment_folder, 'checkpoints')\n",
    "    checkpoints_fnames = [f for f in os.listdir(checkpoints_folder) if os.path.isfile(os.path.join(checkpoints_folder, f))]\n",
    "    checkpoints_fnames = sorted(checkpoints_fnames, key=extract_number_from_filename)\n",
    "\n",
    "    checkpoints_fnames_nth = checkpoints_fnames[0:-1:every_nth]\n",
    "    checkpoints_fnames_nth.append(checkpoints_fnames[-1])\n",
    "\n",
    "    metrics_names        = [\"fc\", \"hv\", \"silhouette_score\", \"calinski_harabasz_score\", \"davies_bouldin_score\"]\n",
    "    metrics_better_order = {\"fc\": \"descending\",\n",
    "                            \"hv\": \"descending\",\n",
    "                            \"silhouette_score\": \"ascending\",\n",
    "                            \"calinski_harabasz_score\": \"ascending\",\n",
    "                            \"davies_bouldin_score\": \"descending\"}   \n",
    "    result = {}\n",
    "\n",
    "    for m in metrics_names:\n",
    "        result[m] = {\n",
    "            \"train\": [],\n",
    "            \"valid\": [],\n",
    "            \"test\": [],\n",
    "            \"epoch\": []\n",
    "        }\n",
    "\n",
    "    for checkpoint_fname in tqdm.tqdm(checkpoints_fnames_nth):\n",
    "        checkpoint_fname = os.path.join(checkpoints_folder, checkpoint_fname)\n",
    "\n",
    "        checkpoint = torch.load(checkpoint_fname)\n",
    "        state_dict = checkpoint['state_dict']\n",
    "        cur_epoch = checkpoint['epoch']\n",
    "        remove_prefix = 'module.'\n",
    "        state_dict = {k[len(remove_prefix):] if k.startswith(remove_prefix) else k: v for k, v in state_dict.items()}\n",
    "\n",
    "        model.load_state_dict(state_dict, strict=False)\n",
    "        model.to(device)\n",
    "        model.eval()\n",
    "\n",
    "        train_clustering = eval_model_clustering(model, dl_train, device)\n",
    "        valid_clustering = eval_model_clustering(model, dl_valid, device)\n",
    "        test_clustering = eval_model_clustering(model, dl_test, device)\n",
    "\n",
    "        for m in metrics_names:\n",
    "            result[m]['train'].append(train_clustering[m])\n",
    "            result[m]['valid'].append(valid_clustering[m])\n",
    "            result[m]['test'].append(test_clustering[m])\n",
    "            result[m]['epoch'].append(cur_epoch)\n",
    "\n",
    "    # print(result)\n",
    "\n",
    "    for m in metrics_names:\n",
    "        if metrics_better_order[m] == \"descending\":\n",
    "            result[m]['best_train'] = float(np.min(result[m]['train']))\n",
    "            result[m]['best_train_epoch'] = int(result[m]['epoch'][int(np.argmin(result[m]['train']))])\n",
    "            result[m]['best_valid'] = float(np.min(result[m]['valid']))\n",
    "            result[m]['best_valid_epoch'] = int(result[m]['epoch'][int(np.argmin(result[m]['valid']))])\n",
    "            result[m]['best_test'] = float(np.min(result[m]['test']))\n",
    "            result[m]['best_test_epoch'] = int(result[m]['epoch'][int(np.argmin(result[m]['test']))])\n",
    "        elif metrics_better_order[m] == \"ascending\":\n",
    "            result[m]['best_train'] = float(np.max(result[m]['train']))\n",
    "            result[m]['best_train_epoch'] = int(result[m]['epoch'][int(np.argmax(result[m]['train']))])\n",
    "            result[m]['best_valid'] = float(np.max(result[m]['valid']))\n",
    "            result[m]['best_valid_epoch'] = int(result[m]['epoch'][int(np.argmax(result[m]['valid']))])\n",
    "            result[m]['best_test'] = float(np.max(result[m]['test']))\n",
    "            result[m]['best_test_epoch'] = int(result[m]['epoch'][int(np.argmax(result[m]['test']))])\n",
    "        else:\n",
    "            print(f\"[FATAL ERROR]: {metrics_better_order[m]}\")\n",
    "\n",
    "    \n",
    "    # load stats if exists and add loss\n",
    "    stats_fpath = os.path.join(experiment_folder, 'stats.json')\n",
    "    new_stats_fpath = os.path.join(experiment_folder, 'stats.json')\n",
    "\n",
    "    stats = {}\n",
    "    if os.path.isfile(stats_fpath):\n",
    "            with open(stats_fpath, \"r\") as fp:\n",
    "                    stats = json.load(fp)\n",
    "\n",
    "    stats[\"clustering_metrics\"] = result\n",
    "\n",
    "    # print(result)\n",
    "\n",
    "    with open(new_stats_fpath, \"w\") as fp:\n",
    "            json.dump(stats, fp)\n",
    "\n",
    "    \n",
    "    return result"
   ]
  },
  {
   "cell_type": "code",
   "execution_count": 24,
   "metadata": {},
   "outputs": [
    {
     "name": "stdout",
     "output_type": "stream",
     "text": [
      "['silhouette_margin_02']\n",
      "Start silhouette_margin_02 -- 2023-11-26 15:56:23.042937\n"
     ]
    },
    {
     "data": {
      "application/vnd.jupyter.widget-view+json": {
       "model_id": "65b9d2327b434e8b8da383a804a4a82a",
       "version_major": 2,
       "version_minor": 0
      },
      "text/plain": [
       "  0%|          | 0/41 [00:00<?, ?it/s]"
      ]
     },
     "metadata": {},
     "output_type": "display_data"
    },
    {
     "name": "stdout",
     "output_type": "stream",
     "text": [
      "Finished silhouette_margin_02 -- 2023-11-26 16:38:29.763114 -- 0:42:06.720177\n"
     ]
    }
   ],
   "source": [
    "experiments_dir = '/home/basil/Desktop/msu_4_coursework/experiments'\n",
    "\n",
    "# items = os.listdir(experiments_dir)\n",
    "# to_do_list = [item for item in items if os.path.isdir(os.path.join(experiments_dir, item))]\n",
    "# to_do_list = list(sorted(to_do_list))\n",
    "to_do_list = ['silhouette_margin_02']\n",
    "print(to_do_list)\n",
    "    \n",
    "for experiment_name in to_do_list:\n",
    "    start_time = datetime.datetime.now()\n",
    "    print(f\"Start {experiment_name} -- {start_time}\")\n",
    "\n",
    "    experiment_folder = os.path.join(experiments_dir, experiment_name)\n",
    "    result = eval_experiment_clusterization(experiment_folder, 5, 64, device)\n",
    "    \n",
    "    end_time = datetime.datetime.now()\n",
    "    print(f\"Finished {experiment_name} -- {end_time} -- {end_time - start_time}\")\n",
    "\n",
    "    "
   ]
  },
  {
   "cell_type": "markdown",
   "metadata": {},
   "source": [
    "# TSNE"
   ]
  },
  {
   "cell_type": "code",
   "execution_count": null,
   "metadata": {},
   "outputs": [],
   "source": [
    "experiments_dir = '/home/basil/Desktop/msu_4_coursework/experiments'\n",
    "\n",
    "# items = os.listdir(experiments_dir)\n",
    "# to_do_list = [item for item in items if os.path.isdir(os.path.join(experiments_dir, item))]\n",
    "# to_do_list = list(sorted(to_do_list))\n",
    "to_do_list = ['triplet_br_07', 'triplet_br_08']\n",
    "print(to_do_list)\n",
    "    \n",
    "for experiment_name in to_do_list:\n",
    "    start_time = datetime.datetime.now()\n",
    "    print(f\"Start {experiment_name} -- {start_time}\")\n",
    "\n",
    "    experiment_folder = os.path.join(experiments_dir, experiment_name)\n",
    "    result = eval_experiment_clusterization(experiment_folder, 5, 128, device)\n",
    "    \n",
    "    end_time = datetime.datetime.now()\n",
    "    print(f\"Finished {experiment_name} -- {end_time} -- {end_time - start_time}\")\n",
    "\n",
    "    \n",
    "    "
   ]
  },
  {
   "cell_type": "markdown",
   "metadata": {},
   "source": [
    "# Experiments"
   ]
  },
  {
   "cell_type": "code",
   "execution_count": 21,
   "metadata": {},
   "outputs": [
    {
     "name": "stdout",
     "output_type": "stream",
     "text": [
      "train_dataset_path = datasets/speech_commands/train\n",
      "valid_dataset_path = datasets/speech_commands/validation\n",
      "<class 'torch.device'> cuda:0\n",
      "Start experiment silhouette_margin_02 -- 2023-11-26 09:43:39.626790\n",
      "Model total params: 31104\n",
      "Model train params: 31104\n",
      "margin = 5.0\n"
     ]
    },
    {
     "data": {
      "application/vnd.jupyter.widget-view+json": {
       "model_id": "5314198172d9429bab481cb327d42ad3",
       "version_major": 2,
       "version_minor": 0
      },
      "text/plain": [
       "  0%|          | 0/200 [00:00<?, ?it/s]"
      ]
     },
     "metadata": {},
     "output_type": "display_data"
    },
    {
     "data": {
      "application/vnd.jupyter.widget-view+json": {
       "model_id": "f88e0db47a144344bc109c97df497fa1",
       "version_major": 2,
       "version_minor": 0
      },
      "text/plain": [
       "  0%|          | 0/356 [00:00<?, ?it/s]"
      ]
     },
     "metadata": {},
     "output_type": "display_data"
    },
    {
     "data": {
      "application/vnd.jupyter.widget-view+json": {
       "model_id": "4fd309e8752041688aa691da35a23126",
       "version_major": 2,
       "version_minor": 0
      },
      "text/plain": [
       "  0%|          | 0/88 [00:00<?, ?it/s]"
      ]
     },
     "metadata": {},
     "output_type": "display_data"
    },
    {
     "data": {
      "application/vnd.jupyter.widget-view+json": {
       "model_id": "9aab6b75ff8d4603ace4309197787f6a",
       "version_major": 2,
       "version_minor": 0
      },
      "text/plain": [
       "  0%|          | 0/356 [00:00<?, ?it/s]"
      ]
     },
     "metadata": {},
     "output_type": "display_data"
    },
    {
     "data": {
      "application/vnd.jupyter.widget-view+json": {
       "model_id": "cccb9d6b52fb4010bac4514f1d6fcbdc",
       "version_major": 2,
       "version_minor": 0
      },
      "text/plain": [
       "  0%|          | 0/356 [00:00<?, ?it/s]"
      ]
     },
     "metadata": {},
     "output_type": "display_data"
    },
    {
     "data": {
      "application/vnd.jupyter.widget-view+json": {
       "model_id": "59b108ee844442f5b11e54e84f705b3f",
       "version_major": 2,
       "version_minor": 0
      },
      "text/plain": [
       "  0%|          | 0/356 [00:00<?, ?it/s]"
      ]
     },
     "metadata": {},
     "output_type": "display_data"
    },
    {
     "data": {
      "application/vnd.jupyter.widget-view+json": {
       "model_id": "a38430113f484b0cbb0e6a0524d23081",
       "version_major": 2,
       "version_minor": 0
      },
      "text/plain": [
       "  0%|          | 0/88 [00:00<?, ?it/s]"
      ]
     },
     "metadata": {},
     "output_type": "display_data"
    },
    {
     "data": {
      "application/vnd.jupyter.widget-view+json": {
       "model_id": "9e9ec4942c64467792b703b556a2397c",
       "version_major": 2,
       "version_minor": 0
      },
      "text/plain": [
       "  0%|          | 0/356 [00:00<?, ?it/s]"
      ]
     },
     "metadata": {},
     "output_type": "display_data"
    },
    {
     "data": {
      "application/vnd.jupyter.widget-view+json": {
       "model_id": "029b62b4eee14a0e93e7893ead5777fa",
       "version_major": 2,
       "version_minor": 0
      },
      "text/plain": [
       "  0%|          | 0/356 [00:00<?, ?it/s]"
      ]
     },
     "metadata": {},
     "output_type": "display_data"
    },
    {
     "data": {
      "application/vnd.jupyter.widget-view+json": {
       "model_id": "3e38b50af05f447b8821b29576f4b0ea",
       "version_major": 2,
       "version_minor": 0
      },
      "text/plain": [
       "  0%|          | 0/356 [00:00<?, ?it/s]"
      ]
     },
     "metadata": {},
     "output_type": "display_data"
    },
    {
     "data": {
      "application/vnd.jupyter.widget-view+json": {
       "model_id": "73196871ceda49cf8b4a316ac052c3e2",
       "version_major": 2,
       "version_minor": 0
      },
      "text/plain": [
       "  0%|          | 0/88 [00:00<?, ?it/s]"
      ]
     },
     "metadata": {},
     "output_type": "display_data"
    },
    {
     "data": {
      "application/vnd.jupyter.widget-view+json": {
       "model_id": "4340f2d635ca46fbafdbc0482ec2125b",
       "version_major": 2,
       "version_minor": 0
      },
      "text/plain": [
       "  0%|          | 0/356 [00:00<?, ?it/s]"
      ]
     },
     "metadata": {},
     "output_type": "display_data"
    },
    {
     "data": {
      "application/vnd.jupyter.widget-view+json": {
       "model_id": "54ee6d6297f048e8a3209be4555b4833",
       "version_major": 2,
       "version_minor": 0
      },
      "text/plain": [
       "  0%|          | 0/356 [00:00<?, ?it/s]"
      ]
     },
     "metadata": {},
     "output_type": "display_data"
    },
    {
     "data": {
      "application/vnd.jupyter.widget-view+json": {
       "model_id": "76c4a7cc913f4a0a9f7946031f21749b",
       "version_major": 2,
       "version_minor": 0
      },
      "text/plain": [
       "  0%|          | 0/356 [00:00<?, ?it/s]"
      ]
     },
     "metadata": {},
     "output_type": "display_data"
    },
    {
     "data": {
      "application/vnd.jupyter.widget-view+json": {
       "model_id": "c3d9aae5d54e4bfb860536dfbb067847",
       "version_major": 2,
       "version_minor": 0
      },
      "text/plain": [
       "  0%|          | 0/88 [00:00<?, ?it/s]"
      ]
     },
     "metadata": {},
     "output_type": "display_data"
    },
    {
     "data": {
      "application/vnd.jupyter.widget-view+json": {
       "model_id": "b9ab0ad87b3c406c8e6947458252cd84",
       "version_major": 2,
       "version_minor": 0
      },
      "text/plain": [
       "  0%|          | 0/356 [00:00<?, ?it/s]"
      ]
     },
     "metadata": {},
     "output_type": "display_data"
    },
    {
     "data": {
      "application/vnd.jupyter.widget-view+json": {
       "model_id": "856d278a667c42b1857002dce8f20a4d",
       "version_major": 2,
       "version_minor": 0
      },
      "text/plain": [
       "  0%|          | 0/356 [00:00<?, ?it/s]"
      ]
     },
     "metadata": {},
     "output_type": "display_data"
    },
    {
     "data": {
      "application/vnd.jupyter.widget-view+json": {
       "model_id": "00e89d6871a049efb6c242aa2101e16b",
       "version_major": 2,
       "version_minor": 0
      },
      "text/plain": [
       "  0%|          | 0/356 [00:00<?, ?it/s]"
      ]
     },
     "metadata": {},
     "output_type": "display_data"
    },
    {
     "data": {
      "application/vnd.jupyter.widget-view+json": {
       "model_id": "46d6074c39504a898b722f8f27c9de31",
       "version_major": 2,
       "version_minor": 0
      },
      "text/plain": [
       "  0%|          | 0/88 [00:00<?, ?it/s]"
      ]
     },
     "metadata": {},
     "output_type": "display_data"
    },
    {
     "data": {
      "application/vnd.jupyter.widget-view+json": {
       "model_id": "c54e915d87244ef8a62f2c140f52958c",
       "version_major": 2,
       "version_minor": 0
      },
      "text/plain": [
       "  0%|          | 0/356 [00:00<?, ?it/s]"
      ]
     },
     "metadata": {},
     "output_type": "display_data"
    },
    {
     "data": {
      "application/vnd.jupyter.widget-view+json": {
       "model_id": "13ab81d7dd9740348172eb4d10b535f4",
       "version_major": 2,
       "version_minor": 0
      },
      "text/plain": [
       "  0%|          | 0/356 [00:00<?, ?it/s]"
      ]
     },
     "metadata": {},
     "output_type": "display_data"
    },
    {
     "data": {
      "application/vnd.jupyter.widget-view+json": {
       "model_id": "c82937984e5642449535244d86d91022",
       "version_major": 2,
       "version_minor": 0
      },
      "text/plain": [
       "  0%|          | 0/356 [00:00<?, ?it/s]"
      ]
     },
     "metadata": {},
     "output_type": "display_data"
    },
    {
     "data": {
      "application/vnd.jupyter.widget-view+json": {
       "model_id": "e36380bb722146afb192cf5c5c358f2a",
       "version_major": 2,
       "version_minor": 0
      },
      "text/plain": [
       "  0%|          | 0/88 [00:00<?, ?it/s]"
      ]
     },
     "metadata": {},
     "output_type": "display_data"
    },
    {
     "data": {
      "application/vnd.jupyter.widget-view+json": {
       "model_id": "ea848513dc274b7798d69c48eb159b54",
       "version_major": 2,
       "version_minor": 0
      },
      "text/plain": [
       "  0%|          | 0/356 [00:00<?, ?it/s]"
      ]
     },
     "metadata": {},
     "output_type": "display_data"
    },
    {
     "data": {
      "application/vnd.jupyter.widget-view+json": {
       "model_id": "36339123b06444f9aa2f8bb51410b7cf",
       "version_major": 2,
       "version_minor": 0
      },
      "text/plain": [
       "  0%|          | 0/356 [00:00<?, ?it/s]"
      ]
     },
     "metadata": {},
     "output_type": "display_data"
    },
    {
     "data": {
      "application/vnd.jupyter.widget-view+json": {
       "model_id": "b3110d9d0c1846a8af571677c310039e",
       "version_major": 2,
       "version_minor": 0
      },
      "text/plain": [
       "  0%|          | 0/356 [00:00<?, ?it/s]"
      ]
     },
     "metadata": {},
     "output_type": "display_data"
    },
    {
     "data": {
      "application/vnd.jupyter.widget-view+json": {
       "model_id": "dbbe23127df34fdb815818d193d9dc28",
       "version_major": 2,
       "version_minor": 0
      },
      "text/plain": [
       "  0%|          | 0/88 [00:00<?, ?it/s]"
      ]
     },
     "metadata": {},
     "output_type": "display_data"
    },
    {
     "data": {
      "application/vnd.jupyter.widget-view+json": {
       "model_id": "712ba9e379e844aaa68220d65a09c60a",
       "version_major": 2,
       "version_minor": 0
      },
      "text/plain": [
       "  0%|          | 0/356 [00:00<?, ?it/s]"
      ]
     },
     "metadata": {},
     "output_type": "display_data"
    },
    {
     "data": {
      "application/vnd.jupyter.widget-view+json": {
       "model_id": "794302ddf18048b795f5dd92e059e831",
       "version_major": 2,
       "version_minor": 0
      },
      "text/plain": [
       "  0%|          | 0/356 [00:00<?, ?it/s]"
      ]
     },
     "metadata": {},
     "output_type": "display_data"
    },
    {
     "data": {
      "application/vnd.jupyter.widget-view+json": {
       "model_id": "015105b29d3a4019bc1ddf73d92469b6",
       "version_major": 2,
       "version_minor": 0
      },
      "text/plain": [
       "  0%|          | 0/356 [00:00<?, ?it/s]"
      ]
     },
     "metadata": {},
     "output_type": "display_data"
    },
    {
     "data": {
      "application/vnd.jupyter.widget-view+json": {
       "model_id": "0da0c1bf525f447496198a3b75681ede",
       "version_major": 2,
       "version_minor": 0
      },
      "text/plain": [
       "  0%|          | 0/88 [00:00<?, ?it/s]"
      ]
     },
     "metadata": {},
     "output_type": "display_data"
    },
    {
     "data": {
      "application/vnd.jupyter.widget-view+json": {
       "model_id": "03e15e9ca3b0495499f7ef8b6c4dbcd4",
       "version_major": 2,
       "version_minor": 0
      },
      "text/plain": [
       "  0%|          | 0/356 [00:00<?, ?it/s]"
      ]
     },
     "metadata": {},
     "output_type": "display_data"
    },
    {
     "data": {
      "application/vnd.jupyter.widget-view+json": {
       "model_id": "c25c2e935e624ae39d7ce981c29d229d",
       "version_major": 2,
       "version_minor": 0
      },
      "text/plain": [
       "  0%|          | 0/356 [00:00<?, ?it/s]"
      ]
     },
     "metadata": {},
     "output_type": "display_data"
    },
    {
     "data": {
      "application/vnd.jupyter.widget-view+json": {
       "model_id": "604d567396a14019855af949dd5ed9a5",
       "version_major": 2,
       "version_minor": 0
      },
      "text/plain": [
       "  0%|          | 0/356 [00:00<?, ?it/s]"
      ]
     },
     "metadata": {},
     "output_type": "display_data"
    },
    {
     "data": {
      "application/vnd.jupyter.widget-view+json": {
       "model_id": "ff0bb6e81e9547b49594688600a5fc1a",
       "version_major": 2,
       "version_minor": 0
      },
      "text/plain": [
       "  0%|          | 0/88 [00:00<?, ?it/s]"
      ]
     },
     "metadata": {},
     "output_type": "display_data"
    },
    {
     "data": {
      "application/vnd.jupyter.widget-view+json": {
       "model_id": "32f52201ed424d4ea2d8dfe38e187f3c",
       "version_major": 2,
       "version_minor": 0
      },
      "text/plain": [
       "  0%|          | 0/356 [00:00<?, ?it/s]"
      ]
     },
     "metadata": {},
     "output_type": "display_data"
    },
    {
     "data": {
      "application/vnd.jupyter.widget-view+json": {
       "model_id": "0c245a60b67f4e82b9360affaa2d9a8d",
       "version_major": 2,
       "version_minor": 0
      },
      "text/plain": [
       "  0%|          | 0/356 [00:00<?, ?it/s]"
      ]
     },
     "metadata": {},
     "output_type": "display_data"
    },
    {
     "data": {
      "application/vnd.jupyter.widget-view+json": {
       "model_id": "3ea62d6ed6c9473eb0daecf5c79cbfd4",
       "version_major": 2,
       "version_minor": 0
      },
      "text/plain": [
       "  0%|          | 0/356 [00:00<?, ?it/s]"
      ]
     },
     "metadata": {},
     "output_type": "display_data"
    },
    {
     "data": {
      "application/vnd.jupyter.widget-view+json": {
       "model_id": "55dcd9e78b3b45f8a299c196c4ea03cf",
       "version_major": 2,
       "version_minor": 0
      },
      "text/plain": [
       "  0%|          | 0/88 [00:00<?, ?it/s]"
      ]
     },
     "metadata": {},
     "output_type": "display_data"
    },
    {
     "data": {
      "application/vnd.jupyter.widget-view+json": {
       "model_id": "976cfc486eff446bb3022798d7998605",
       "version_major": 2,
       "version_minor": 0
      },
      "text/plain": [
       "  0%|          | 0/356 [00:00<?, ?it/s]"
      ]
     },
     "metadata": {},
     "output_type": "display_data"
    },
    {
     "data": {
      "application/vnd.jupyter.widget-view+json": {
       "model_id": "1501de5218b04efbb294fb7d10db640e",
       "version_major": 2,
       "version_minor": 0
      },
      "text/plain": [
       "  0%|          | 0/356 [00:00<?, ?it/s]"
      ]
     },
     "metadata": {},
     "output_type": "display_data"
    },
    {
     "data": {
      "application/vnd.jupyter.widget-view+json": {
       "model_id": "0a23b60e336e4cd09f1171f6e2e62efa",
       "version_major": 2,
       "version_minor": 0
      },
      "text/plain": [
       "  0%|          | 0/356 [00:00<?, ?it/s]"
      ]
     },
     "metadata": {},
     "output_type": "display_data"
    },
    {
     "data": {
      "application/vnd.jupyter.widget-view+json": {
       "model_id": "1e3306adc9224e2c8e4219080ecc77d4",
       "version_major": 2,
       "version_minor": 0
      },
      "text/plain": [
       "  0%|          | 0/88 [00:00<?, ?it/s]"
      ]
     },
     "metadata": {},
     "output_type": "display_data"
    },
    {
     "data": {
      "application/vnd.jupyter.widget-view+json": {
       "model_id": "f71d49809ed84460bee8b22246105a41",
       "version_major": 2,
       "version_minor": 0
      },
      "text/plain": [
       "  0%|          | 0/356 [00:00<?, ?it/s]"
      ]
     },
     "metadata": {},
     "output_type": "display_data"
    },
    {
     "data": {
      "application/vnd.jupyter.widget-view+json": {
       "model_id": "242ffdaab35b412d902eab92155eab6d",
       "version_major": 2,
       "version_minor": 0
      },
      "text/plain": [
       "  0%|          | 0/356 [00:00<?, ?it/s]"
      ]
     },
     "metadata": {},
     "output_type": "display_data"
    },
    {
     "data": {
      "application/vnd.jupyter.widget-view+json": {
       "model_id": "fcd75ebce3564a738cc57a337e71ca70",
       "version_major": 2,
       "version_minor": 0
      },
      "text/plain": [
       "  0%|          | 0/356 [00:00<?, ?it/s]"
      ]
     },
     "metadata": {},
     "output_type": "display_data"
    },
    {
     "data": {
      "application/vnd.jupyter.widget-view+json": {
       "model_id": "1329407b1c8f4abd8f9a8da2db2341a3",
       "version_major": 2,
       "version_minor": 0
      },
      "text/plain": [
       "  0%|          | 0/88 [00:00<?, ?it/s]"
      ]
     },
     "metadata": {},
     "output_type": "display_data"
    },
    {
     "data": {
      "application/vnd.jupyter.widget-view+json": {
       "model_id": "38e1802fff6744bd936c2192179f33e4",
       "version_major": 2,
       "version_minor": 0
      },
      "text/plain": [
       "  0%|          | 0/356 [00:00<?, ?it/s]"
      ]
     },
     "metadata": {},
     "output_type": "display_data"
    },
    {
     "data": {
      "application/vnd.jupyter.widget-view+json": {
       "model_id": "a370a8fcb3714a73a43a5824d7776678",
       "version_major": 2,
       "version_minor": 0
      },
      "text/plain": [
       "  0%|          | 0/356 [00:00<?, ?it/s]"
      ]
     },
     "metadata": {},
     "output_type": "display_data"
    },
    {
     "data": {
      "application/vnd.jupyter.widget-view+json": {
       "model_id": "1ad7b71b7ae84d7d90ef6373ead8938c",
       "version_major": 2,
       "version_minor": 0
      },
      "text/plain": [
       "  0%|          | 0/356 [00:00<?, ?it/s]"
      ]
     },
     "metadata": {},
     "output_type": "display_data"
    },
    {
     "data": {
      "application/vnd.jupyter.widget-view+json": {
       "model_id": "ccc172d3b3ea4bca9dbc8e1f11a0c3d7",
       "version_major": 2,
       "version_minor": 0
      },
      "text/plain": [
       "  0%|          | 0/88 [00:00<?, ?it/s]"
      ]
     },
     "metadata": {},
     "output_type": "display_data"
    },
    {
     "data": {
      "application/vnd.jupyter.widget-view+json": {
       "model_id": "c4a2d74129c14d7c9bcc841bf801af46",
       "version_major": 2,
       "version_minor": 0
      },
      "text/plain": [
       "  0%|          | 0/356 [00:00<?, ?it/s]"
      ]
     },
     "metadata": {},
     "output_type": "display_data"
    },
    {
     "data": {
      "application/vnd.jupyter.widget-view+json": {
       "model_id": "8c746160cf484182bc7bdf1050b076b6",
       "version_major": 2,
       "version_minor": 0
      },
      "text/plain": [
       "  0%|          | 0/356 [00:00<?, ?it/s]"
      ]
     },
     "metadata": {},
     "output_type": "display_data"
    },
    {
     "data": {
      "application/vnd.jupyter.widget-view+json": {
       "model_id": "8ebfb2d2f1bb40098d45c0af83fc15ba",
       "version_major": 2,
       "version_minor": 0
      },
      "text/plain": [
       "  0%|          | 0/356 [00:00<?, ?it/s]"
      ]
     },
     "metadata": {},
     "output_type": "display_data"
    },
    {
     "data": {
      "application/vnd.jupyter.widget-view+json": {
       "model_id": "681835c4c8074f67a799779adb1ea595",
       "version_major": 2,
       "version_minor": 0
      },
      "text/plain": [
       "  0%|          | 0/88 [00:00<?, ?it/s]"
      ]
     },
     "metadata": {},
     "output_type": "display_data"
    },
    {
     "data": {
      "application/vnd.jupyter.widget-view+json": {
       "model_id": "56ca90ce355c4a91915ce02ff0858454",
       "version_major": 2,
       "version_minor": 0
      },
      "text/plain": [
       "  0%|          | 0/356 [00:00<?, ?it/s]"
      ]
     },
     "metadata": {},
     "output_type": "display_data"
    },
    {
     "data": {
      "application/vnd.jupyter.widget-view+json": {
       "model_id": "7ef50890493a481eb2c73e732b0ad2bb",
       "version_major": 2,
       "version_minor": 0
      },
      "text/plain": [
       "  0%|          | 0/356 [00:00<?, ?it/s]"
      ]
     },
     "metadata": {},
     "output_type": "display_data"
    },
    {
     "data": {
      "application/vnd.jupyter.widget-view+json": {
       "model_id": "b4000ab81b554c6da6164843786567ac",
       "version_major": 2,
       "version_minor": 0
      },
      "text/plain": [
       "  0%|          | 0/356 [00:00<?, ?it/s]"
      ]
     },
     "metadata": {},
     "output_type": "display_data"
    },
    {
     "data": {
      "application/vnd.jupyter.widget-view+json": {
       "model_id": "4ec2199c32954d92842114a69de0c625",
       "version_major": 2,
       "version_minor": 0
      },
      "text/plain": [
       "  0%|          | 0/88 [00:00<?, ?it/s]"
      ]
     },
     "metadata": {},
     "output_type": "display_data"
    },
    {
     "data": {
      "application/vnd.jupyter.widget-view+json": {
       "model_id": "00bef355cd954290a4cb863f1d91c9ce",
       "version_major": 2,
       "version_minor": 0
      },
      "text/plain": [
       "  0%|          | 0/356 [00:00<?, ?it/s]"
      ]
     },
     "metadata": {},
     "output_type": "display_data"
    },
    {
     "data": {
      "application/vnd.jupyter.widget-view+json": {
       "model_id": "f93ae1f7c6954237a3900e4cd755fb4f",
       "version_major": 2,
       "version_minor": 0
      },
      "text/plain": [
       "  0%|          | 0/356 [00:00<?, ?it/s]"
      ]
     },
     "metadata": {},
     "output_type": "display_data"
    },
    {
     "data": {
      "application/vnd.jupyter.widget-view+json": {
       "model_id": "cd676d6a0f83473ea0e3cfbcea9ed49d",
       "version_major": 2,
       "version_minor": 0
      },
      "text/plain": [
       "  0%|          | 0/356 [00:00<?, ?it/s]"
      ]
     },
     "metadata": {},
     "output_type": "display_data"
    },
    {
     "data": {
      "application/vnd.jupyter.widget-view+json": {
       "model_id": "80b2d2e0329f4e39b044d8ffbe51c0a9",
       "version_major": 2,
       "version_minor": 0
      },
      "text/plain": [
       "  0%|          | 0/88 [00:00<?, ?it/s]"
      ]
     },
     "metadata": {},
     "output_type": "display_data"
    },
    {
     "data": {
      "application/vnd.jupyter.widget-view+json": {
       "model_id": "3c136d90233c4c5198a3e740553f078b",
       "version_major": 2,
       "version_minor": 0
      },
      "text/plain": [
       "  0%|          | 0/356 [00:00<?, ?it/s]"
      ]
     },
     "metadata": {},
     "output_type": "display_data"
    },
    {
     "data": {
      "application/vnd.jupyter.widget-view+json": {
       "model_id": "ea8e12d66b954d4f8cc297278644bbc9",
       "version_major": 2,
       "version_minor": 0
      },
      "text/plain": [
       "  0%|          | 0/356 [00:00<?, ?it/s]"
      ]
     },
     "metadata": {},
     "output_type": "display_data"
    },
    {
     "data": {
      "application/vnd.jupyter.widget-view+json": {
       "model_id": "109d25bf75bf478cbb832cdacd07bc34",
       "version_major": 2,
       "version_minor": 0
      },
      "text/plain": [
       "  0%|          | 0/356 [00:00<?, ?it/s]"
      ]
     },
     "metadata": {},
     "output_type": "display_data"
    },
    {
     "data": {
      "application/vnd.jupyter.widget-view+json": {
       "model_id": "e63898c08d664f84abc484a2198f8686",
       "version_major": 2,
       "version_minor": 0
      },
      "text/plain": [
       "  0%|          | 0/88 [00:00<?, ?it/s]"
      ]
     },
     "metadata": {},
     "output_type": "display_data"
    },
    {
     "data": {
      "application/vnd.jupyter.widget-view+json": {
       "model_id": "504a437b6b274e0291603b2cf90b9b84",
       "version_major": 2,
       "version_minor": 0
      },
      "text/plain": [
       "  0%|          | 0/356 [00:00<?, ?it/s]"
      ]
     },
     "metadata": {},
     "output_type": "display_data"
    },
    {
     "data": {
      "application/vnd.jupyter.widget-view+json": {
       "model_id": "ae3b8faead6f446a93f614d93a6303bf",
       "version_major": 2,
       "version_minor": 0
      },
      "text/plain": [
       "  0%|          | 0/356 [00:00<?, ?it/s]"
      ]
     },
     "metadata": {},
     "output_type": "display_data"
    },
    {
     "data": {
      "application/vnd.jupyter.widget-view+json": {
       "model_id": "fa821818ecb643c78f4db179ab2240e6",
       "version_major": 2,
       "version_minor": 0
      },
      "text/plain": [
       "  0%|          | 0/356 [00:00<?, ?it/s]"
      ]
     },
     "metadata": {},
     "output_type": "display_data"
    },
    {
     "data": {
      "application/vnd.jupyter.widget-view+json": {
       "model_id": "a1c1f0fafe684d83b1eb6f2d36f73b5b",
       "version_major": 2,
       "version_minor": 0
      },
      "text/plain": [
       "  0%|          | 0/88 [00:00<?, ?it/s]"
      ]
     },
     "metadata": {},
     "output_type": "display_data"
    },
    {
     "data": {
      "application/vnd.jupyter.widget-view+json": {
       "model_id": "5d32a08b50684ed893eb7e7cb4cca36a",
       "version_major": 2,
       "version_minor": 0
      },
      "text/plain": [
       "  0%|          | 0/356 [00:00<?, ?it/s]"
      ]
     },
     "metadata": {},
     "output_type": "display_data"
    },
    {
     "data": {
      "application/vnd.jupyter.widget-view+json": {
       "model_id": "6d07cf2b362d4c2eb1dac06544202827",
       "version_major": 2,
       "version_minor": 0
      },
      "text/plain": [
       "  0%|          | 0/356 [00:00<?, ?it/s]"
      ]
     },
     "metadata": {},
     "output_type": "display_data"
    },
    {
     "data": {
      "application/vnd.jupyter.widget-view+json": {
       "model_id": "ef8304c7c9cd4e82b8060d6395a73520",
       "version_major": 2,
       "version_minor": 0
      },
      "text/plain": [
       "  0%|          | 0/356 [00:00<?, ?it/s]"
      ]
     },
     "metadata": {},
     "output_type": "display_data"
    },
    {
     "data": {
      "application/vnd.jupyter.widget-view+json": {
       "model_id": "09051c52a20f485c9698b9399f461502",
       "version_major": 2,
       "version_minor": 0
      },
      "text/plain": [
       "  0%|          | 0/88 [00:00<?, ?it/s]"
      ]
     },
     "metadata": {},
     "output_type": "display_data"
    },
    {
     "data": {
      "application/vnd.jupyter.widget-view+json": {
       "model_id": "f5380c0e86d74c1d876f483bd345fc60",
       "version_major": 2,
       "version_minor": 0
      },
      "text/plain": [
       "  0%|          | 0/356 [00:00<?, ?it/s]"
      ]
     },
     "metadata": {},
     "output_type": "display_data"
    },
    {
     "data": {
      "application/vnd.jupyter.widget-view+json": {
       "model_id": "d7e877a4352b4dffa9317cfbb084b4f6",
       "version_major": 2,
       "version_minor": 0
      },
      "text/plain": [
       "  0%|          | 0/356 [00:00<?, ?it/s]"
      ]
     },
     "metadata": {},
     "output_type": "display_data"
    },
    {
     "data": {
      "application/vnd.jupyter.widget-view+json": {
       "model_id": "a6badc0975fc463da5f97a8417e92095",
       "version_major": 2,
       "version_minor": 0
      },
      "text/plain": [
       "  0%|          | 0/356 [00:00<?, ?it/s]"
      ]
     },
     "metadata": {},
     "output_type": "display_data"
    },
    {
     "data": {
      "application/vnd.jupyter.widget-view+json": {
       "model_id": "f41d0f226fca4aacbad2bd134445a5a1",
       "version_major": 2,
       "version_minor": 0
      },
      "text/plain": [
       "  0%|          | 0/88 [00:00<?, ?it/s]"
      ]
     },
     "metadata": {},
     "output_type": "display_data"
    },
    {
     "data": {
      "application/vnd.jupyter.widget-view+json": {
       "model_id": "88c74f27ded04a73931a37b925eb88ac",
       "version_major": 2,
       "version_minor": 0
      },
      "text/plain": [
       "  0%|          | 0/356 [00:00<?, ?it/s]"
      ]
     },
     "metadata": {},
     "output_type": "display_data"
    },
    {
     "data": {
      "application/vnd.jupyter.widget-view+json": {
       "model_id": "c08a4d864a454c67a593caa100e40dae",
       "version_major": 2,
       "version_minor": 0
      },
      "text/plain": [
       "  0%|          | 0/356 [00:00<?, ?it/s]"
      ]
     },
     "metadata": {},
     "output_type": "display_data"
    },
    {
     "data": {
      "application/vnd.jupyter.widget-view+json": {
       "model_id": "82184c811acb499ba2d5a5908751a2bd",
       "version_major": 2,
       "version_minor": 0
      },
      "text/plain": [
       "  0%|          | 0/356 [00:00<?, ?it/s]"
      ]
     },
     "metadata": {},
     "output_type": "display_data"
    },
    {
     "data": {
      "application/vnd.jupyter.widget-view+json": {
       "model_id": "d9ce8e78ca654b8d8f2e853956097d8d",
       "version_major": 2,
       "version_minor": 0
      },
      "text/plain": [
       "  0%|          | 0/88 [00:00<?, ?it/s]"
      ]
     },
     "metadata": {},
     "output_type": "display_data"
    },
    {
     "data": {
      "application/vnd.jupyter.widget-view+json": {
       "model_id": "f2a6e3d46d404440a6c56b8d81569bac",
       "version_major": 2,
       "version_minor": 0
      },
      "text/plain": [
       "  0%|          | 0/356 [00:00<?, ?it/s]"
      ]
     },
     "metadata": {},
     "output_type": "display_data"
    },
    {
     "data": {
      "application/vnd.jupyter.widget-view+json": {
       "model_id": "4c6328a8842541b095670e9ececeea31",
       "version_major": 2,
       "version_minor": 0
      },
      "text/plain": [
       "  0%|          | 0/356 [00:00<?, ?it/s]"
      ]
     },
     "metadata": {},
     "output_type": "display_data"
    },
    {
     "data": {
      "application/vnd.jupyter.widget-view+json": {
       "model_id": "574b836c51674096adc1b2eb42f1591b",
       "version_major": 2,
       "version_minor": 0
      },
      "text/plain": [
       "  0%|          | 0/356 [00:00<?, ?it/s]"
      ]
     },
     "metadata": {},
     "output_type": "display_data"
    },
    {
     "data": {
      "application/vnd.jupyter.widget-view+json": {
       "model_id": "a11815443a30464c8e3ff684d7eb7a5a",
       "version_major": 2,
       "version_minor": 0
      },
      "text/plain": [
       "  0%|          | 0/88 [00:00<?, ?it/s]"
      ]
     },
     "metadata": {},
     "output_type": "display_data"
    },
    {
     "data": {
      "application/vnd.jupyter.widget-view+json": {
       "model_id": "9fedc652ea0149c5bf1ecbb1d42d67b8",
       "version_major": 2,
       "version_minor": 0
      },
      "text/plain": [
       "  0%|          | 0/356 [00:00<?, ?it/s]"
      ]
     },
     "metadata": {},
     "output_type": "display_data"
    },
    {
     "data": {
      "application/vnd.jupyter.widget-view+json": {
       "model_id": "5cf4cdf9f8c549ea9e7c71df596ca1a9",
       "version_major": 2,
       "version_minor": 0
      },
      "text/plain": [
       "  0%|          | 0/356 [00:00<?, ?it/s]"
      ]
     },
     "metadata": {},
     "output_type": "display_data"
    },
    {
     "data": {
      "application/vnd.jupyter.widget-view+json": {
       "model_id": "175a07afeeb84d9fb1ea9aa6e328c00a",
       "version_major": 2,
       "version_minor": 0
      },
      "text/plain": [
       "  0%|          | 0/356 [00:00<?, ?it/s]"
      ]
     },
     "metadata": {},
     "output_type": "display_data"
    },
    {
     "data": {
      "application/vnd.jupyter.widget-view+json": {
       "model_id": "8bce09eadbc74011b08c5c96e5ec7db8",
       "version_major": 2,
       "version_minor": 0
      },
      "text/plain": [
       "  0%|          | 0/88 [00:00<?, ?it/s]"
      ]
     },
     "metadata": {},
     "output_type": "display_data"
    },
    {
     "data": {
      "application/vnd.jupyter.widget-view+json": {
       "model_id": "9afe44c64f8349728dc88c4fd9a702ee",
       "version_major": 2,
       "version_minor": 0
      },
      "text/plain": [
       "  0%|          | 0/356 [00:00<?, ?it/s]"
      ]
     },
     "metadata": {},
     "output_type": "display_data"
    },
    {
     "data": {
      "application/vnd.jupyter.widget-view+json": {
       "model_id": "a29bc0e7a46f47b89f09ef07bf4e0ee6",
       "version_major": 2,
       "version_minor": 0
      },
      "text/plain": [
       "  0%|          | 0/356 [00:00<?, ?it/s]"
      ]
     },
     "metadata": {},
     "output_type": "display_data"
    },
    {
     "data": {
      "application/vnd.jupyter.widget-view+json": {
       "model_id": "10bd08b096c34a84bf5871a7b95c063c",
       "version_major": 2,
       "version_minor": 0
      },
      "text/plain": [
       "  0%|          | 0/356 [00:00<?, ?it/s]"
      ]
     },
     "metadata": {},
     "output_type": "display_data"
    },
    {
     "data": {
      "application/vnd.jupyter.widget-view+json": {
       "model_id": "f28de892686b435a95c5eeda2dd2dd39",
       "version_major": 2,
       "version_minor": 0
      },
      "text/plain": [
       "  0%|          | 0/88 [00:00<?, ?it/s]"
      ]
     },
     "metadata": {},
     "output_type": "display_data"
    },
    {
     "data": {
      "application/vnd.jupyter.widget-view+json": {
       "model_id": "ec54fdb7722749f0be29c8029a79fb24",
       "version_major": 2,
       "version_minor": 0
      },
      "text/plain": [
       "  0%|          | 0/356 [00:00<?, ?it/s]"
      ]
     },
     "metadata": {},
     "output_type": "display_data"
    },
    {
     "data": {
      "application/vnd.jupyter.widget-view+json": {
       "model_id": "5fd5d5528bf147ecb9862d8438c91f2b",
       "version_major": 2,
       "version_minor": 0
      },
      "text/plain": [
       "  0%|          | 0/356 [00:00<?, ?it/s]"
      ]
     },
     "metadata": {},
     "output_type": "display_data"
    },
    {
     "data": {
      "application/vnd.jupyter.widget-view+json": {
       "model_id": "8feac481a77c4906b59a1fc0f8a3b807",
       "version_major": 2,
       "version_minor": 0
      },
      "text/plain": [
       "  0%|          | 0/356 [00:00<?, ?it/s]"
      ]
     },
     "metadata": {},
     "output_type": "display_data"
    },
    {
     "data": {
      "application/vnd.jupyter.widget-view+json": {
       "model_id": "9d09f5e3f11848a98ac0e2492d16b1fc",
       "version_major": 2,
       "version_minor": 0
      },
      "text/plain": [
       "  0%|          | 0/88 [00:00<?, ?it/s]"
      ]
     },
     "metadata": {},
     "output_type": "display_data"
    },
    {
     "data": {
      "application/vnd.jupyter.widget-view+json": {
       "model_id": "8ac305167cf2490a9744dadf35e3d9fc",
       "version_major": 2,
       "version_minor": 0
      },
      "text/plain": [
       "  0%|          | 0/356 [00:00<?, ?it/s]"
      ]
     },
     "metadata": {},
     "output_type": "display_data"
    },
    {
     "data": {
      "application/vnd.jupyter.widget-view+json": {
       "model_id": "01f977e00369471abda016d857ebf5e6",
       "version_major": 2,
       "version_minor": 0
      },
      "text/plain": [
       "  0%|          | 0/356 [00:00<?, ?it/s]"
      ]
     },
     "metadata": {},
     "output_type": "display_data"
    },
    {
     "data": {
      "application/vnd.jupyter.widget-view+json": {
       "model_id": "4198199ed2994c44ad272030aa326430",
       "version_major": 2,
       "version_minor": 0
      },
      "text/plain": [
       "  0%|          | 0/356 [00:00<?, ?it/s]"
      ]
     },
     "metadata": {},
     "output_type": "display_data"
    },
    {
     "data": {
      "application/vnd.jupyter.widget-view+json": {
       "model_id": "0c634f2f414f4b12ba549119a0ea21ec",
       "version_major": 2,
       "version_minor": 0
      },
      "text/plain": [
       "  0%|          | 0/88 [00:00<?, ?it/s]"
      ]
     },
     "metadata": {},
     "output_type": "display_data"
    },
    {
     "data": {
      "application/vnd.jupyter.widget-view+json": {
       "model_id": "90f16841d9f740c7b1134e15b8dd421e",
       "version_major": 2,
       "version_minor": 0
      },
      "text/plain": [
       "  0%|          | 0/356 [00:00<?, ?it/s]"
      ]
     },
     "metadata": {},
     "output_type": "display_data"
    },
    {
     "data": {
      "application/vnd.jupyter.widget-view+json": {
       "model_id": "ad6616514b87456aa973138ec77b18a2",
       "version_major": 2,
       "version_minor": 0
      },
      "text/plain": [
       "  0%|          | 0/356 [00:00<?, ?it/s]"
      ]
     },
     "metadata": {},
     "output_type": "display_data"
    },
    {
     "data": {
      "application/vnd.jupyter.widget-view+json": {
       "model_id": "e4f4903116b145e7ae8a090cf7eeb471",
       "version_major": 2,
       "version_minor": 0
      },
      "text/plain": [
       "  0%|          | 0/356 [00:00<?, ?it/s]"
      ]
     },
     "metadata": {},
     "output_type": "display_data"
    },
    {
     "data": {
      "application/vnd.jupyter.widget-view+json": {
       "model_id": "1b64d4649db84cfb9be863b39877ccd3",
       "version_major": 2,
       "version_minor": 0
      },
      "text/plain": [
       "  0%|          | 0/88 [00:00<?, ?it/s]"
      ]
     },
     "metadata": {},
     "output_type": "display_data"
    },
    {
     "data": {
      "application/vnd.jupyter.widget-view+json": {
       "model_id": "7844efadd3404a7cbad809f1c8d3e3c7",
       "version_major": 2,
       "version_minor": 0
      },
      "text/plain": [
       "  0%|          | 0/356 [00:00<?, ?it/s]"
      ]
     },
     "metadata": {},
     "output_type": "display_data"
    },
    {
     "data": {
      "application/vnd.jupyter.widget-view+json": {
       "model_id": "62028ee91ab94d35bced315240e37308",
       "version_major": 2,
       "version_minor": 0
      },
      "text/plain": [
       "  0%|          | 0/356 [00:00<?, ?it/s]"
      ]
     },
     "metadata": {},
     "output_type": "display_data"
    },
    {
     "data": {
      "application/vnd.jupyter.widget-view+json": {
       "model_id": "368d50f4d9fc48ed865089d3fb5e654d",
       "version_major": 2,
       "version_minor": 0
      },
      "text/plain": [
       "  0%|          | 0/356 [00:00<?, ?it/s]"
      ]
     },
     "metadata": {},
     "output_type": "display_data"
    },
    {
     "data": {
      "application/vnd.jupyter.widget-view+json": {
       "model_id": "d739fb99fc344c22a785783bbffcae83",
       "version_major": 2,
       "version_minor": 0
      },
      "text/plain": [
       "  0%|          | 0/88 [00:00<?, ?it/s]"
      ]
     },
     "metadata": {},
     "output_type": "display_data"
    },
    {
     "data": {
      "application/vnd.jupyter.widget-view+json": {
       "model_id": "744a874d1c0f4180ada2f81a19351c1a",
       "version_major": 2,
       "version_minor": 0
      },
      "text/plain": [
       "  0%|          | 0/356 [00:00<?, ?it/s]"
      ]
     },
     "metadata": {},
     "output_type": "display_data"
    },
    {
     "data": {
      "application/vnd.jupyter.widget-view+json": {
       "model_id": "17c1552fcbbf4110bf38c3c5499b92ea",
       "version_major": 2,
       "version_minor": 0
      },
      "text/plain": [
       "  0%|          | 0/356 [00:00<?, ?it/s]"
      ]
     },
     "metadata": {},
     "output_type": "display_data"
    },
    {
     "data": {
      "application/vnd.jupyter.widget-view+json": {
       "model_id": "86ee08605edb4ba19afe6fc1573e1219",
       "version_major": 2,
       "version_minor": 0
      },
      "text/plain": [
       "  0%|          | 0/356 [00:00<?, ?it/s]"
      ]
     },
     "metadata": {},
     "output_type": "display_data"
    },
    {
     "data": {
      "application/vnd.jupyter.widget-view+json": {
       "model_id": "ad889aba58074e31aa20ba8ae054dec4",
       "version_major": 2,
       "version_minor": 0
      },
      "text/plain": [
       "  0%|          | 0/88 [00:00<?, ?it/s]"
      ]
     },
     "metadata": {},
     "output_type": "display_data"
    },
    {
     "data": {
      "application/vnd.jupyter.widget-view+json": {
       "model_id": "f2f0c735b627475f97e36ffb81664609",
       "version_major": 2,
       "version_minor": 0
      },
      "text/plain": [
       "  0%|          | 0/356 [00:00<?, ?it/s]"
      ]
     },
     "metadata": {},
     "output_type": "display_data"
    },
    {
     "data": {
      "application/vnd.jupyter.widget-view+json": {
       "model_id": "25e70370167a4b06a8e6d2be2a5cf274",
       "version_major": 2,
       "version_minor": 0
      },
      "text/plain": [
       "  0%|          | 0/356 [00:00<?, ?it/s]"
      ]
     },
     "metadata": {},
     "output_type": "display_data"
    },
    {
     "data": {
      "application/vnd.jupyter.widget-view+json": {
       "model_id": "21857edc4a7d4db8920bd9698cacb17c",
       "version_major": 2,
       "version_minor": 0
      },
      "text/plain": [
       "  0%|          | 0/356 [00:00<?, ?it/s]"
      ]
     },
     "metadata": {},
     "output_type": "display_data"
    },
    {
     "data": {
      "application/vnd.jupyter.widget-view+json": {
       "model_id": "c9f165696978495f8cfd238112428065",
       "version_major": 2,
       "version_minor": 0
      },
      "text/plain": [
       "  0%|          | 0/88 [00:00<?, ?it/s]"
      ]
     },
     "metadata": {},
     "output_type": "display_data"
    },
    {
     "data": {
      "application/vnd.jupyter.widget-view+json": {
       "model_id": "f6b46a6086914b6cb606fbee25adc925",
       "version_major": 2,
       "version_minor": 0
      },
      "text/plain": [
       "  0%|          | 0/356 [00:00<?, ?it/s]"
      ]
     },
     "metadata": {},
     "output_type": "display_data"
    },
    {
     "data": {
      "application/vnd.jupyter.widget-view+json": {
       "model_id": "f1bbfca487fa4d4691a430697ac70aec",
       "version_major": 2,
       "version_minor": 0
      },
      "text/plain": [
       "  0%|          | 0/356 [00:00<?, ?it/s]"
      ]
     },
     "metadata": {},
     "output_type": "display_data"
    },
    {
     "data": {
      "application/vnd.jupyter.widget-view+json": {
       "model_id": "fb87b7a698fa46019c1fe269d0b8607b",
       "version_major": 2,
       "version_minor": 0
      },
      "text/plain": [
       "  0%|          | 0/356 [00:00<?, ?it/s]"
      ]
     },
     "metadata": {},
     "output_type": "display_data"
    },
    {
     "data": {
      "application/vnd.jupyter.widget-view+json": {
       "model_id": "6a3b4f85e1374d7cbcd3178c0cc06137",
       "version_major": 2,
       "version_minor": 0
      },
      "text/plain": [
       "  0%|          | 0/88 [00:00<?, ?it/s]"
      ]
     },
     "metadata": {},
     "output_type": "display_data"
    },
    {
     "data": {
      "application/vnd.jupyter.widget-view+json": {
       "model_id": "a000330f20594701979afda902c3c128",
       "version_major": 2,
       "version_minor": 0
      },
      "text/plain": [
       "  0%|          | 0/356 [00:00<?, ?it/s]"
      ]
     },
     "metadata": {},
     "output_type": "display_data"
    },
    {
     "data": {
      "application/vnd.jupyter.widget-view+json": {
       "model_id": "243f5127de7b47189a942097d1f66217",
       "version_major": 2,
       "version_minor": 0
      },
      "text/plain": [
       "  0%|          | 0/356 [00:00<?, ?it/s]"
      ]
     },
     "metadata": {},
     "output_type": "display_data"
    },
    {
     "data": {
      "application/vnd.jupyter.widget-view+json": {
       "model_id": "5dc69539a4264cbcbba949ff8c3e88b9",
       "version_major": 2,
       "version_minor": 0
      },
      "text/plain": [
       "  0%|          | 0/356 [00:00<?, ?it/s]"
      ]
     },
     "metadata": {},
     "output_type": "display_data"
    },
    {
     "data": {
      "application/vnd.jupyter.widget-view+json": {
       "model_id": "47d441ba8fc24ad7b81bb428256a1d3a",
       "version_major": 2,
       "version_minor": 0
      },
      "text/plain": [
       "  0%|          | 0/88 [00:00<?, ?it/s]"
      ]
     },
     "metadata": {},
     "output_type": "display_data"
    },
    {
     "data": {
      "application/vnd.jupyter.widget-view+json": {
       "model_id": "fabaae726ab04c159e417cc2d673c0c6",
       "version_major": 2,
       "version_minor": 0
      },
      "text/plain": [
       "  0%|          | 0/356 [00:00<?, ?it/s]"
      ]
     },
     "metadata": {},
     "output_type": "display_data"
    },
    {
     "data": {
      "application/vnd.jupyter.widget-view+json": {
       "model_id": "78bfed4a776246fa9b99384ff5cdb89a",
       "version_major": 2,
       "version_minor": 0
      },
      "text/plain": [
       "  0%|          | 0/356 [00:00<?, ?it/s]"
      ]
     },
     "metadata": {},
     "output_type": "display_data"
    },
    {
     "data": {
      "application/vnd.jupyter.widget-view+json": {
       "model_id": "c04b3136c61948f3979f127b517b7ed8",
       "version_major": 2,
       "version_minor": 0
      },
      "text/plain": [
       "  0%|          | 0/356 [00:00<?, ?it/s]"
      ]
     },
     "metadata": {},
     "output_type": "display_data"
    },
    {
     "data": {
      "application/vnd.jupyter.widget-view+json": {
       "model_id": "e00e99dd70564d07a3309a7c15c3105e",
       "version_major": 2,
       "version_minor": 0
      },
      "text/plain": [
       "  0%|          | 0/88 [00:00<?, ?it/s]"
      ]
     },
     "metadata": {},
     "output_type": "display_data"
    },
    {
     "data": {
      "application/vnd.jupyter.widget-view+json": {
       "model_id": "bad96f91b0394b50b600e4c80e800674",
       "version_major": 2,
       "version_minor": 0
      },
      "text/plain": [
       "  0%|          | 0/356 [00:00<?, ?it/s]"
      ]
     },
     "metadata": {},
     "output_type": "display_data"
    },
    {
     "data": {
      "application/vnd.jupyter.widget-view+json": {
       "model_id": "a185b329e3dc401e86ae8253f9e6f92f",
       "version_major": 2,
       "version_minor": 0
      },
      "text/plain": [
       "  0%|          | 0/356 [00:00<?, ?it/s]"
      ]
     },
     "metadata": {},
     "output_type": "display_data"
    },
    {
     "data": {
      "application/vnd.jupyter.widget-view+json": {
       "model_id": "169f608d34a84294b23276a186245202",
       "version_major": 2,
       "version_minor": 0
      },
      "text/plain": [
       "  0%|          | 0/356 [00:00<?, ?it/s]"
      ]
     },
     "metadata": {},
     "output_type": "display_data"
    },
    {
     "data": {
      "application/vnd.jupyter.widget-view+json": {
       "model_id": "1c13544d82c1411ca72733b2ecfd5cb2",
       "version_major": 2,
       "version_minor": 0
      },
      "text/plain": [
       "  0%|          | 0/88 [00:00<?, ?it/s]"
      ]
     },
     "metadata": {},
     "output_type": "display_data"
    },
    {
     "data": {
      "application/vnd.jupyter.widget-view+json": {
       "model_id": "143db565b80f4c94b34c583e51c0f3df",
       "version_major": 2,
       "version_minor": 0
      },
      "text/plain": [
       "  0%|          | 0/356 [00:00<?, ?it/s]"
      ]
     },
     "metadata": {},
     "output_type": "display_data"
    },
    {
     "data": {
      "application/vnd.jupyter.widget-view+json": {
       "model_id": "26e3e341e5424daba1c9aa3616237ee1",
       "version_major": 2,
       "version_minor": 0
      },
      "text/plain": [
       "  0%|          | 0/356 [00:00<?, ?it/s]"
      ]
     },
     "metadata": {},
     "output_type": "display_data"
    },
    {
     "data": {
      "application/vnd.jupyter.widget-view+json": {
       "model_id": "59b0876edbd54fcf9e4414c20f8e4787",
       "version_major": 2,
       "version_minor": 0
      },
      "text/plain": [
       "  0%|          | 0/356 [00:00<?, ?it/s]"
      ]
     },
     "metadata": {},
     "output_type": "display_data"
    },
    {
     "data": {
      "application/vnd.jupyter.widget-view+json": {
       "model_id": "267d5552b1bf4c0fa41369fbed669036",
       "version_major": 2,
       "version_minor": 0
      },
      "text/plain": [
       "  0%|          | 0/88 [00:00<?, ?it/s]"
      ]
     },
     "metadata": {},
     "output_type": "display_data"
    },
    {
     "data": {
      "application/vnd.jupyter.widget-view+json": {
       "model_id": "2419b8e284f6455abc9d8e1e40bc25b6",
       "version_major": 2,
       "version_minor": 0
      },
      "text/plain": [
       "  0%|          | 0/356 [00:00<?, ?it/s]"
      ]
     },
     "metadata": {},
     "output_type": "display_data"
    },
    {
     "data": {
      "application/vnd.jupyter.widget-view+json": {
       "model_id": "02d5584d558449158626ef59c6323c7c",
       "version_major": 2,
       "version_minor": 0
      },
      "text/plain": [
       "  0%|          | 0/356 [00:00<?, ?it/s]"
      ]
     },
     "metadata": {},
     "output_type": "display_data"
    },
    {
     "data": {
      "application/vnd.jupyter.widget-view+json": {
       "model_id": "ff09b7d36d6641a181b518994f9a526c",
       "version_major": 2,
       "version_minor": 0
      },
      "text/plain": [
       "  0%|          | 0/356 [00:00<?, ?it/s]"
      ]
     },
     "metadata": {},
     "output_type": "display_data"
    },
    {
     "data": {
      "application/vnd.jupyter.widget-view+json": {
       "model_id": "24d4ddf46f5e4684b2e2f097f30e708d",
       "version_major": 2,
       "version_minor": 0
      },
      "text/plain": [
       "  0%|          | 0/88 [00:00<?, ?it/s]"
      ]
     },
     "metadata": {},
     "output_type": "display_data"
    },
    {
     "data": {
      "application/vnd.jupyter.widget-view+json": {
       "model_id": "f9c353e01e9f4d5cacda808a5b3acfa7",
       "version_major": 2,
       "version_minor": 0
      },
      "text/plain": [
       "  0%|          | 0/356 [00:00<?, ?it/s]"
      ]
     },
     "metadata": {},
     "output_type": "display_data"
    },
    {
     "data": {
      "application/vnd.jupyter.widget-view+json": {
       "model_id": "48003d8e537a4c239a3f985823b69a29",
       "version_major": 2,
       "version_minor": 0
      },
      "text/plain": [
       "  0%|          | 0/356 [00:00<?, ?it/s]"
      ]
     },
     "metadata": {},
     "output_type": "display_data"
    },
    {
     "data": {
      "application/vnd.jupyter.widget-view+json": {
       "model_id": "64aa2e8c3dc84bb6890e1b3b824677f5",
       "version_major": 2,
       "version_minor": 0
      },
      "text/plain": [
       "  0%|          | 0/356 [00:00<?, ?it/s]"
      ]
     },
     "metadata": {},
     "output_type": "display_data"
    },
    {
     "data": {
      "application/vnd.jupyter.widget-view+json": {
       "model_id": "7cb8c3b32359462dadd4fbefbbb718a9",
       "version_major": 2,
       "version_minor": 0
      },
      "text/plain": [
       "  0%|          | 0/88 [00:00<?, ?it/s]"
      ]
     },
     "metadata": {},
     "output_type": "display_data"
    },
    {
     "data": {
      "application/vnd.jupyter.widget-view+json": {
       "model_id": "66eb96167dc84b849c687aa175089cb4",
       "version_major": 2,
       "version_minor": 0
      },
      "text/plain": [
       "  0%|          | 0/356 [00:00<?, ?it/s]"
      ]
     },
     "metadata": {},
     "output_type": "display_data"
    },
    {
     "data": {
      "application/vnd.jupyter.widget-view+json": {
       "model_id": "1319b1ccac074e3ea31fd74e8e42fa1b",
       "version_major": 2,
       "version_minor": 0
      },
      "text/plain": [
       "  0%|          | 0/356 [00:00<?, ?it/s]"
      ]
     },
     "metadata": {},
     "output_type": "display_data"
    },
    {
     "data": {
      "application/vnd.jupyter.widget-view+json": {
       "model_id": "31abb51818d240f5ab6cd5659dd753e4",
       "version_major": 2,
       "version_minor": 0
      },
      "text/plain": [
       "  0%|          | 0/356 [00:00<?, ?it/s]"
      ]
     },
     "metadata": {},
     "output_type": "display_data"
    },
    {
     "data": {
      "application/vnd.jupyter.widget-view+json": {
       "model_id": "49664cf809b14888a0bf695969e06cfb",
       "version_major": 2,
       "version_minor": 0
      },
      "text/plain": [
       "  0%|          | 0/88 [00:00<?, ?it/s]"
      ]
     },
     "metadata": {},
     "output_type": "display_data"
    },
    {
     "data": {
      "application/vnd.jupyter.widget-view+json": {
       "model_id": "e9512ed04223487d81917c0b98338924",
       "version_major": 2,
       "version_minor": 0
      },
      "text/plain": [
       "  0%|          | 0/356 [00:00<?, ?it/s]"
      ]
     },
     "metadata": {},
     "output_type": "display_data"
    },
    {
     "data": {
      "application/vnd.jupyter.widget-view+json": {
       "model_id": "6d97e7e933324664aaf92249d4b78722",
       "version_major": 2,
       "version_minor": 0
      },
      "text/plain": [
       "  0%|          | 0/356 [00:00<?, ?it/s]"
      ]
     },
     "metadata": {},
     "output_type": "display_data"
    },
    {
     "data": {
      "application/vnd.jupyter.widget-view+json": {
       "model_id": "027773b3c852489dac4bd0b90674f7fd",
       "version_major": 2,
       "version_minor": 0
      },
      "text/plain": [
       "  0%|          | 0/356 [00:00<?, ?it/s]"
      ]
     },
     "metadata": {},
     "output_type": "display_data"
    },
    {
     "data": {
      "application/vnd.jupyter.widget-view+json": {
       "model_id": "0a0786521a8e46e09f1a7cd2d2415145",
       "version_major": 2,
       "version_minor": 0
      },
      "text/plain": [
       "  0%|          | 0/88 [00:00<?, ?it/s]"
      ]
     },
     "metadata": {},
     "output_type": "display_data"
    },
    {
     "data": {
      "application/vnd.jupyter.widget-view+json": {
       "model_id": "09a2e4f2283e4283870f419852d6306b",
       "version_major": 2,
       "version_minor": 0
      },
      "text/plain": [
       "  0%|          | 0/356 [00:00<?, ?it/s]"
      ]
     },
     "metadata": {},
     "output_type": "display_data"
    },
    {
     "data": {
      "application/vnd.jupyter.widget-view+json": {
       "model_id": "1a8b71b225db42c09f7468ce80d7dcd7",
       "version_major": 2,
       "version_minor": 0
      },
      "text/plain": [
       "  0%|          | 0/356 [00:00<?, ?it/s]"
      ]
     },
     "metadata": {},
     "output_type": "display_data"
    },
    {
     "data": {
      "application/vnd.jupyter.widget-view+json": {
       "model_id": "25267419f388408e84e3bb6187d03fad",
       "version_major": 2,
       "version_minor": 0
      },
      "text/plain": [
       "  0%|          | 0/356 [00:00<?, ?it/s]"
      ]
     },
     "metadata": {},
     "output_type": "display_data"
    },
    {
     "data": {
      "application/vnd.jupyter.widget-view+json": {
       "model_id": "57c6a2e40a9246878a824239e773b71a",
       "version_major": 2,
       "version_minor": 0
      },
      "text/plain": [
       "  0%|          | 0/88 [00:00<?, ?it/s]"
      ]
     },
     "metadata": {},
     "output_type": "display_data"
    },
    {
     "data": {
      "application/vnd.jupyter.widget-view+json": {
       "model_id": "cbc3946c7cee4ddba10074d976e61097",
       "version_major": 2,
       "version_minor": 0
      },
      "text/plain": [
       "  0%|          | 0/356 [00:00<?, ?it/s]"
      ]
     },
     "metadata": {},
     "output_type": "display_data"
    },
    {
     "data": {
      "application/vnd.jupyter.widget-view+json": {
       "model_id": "79080e62798842a39710eafe9371aeea",
       "version_major": 2,
       "version_minor": 0
      },
      "text/plain": [
       "  0%|          | 0/356 [00:00<?, ?it/s]"
      ]
     },
     "metadata": {},
     "output_type": "display_data"
    },
    {
     "data": {
      "application/vnd.jupyter.widget-view+json": {
       "model_id": "6313c16df2de409098356498782269a5",
       "version_major": 2,
       "version_minor": 0
      },
      "text/plain": [
       "  0%|          | 0/356 [00:00<?, ?it/s]"
      ]
     },
     "metadata": {},
     "output_type": "display_data"
    },
    {
     "data": {
      "application/vnd.jupyter.widget-view+json": {
       "model_id": "8bcea51872104e2093f707e0e6c2ec26",
       "version_major": 2,
       "version_minor": 0
      },
      "text/plain": [
       "  0%|          | 0/88 [00:00<?, ?it/s]"
      ]
     },
     "metadata": {},
     "output_type": "display_data"
    },
    {
     "data": {
      "application/vnd.jupyter.widget-view+json": {
       "model_id": "0d25090d598340eeb0a110769f4df78b",
       "version_major": 2,
       "version_minor": 0
      },
      "text/plain": [
       "  0%|          | 0/356 [00:00<?, ?it/s]"
      ]
     },
     "metadata": {},
     "output_type": "display_data"
    },
    {
     "data": {
      "application/vnd.jupyter.widget-view+json": {
       "model_id": "1d6745b7123f41cc82de89a0051981fc",
       "version_major": 2,
       "version_minor": 0
      },
      "text/plain": [
       "  0%|          | 0/356 [00:00<?, ?it/s]"
      ]
     },
     "metadata": {},
     "output_type": "display_data"
    },
    {
     "data": {
      "application/vnd.jupyter.widget-view+json": {
       "model_id": "bd434aaca7ba4a8f93b502eaf1b3f9e1",
       "version_major": 2,
       "version_minor": 0
      },
      "text/plain": [
       "  0%|          | 0/356 [00:00<?, ?it/s]"
      ]
     },
     "metadata": {},
     "output_type": "display_data"
    },
    {
     "data": {
      "application/vnd.jupyter.widget-view+json": {
       "model_id": "a9ccaa0d0bbc4528bbc9e2507f93d146",
       "version_major": 2,
       "version_minor": 0
      },
      "text/plain": [
       "  0%|          | 0/88 [00:00<?, ?it/s]"
      ]
     },
     "metadata": {},
     "output_type": "display_data"
    },
    {
     "data": {
      "application/vnd.jupyter.widget-view+json": {
       "model_id": "ab3d2b27f2944be1b6fbf7ebdd35cc48",
       "version_major": 2,
       "version_minor": 0
      },
      "text/plain": [
       "  0%|          | 0/356 [00:00<?, ?it/s]"
      ]
     },
     "metadata": {},
     "output_type": "display_data"
    },
    {
     "data": {
      "application/vnd.jupyter.widget-view+json": {
       "model_id": "b1fb0138cd0f49eebe8b65c02b3a9588",
       "version_major": 2,
       "version_minor": 0
      },
      "text/plain": [
       "  0%|          | 0/356 [00:00<?, ?it/s]"
      ]
     },
     "metadata": {},
     "output_type": "display_data"
    },
    {
     "data": {
      "application/vnd.jupyter.widget-view+json": {
       "model_id": "34dd0eb54b734fa3a8aa2c8a1afe89b6",
       "version_major": 2,
       "version_minor": 0
      },
      "text/plain": [
       "  0%|          | 0/356 [00:00<?, ?it/s]"
      ]
     },
     "metadata": {},
     "output_type": "display_data"
    },
    {
     "data": {
      "application/vnd.jupyter.widget-view+json": {
       "model_id": "d9316fa8a4c24f6291e9fd7c3addc834",
       "version_major": 2,
       "version_minor": 0
      },
      "text/plain": [
       "  0%|          | 0/88 [00:00<?, ?it/s]"
      ]
     },
     "metadata": {},
     "output_type": "display_data"
    },
    {
     "data": {
      "application/vnd.jupyter.widget-view+json": {
       "model_id": "b7d4b3efafd5482fad749d6ad5fbecc3",
       "version_major": 2,
       "version_minor": 0
      },
      "text/plain": [
       "  0%|          | 0/356 [00:00<?, ?it/s]"
      ]
     },
     "metadata": {},
     "output_type": "display_data"
    },
    {
     "data": {
      "application/vnd.jupyter.widget-view+json": {
       "model_id": "dc95ada046174affb8c0e2d59e03bf03",
       "version_major": 2,
       "version_minor": 0
      },
      "text/plain": [
       "  0%|          | 0/356 [00:00<?, ?it/s]"
      ]
     },
     "metadata": {},
     "output_type": "display_data"
    },
    {
     "data": {
      "application/vnd.jupyter.widget-view+json": {
       "model_id": "de9eac38e04b4c0680abbb357d17b124",
       "version_major": 2,
       "version_minor": 0
      },
      "text/plain": [
       "  0%|          | 0/356 [00:00<?, ?it/s]"
      ]
     },
     "metadata": {},
     "output_type": "display_data"
    },
    {
     "data": {
      "application/vnd.jupyter.widget-view+json": {
       "model_id": "8227f872d9b245eea4110ad71f0d4c13",
       "version_major": 2,
       "version_minor": 0
      },
      "text/plain": [
       "  0%|          | 0/88 [00:00<?, ?it/s]"
      ]
     },
     "metadata": {},
     "output_type": "display_data"
    },
    {
     "data": {
      "application/vnd.jupyter.widget-view+json": {
       "model_id": "eaa5676478824ff3844f704e0d0d5729",
       "version_major": 2,
       "version_minor": 0
      },
      "text/plain": [
       "  0%|          | 0/356 [00:00<?, ?it/s]"
      ]
     },
     "metadata": {},
     "output_type": "display_data"
    },
    {
     "data": {
      "application/vnd.jupyter.widget-view+json": {
       "model_id": "c61efaec6fe64876906bb3afec1f2e1d",
       "version_major": 2,
       "version_minor": 0
      },
      "text/plain": [
       "  0%|          | 0/356 [00:00<?, ?it/s]"
      ]
     },
     "metadata": {},
     "output_type": "display_data"
    },
    {
     "data": {
      "application/vnd.jupyter.widget-view+json": {
       "model_id": "50f56d4b260c445db353b2c3e7fbd809",
       "version_major": 2,
       "version_minor": 0
      },
      "text/plain": [
       "  0%|          | 0/356 [00:00<?, ?it/s]"
      ]
     },
     "metadata": {},
     "output_type": "display_data"
    },
    {
     "data": {
      "application/vnd.jupyter.widget-view+json": {
       "model_id": "0de1edc60780430f88d0bdbec4815746",
       "version_major": 2,
       "version_minor": 0
      },
      "text/plain": [
       "  0%|          | 0/88 [00:00<?, ?it/s]"
      ]
     },
     "metadata": {},
     "output_type": "display_data"
    },
    {
     "data": {
      "application/vnd.jupyter.widget-view+json": {
       "model_id": "b7c287e347674be69b9afcfacfd494ef",
       "version_major": 2,
       "version_minor": 0
      },
      "text/plain": [
       "  0%|          | 0/356 [00:00<?, ?it/s]"
      ]
     },
     "metadata": {},
     "output_type": "display_data"
    },
    {
     "data": {
      "application/vnd.jupyter.widget-view+json": {
       "model_id": "a2ac435f718344abaada9477c270cb42",
       "version_major": 2,
       "version_minor": 0
      },
      "text/plain": [
       "  0%|          | 0/356 [00:00<?, ?it/s]"
      ]
     },
     "metadata": {},
     "output_type": "display_data"
    },
    {
     "data": {
      "application/vnd.jupyter.widget-view+json": {
       "model_id": "ad53d532ff514f37ae168996da1c980e",
       "version_major": 2,
       "version_minor": 0
      },
      "text/plain": [
       "  0%|          | 0/356 [00:00<?, ?it/s]"
      ]
     },
     "metadata": {},
     "output_type": "display_data"
    },
    {
     "data": {
      "application/vnd.jupyter.widget-view+json": {
       "model_id": "bd2a6e458d6241f6a5d4d558e1b08575",
       "version_major": 2,
       "version_minor": 0
      },
      "text/plain": [
       "  0%|          | 0/88 [00:00<?, ?it/s]"
      ]
     },
     "metadata": {},
     "output_type": "display_data"
    },
    {
     "data": {
      "application/vnd.jupyter.widget-view+json": {
       "model_id": "be6ea55b401948ef8e183606e4b3eb8f",
       "version_major": 2,
       "version_minor": 0
      },
      "text/plain": [
       "  0%|          | 0/356 [00:00<?, ?it/s]"
      ]
     },
     "metadata": {},
     "output_type": "display_data"
    },
    {
     "data": {
      "application/vnd.jupyter.widget-view+json": {
       "model_id": "023ce29ef2064f679a3e4f55ab9af55c",
       "version_major": 2,
       "version_minor": 0
      },
      "text/plain": [
       "  0%|          | 0/356 [00:00<?, ?it/s]"
      ]
     },
     "metadata": {},
     "output_type": "display_data"
    },
    {
     "data": {
      "application/vnd.jupyter.widget-view+json": {
       "model_id": "9d47b267309446ea869ae8773126b936",
       "version_major": 2,
       "version_minor": 0
      },
      "text/plain": [
       "  0%|          | 0/356 [00:00<?, ?it/s]"
      ]
     },
     "metadata": {},
     "output_type": "display_data"
    },
    {
     "data": {
      "application/vnd.jupyter.widget-view+json": {
       "model_id": "d497b18f7b784e778e90266fcebe97a2",
       "version_major": 2,
       "version_minor": 0
      },
      "text/plain": [
       "  0%|          | 0/88 [00:00<?, ?it/s]"
      ]
     },
     "metadata": {},
     "output_type": "display_data"
    },
    {
     "data": {
      "application/vnd.jupyter.widget-view+json": {
       "model_id": "10d1c9dba3e6432480b62ec9318eb909",
       "version_major": 2,
       "version_minor": 0
      },
      "text/plain": [
       "  0%|          | 0/356 [00:00<?, ?it/s]"
      ]
     },
     "metadata": {},
     "output_type": "display_data"
    },
    {
     "data": {
      "application/vnd.jupyter.widget-view+json": {
       "model_id": "ba25c6abe8064eacafc04e6e31611528",
       "version_major": 2,
       "version_minor": 0
      },
      "text/plain": [
       "  0%|          | 0/356 [00:00<?, ?it/s]"
      ]
     },
     "metadata": {},
     "output_type": "display_data"
    },
    {
     "data": {
      "application/vnd.jupyter.widget-view+json": {
       "model_id": "7bfde813f84b4d37a44236e06e5eb890",
       "version_major": 2,
       "version_minor": 0
      },
      "text/plain": [
       "  0%|          | 0/356 [00:00<?, ?it/s]"
      ]
     },
     "metadata": {},
     "output_type": "display_data"
    },
    {
     "data": {
      "application/vnd.jupyter.widget-view+json": {
       "model_id": "d26815f051e645cb9361b507b6fab459",
       "version_major": 2,
       "version_minor": 0
      },
      "text/plain": [
       "  0%|          | 0/88 [00:00<?, ?it/s]"
      ]
     },
     "metadata": {},
     "output_type": "display_data"
    },
    {
     "data": {
      "application/vnd.jupyter.widget-view+json": {
       "model_id": "5bbc7cbc65224c95946f696884386ab0",
       "version_major": 2,
       "version_minor": 0
      },
      "text/plain": [
       "  0%|          | 0/356 [00:00<?, ?it/s]"
      ]
     },
     "metadata": {},
     "output_type": "display_data"
    },
    {
     "data": {
      "application/vnd.jupyter.widget-view+json": {
       "model_id": "ea919b87db3943b5a0e13a80865d8099",
       "version_major": 2,
       "version_minor": 0
      },
      "text/plain": [
       "  0%|          | 0/356 [00:00<?, ?it/s]"
      ]
     },
     "metadata": {},
     "output_type": "display_data"
    },
    {
     "data": {
      "application/vnd.jupyter.widget-view+json": {
       "model_id": "5c8df76be1524a2b93c79ffb59416ee4",
       "version_major": 2,
       "version_minor": 0
      },
      "text/plain": [
       "  0%|          | 0/356 [00:00<?, ?it/s]"
      ]
     },
     "metadata": {},
     "output_type": "display_data"
    },
    {
     "data": {
      "application/vnd.jupyter.widget-view+json": {
       "model_id": "4f499b26fa3941cc87422774a320dca8",
       "version_major": 2,
       "version_minor": 0
      },
      "text/plain": [
       "  0%|          | 0/88 [00:00<?, ?it/s]"
      ]
     },
     "metadata": {},
     "output_type": "display_data"
    },
    {
     "data": {
      "application/vnd.jupyter.widget-view+json": {
       "model_id": "1378147f60c840bc9ca000f7f04b72b7",
       "version_major": 2,
       "version_minor": 0
      },
      "text/plain": [
       "  0%|          | 0/356 [00:00<?, ?it/s]"
      ]
     },
     "metadata": {},
     "output_type": "display_data"
    },
    {
     "data": {
      "application/vnd.jupyter.widget-view+json": {
       "model_id": "b7a6afb1204b41498c168c11cb513690",
       "version_major": 2,
       "version_minor": 0
      },
      "text/plain": [
       "  0%|          | 0/356 [00:00<?, ?it/s]"
      ]
     },
     "metadata": {},
     "output_type": "display_data"
    },
    {
     "data": {
      "application/vnd.jupyter.widget-view+json": {
       "model_id": "68a4c7e464e540c38ca914435cc2ae36",
       "version_major": 2,
       "version_minor": 0
      },
      "text/plain": [
       "  0%|          | 0/356 [00:00<?, ?it/s]"
      ]
     },
     "metadata": {},
     "output_type": "display_data"
    },
    {
     "data": {
      "application/vnd.jupyter.widget-view+json": {
       "model_id": "3724ac0bfeb545ff92ea1b5a5c9449e9",
       "version_major": 2,
       "version_minor": 0
      },
      "text/plain": [
       "  0%|          | 0/88 [00:00<?, ?it/s]"
      ]
     },
     "metadata": {},
     "output_type": "display_data"
    },
    {
     "data": {
      "application/vnd.jupyter.widget-view+json": {
       "model_id": "f499df4393044e13b96920c73f76f115",
       "version_major": 2,
       "version_minor": 0
      },
      "text/plain": [
       "  0%|          | 0/356 [00:00<?, ?it/s]"
      ]
     },
     "metadata": {},
     "output_type": "display_data"
    },
    {
     "data": {
      "application/vnd.jupyter.widget-view+json": {
       "model_id": "7d9cb37db0d046edbe7a1bb75575351b",
       "version_major": 2,
       "version_minor": 0
      },
      "text/plain": [
       "  0%|          | 0/356 [00:00<?, ?it/s]"
      ]
     },
     "metadata": {},
     "output_type": "display_data"
    },
    {
     "data": {
      "application/vnd.jupyter.widget-view+json": {
       "model_id": "64e05e86a6e34e6c9ffdb8a86d64a04d",
       "version_major": 2,
       "version_minor": 0
      },
      "text/plain": [
       "  0%|          | 0/356 [00:00<?, ?it/s]"
      ]
     },
     "metadata": {},
     "output_type": "display_data"
    },
    {
     "data": {
      "application/vnd.jupyter.widget-view+json": {
       "model_id": "86a3643f3e6443ff8e3e34ffcad21cbd",
       "version_major": 2,
       "version_minor": 0
      },
      "text/plain": [
       "  0%|          | 0/88 [00:00<?, ?it/s]"
      ]
     },
     "metadata": {},
     "output_type": "display_data"
    },
    {
     "data": {
      "application/vnd.jupyter.widget-view+json": {
       "model_id": "62b32e0d445c4a228850e567bbbf7200",
       "version_major": 2,
       "version_minor": 0
      },
      "text/plain": [
       "  0%|          | 0/356 [00:00<?, ?it/s]"
      ]
     },
     "metadata": {},
     "output_type": "display_data"
    },
    {
     "data": {
      "application/vnd.jupyter.widget-view+json": {
       "model_id": "117456318b6a434b854ff407a42b3aa4",
       "version_major": 2,
       "version_minor": 0
      },
      "text/plain": [
       "  0%|          | 0/356 [00:00<?, ?it/s]"
      ]
     },
     "metadata": {},
     "output_type": "display_data"
    },
    {
     "data": {
      "application/vnd.jupyter.widget-view+json": {
       "model_id": "9e07f96bd6064104aa1777816b5ff88f",
       "version_major": 2,
       "version_minor": 0
      },
      "text/plain": [
       "  0%|          | 0/356 [00:00<?, ?it/s]"
      ]
     },
     "metadata": {},
     "output_type": "display_data"
    },
    {
     "data": {
      "application/vnd.jupyter.widget-view+json": {
       "model_id": "f273eb4e63534b9d88e4a04f45e493db",
       "version_major": 2,
       "version_minor": 0
      },
      "text/plain": [
       "  0%|          | 0/88 [00:00<?, ?it/s]"
      ]
     },
     "metadata": {},
     "output_type": "display_data"
    },
    {
     "data": {
      "application/vnd.jupyter.widget-view+json": {
       "model_id": "728b0cecdb3d4934b81d5773d872f5c3",
       "version_major": 2,
       "version_minor": 0
      },
      "text/plain": [
       "  0%|          | 0/356 [00:00<?, ?it/s]"
      ]
     },
     "metadata": {},
     "output_type": "display_data"
    },
    {
     "data": {
      "application/vnd.jupyter.widget-view+json": {
       "model_id": "abc455fdba5b4c7496397592556bfe93",
       "version_major": 2,
       "version_minor": 0
      },
      "text/plain": [
       "  0%|          | 0/356 [00:00<?, ?it/s]"
      ]
     },
     "metadata": {},
     "output_type": "display_data"
    },
    {
     "data": {
      "application/vnd.jupyter.widget-view+json": {
       "model_id": "79ddb8a19151473a8b1a0cf22605f488",
       "version_major": 2,
       "version_minor": 0
      },
      "text/plain": [
       "  0%|          | 0/356 [00:00<?, ?it/s]"
      ]
     },
     "metadata": {},
     "output_type": "display_data"
    },
    {
     "data": {
      "application/vnd.jupyter.widget-view+json": {
       "model_id": "a1b0605af37b4204b3e00172edc04868",
       "version_major": 2,
       "version_minor": 0
      },
      "text/plain": [
       "  0%|          | 0/88 [00:00<?, ?it/s]"
      ]
     },
     "metadata": {},
     "output_type": "display_data"
    },
    {
     "data": {
      "application/vnd.jupyter.widget-view+json": {
       "model_id": "a5bb0c629e7d4da8ae39180d88f583ed",
       "version_major": 2,
       "version_minor": 0
      },
      "text/plain": [
       "  0%|          | 0/356 [00:00<?, ?it/s]"
      ]
     },
     "metadata": {},
     "output_type": "display_data"
    },
    {
     "data": {
      "application/vnd.jupyter.widget-view+json": {
       "model_id": "67da5d579a794900beb363310e1f4098",
       "version_major": 2,
       "version_minor": 0
      },
      "text/plain": [
       "  0%|          | 0/356 [00:00<?, ?it/s]"
      ]
     },
     "metadata": {},
     "output_type": "display_data"
    },
    {
     "data": {
      "application/vnd.jupyter.widget-view+json": {
       "model_id": "5bfb6868b5394c53be79491adc775209",
       "version_major": 2,
       "version_minor": 0
      },
      "text/plain": [
       "  0%|          | 0/356 [00:00<?, ?it/s]"
      ]
     },
     "metadata": {},
     "output_type": "display_data"
    },
    {
     "data": {
      "application/vnd.jupyter.widget-view+json": {
       "model_id": "0d84bd8820a046c68fe2a3a0278d365c",
       "version_major": 2,
       "version_minor": 0
      },
      "text/plain": [
       "  0%|          | 0/88 [00:00<?, ?it/s]"
      ]
     },
     "metadata": {},
     "output_type": "display_data"
    },
    {
     "data": {
      "application/vnd.jupyter.widget-view+json": {
       "model_id": "e22d717572bb4e8f83963623f0d8a103",
       "version_major": 2,
       "version_minor": 0
      },
      "text/plain": [
       "  0%|          | 0/356 [00:00<?, ?it/s]"
      ]
     },
     "metadata": {},
     "output_type": "display_data"
    },
    {
     "data": {
      "application/vnd.jupyter.widget-view+json": {
       "model_id": "8aa0b0b2f0544e66bf5ed01747d08407",
       "version_major": 2,
       "version_minor": 0
      },
      "text/plain": [
       "  0%|          | 0/356 [00:00<?, ?it/s]"
      ]
     },
     "metadata": {},
     "output_type": "display_data"
    },
    {
     "data": {
      "application/vnd.jupyter.widget-view+json": {
       "model_id": "25da1c5216a444e19794f9274723cb50",
       "version_major": 2,
       "version_minor": 0
      },
      "text/plain": [
       "  0%|          | 0/356 [00:00<?, ?it/s]"
      ]
     },
     "metadata": {},
     "output_type": "display_data"
    },
    {
     "data": {
      "application/vnd.jupyter.widget-view+json": {
       "model_id": "8349a547b66d461bada1d43e4a0fb3e4",
       "version_major": 2,
       "version_minor": 0
      },
      "text/plain": [
       "  0%|          | 0/88 [00:00<?, ?it/s]"
      ]
     },
     "metadata": {},
     "output_type": "display_data"
    },
    {
     "data": {
      "application/vnd.jupyter.widget-view+json": {
       "model_id": "af0a3bd0f77e4ef09356ed044f421e1b",
       "version_major": 2,
       "version_minor": 0
      },
      "text/plain": [
       "  0%|          | 0/356 [00:00<?, ?it/s]"
      ]
     },
     "metadata": {},
     "output_type": "display_data"
    },
    {
     "data": {
      "application/vnd.jupyter.widget-view+json": {
       "model_id": "f19f15b7b16041d494a2fc8a0d93a03d",
       "version_major": 2,
       "version_minor": 0
      },
      "text/plain": [
       "  0%|          | 0/356 [00:00<?, ?it/s]"
      ]
     },
     "metadata": {},
     "output_type": "display_data"
    },
    {
     "data": {
      "application/vnd.jupyter.widget-view+json": {
       "model_id": "2987c9d51ecf4646b24b7ab619dd4095",
       "version_major": 2,
       "version_minor": 0
      },
      "text/plain": [
       "  0%|          | 0/356 [00:00<?, ?it/s]"
      ]
     },
     "metadata": {},
     "output_type": "display_data"
    },
    {
     "data": {
      "application/vnd.jupyter.widget-view+json": {
       "model_id": "158a8514f0d147b78e246b49d96fd0af",
       "version_major": 2,
       "version_minor": 0
      },
      "text/plain": [
       "  0%|          | 0/88 [00:00<?, ?it/s]"
      ]
     },
     "metadata": {},
     "output_type": "display_data"
    },
    {
     "data": {
      "application/vnd.jupyter.widget-view+json": {
       "model_id": "75031864645b404aa6bf6c2800c08c8e",
       "version_major": 2,
       "version_minor": 0
      },
      "text/plain": [
       "  0%|          | 0/356 [00:00<?, ?it/s]"
      ]
     },
     "metadata": {},
     "output_type": "display_data"
    },
    {
     "data": {
      "application/vnd.jupyter.widget-view+json": {
       "model_id": "ef060d898d33496b8ae3fdfce5100376",
       "version_major": 2,
       "version_minor": 0
      },
      "text/plain": [
       "  0%|          | 0/356 [00:00<?, ?it/s]"
      ]
     },
     "metadata": {},
     "output_type": "display_data"
    },
    {
     "data": {
      "application/vnd.jupyter.widget-view+json": {
       "model_id": "cb4ad19773f34be3b9cc962cfd5c1f6c",
       "version_major": 2,
       "version_minor": 0
      },
      "text/plain": [
       "  0%|          | 0/356 [00:00<?, ?it/s]"
      ]
     },
     "metadata": {},
     "output_type": "display_data"
    },
    {
     "data": {
      "application/vnd.jupyter.widget-view+json": {
       "model_id": "7ee336d29d62477798ceef010d1354af",
       "version_major": 2,
       "version_minor": 0
      },
      "text/plain": [
       "  0%|          | 0/88 [00:00<?, ?it/s]"
      ]
     },
     "metadata": {},
     "output_type": "display_data"
    },
    {
     "data": {
      "application/vnd.jupyter.widget-view+json": {
       "model_id": "d86d3afb6cab45d89710665148c4a27e",
       "version_major": 2,
       "version_minor": 0
      },
      "text/plain": [
       "  0%|          | 0/356 [00:00<?, ?it/s]"
      ]
     },
     "metadata": {},
     "output_type": "display_data"
    },
    {
     "data": {
      "application/vnd.jupyter.widget-view+json": {
       "model_id": "b81485ce4f414d33adc454cc79bf5a72",
       "version_major": 2,
       "version_minor": 0
      },
      "text/plain": [
       "  0%|          | 0/356 [00:00<?, ?it/s]"
      ]
     },
     "metadata": {},
     "output_type": "display_data"
    },
    {
     "data": {
      "application/vnd.jupyter.widget-view+json": {
       "model_id": "a12c25fc13f7488291f74d3a6e8c7078",
       "version_major": 2,
       "version_minor": 0
      },
      "text/plain": [
       "  0%|          | 0/356 [00:00<?, ?it/s]"
      ]
     },
     "metadata": {},
     "output_type": "display_data"
    },
    {
     "data": {
      "application/vnd.jupyter.widget-view+json": {
       "model_id": "a5f80430302c468cb6348b0de5099b98",
       "version_major": 2,
       "version_minor": 0
      },
      "text/plain": [
       "  0%|          | 0/88 [00:00<?, ?it/s]"
      ]
     },
     "metadata": {},
     "output_type": "display_data"
    },
    {
     "data": {
      "application/vnd.jupyter.widget-view+json": {
       "model_id": "c689e4c6d9cc424c8d70f2916e5648dd",
       "version_major": 2,
       "version_minor": 0
      },
      "text/plain": [
       "  0%|          | 0/356 [00:00<?, ?it/s]"
      ]
     },
     "metadata": {},
     "output_type": "display_data"
    },
    {
     "data": {
      "application/vnd.jupyter.widget-view+json": {
       "model_id": "e181e34c68c94e0393eed94a4d3ab414",
       "version_major": 2,
       "version_minor": 0
      },
      "text/plain": [
       "  0%|          | 0/356 [00:00<?, ?it/s]"
      ]
     },
     "metadata": {},
     "output_type": "display_data"
    },
    {
     "data": {
      "application/vnd.jupyter.widget-view+json": {
       "model_id": "36570194d8a541a4886936326399aa64",
       "version_major": 2,
       "version_minor": 0
      },
      "text/plain": [
       "  0%|          | 0/356 [00:00<?, ?it/s]"
      ]
     },
     "metadata": {},
     "output_type": "display_data"
    },
    {
     "data": {
      "application/vnd.jupyter.widget-view+json": {
       "model_id": "4e6510e5da184e6e9da42bcee32934ca",
       "version_major": 2,
       "version_minor": 0
      },
      "text/plain": [
       "  0%|          | 0/88 [00:00<?, ?it/s]"
      ]
     },
     "metadata": {},
     "output_type": "display_data"
    },
    {
     "data": {
      "application/vnd.jupyter.widget-view+json": {
       "model_id": "9cffb2d38be142aaae4eac6014b5265d",
       "version_major": 2,
       "version_minor": 0
      },
      "text/plain": [
       "  0%|          | 0/356 [00:00<?, ?it/s]"
      ]
     },
     "metadata": {},
     "output_type": "display_data"
    },
    {
     "data": {
      "application/vnd.jupyter.widget-view+json": {
       "model_id": "51e6776ada8a419a921a0975fb281e1b",
       "version_major": 2,
       "version_minor": 0
      },
      "text/plain": [
       "  0%|          | 0/356 [00:00<?, ?it/s]"
      ]
     },
     "metadata": {},
     "output_type": "display_data"
    },
    {
     "data": {
      "application/vnd.jupyter.widget-view+json": {
       "model_id": "02d3c773496f4ab18504ddaaa3370055",
       "version_major": 2,
       "version_minor": 0
      },
      "text/plain": [
       "  0%|          | 0/356 [00:00<?, ?it/s]"
      ]
     },
     "metadata": {},
     "output_type": "display_data"
    },
    {
     "data": {
      "application/vnd.jupyter.widget-view+json": {
       "model_id": "738aa38e3112443e81423118ab965539",
       "version_major": 2,
       "version_minor": 0
      },
      "text/plain": [
       "  0%|          | 0/88 [00:00<?, ?it/s]"
      ]
     },
     "metadata": {},
     "output_type": "display_data"
    },
    {
     "data": {
      "application/vnd.jupyter.widget-view+json": {
       "model_id": "1970b0918a9f431ca646dcf313037bb3",
       "version_major": 2,
       "version_minor": 0
      },
      "text/plain": [
       "  0%|          | 0/356 [00:00<?, ?it/s]"
      ]
     },
     "metadata": {},
     "output_type": "display_data"
    },
    {
     "data": {
      "application/vnd.jupyter.widget-view+json": {
       "model_id": "894c296dbaa449bc99246965c83d0f94",
       "version_major": 2,
       "version_minor": 0
      },
      "text/plain": [
       "  0%|          | 0/356 [00:00<?, ?it/s]"
      ]
     },
     "metadata": {},
     "output_type": "display_data"
    },
    {
     "data": {
      "application/vnd.jupyter.widget-view+json": {
       "model_id": "a5bda32c793b43ae8b334c145636c8c6",
       "version_major": 2,
       "version_minor": 0
      },
      "text/plain": [
       "  0%|          | 0/356 [00:00<?, ?it/s]"
      ]
     },
     "metadata": {},
     "output_type": "display_data"
    },
    {
     "data": {
      "application/vnd.jupyter.widget-view+json": {
       "model_id": "45cac71b36fd4f79a47c8eb8b2a6bb8d",
       "version_major": 2,
       "version_minor": 0
      },
      "text/plain": [
       "  0%|          | 0/88 [00:00<?, ?it/s]"
      ]
     },
     "metadata": {},
     "output_type": "display_data"
    },
    {
     "data": {
      "application/vnd.jupyter.widget-view+json": {
       "model_id": "de6530a6677c4b68bb3b8f29f5049dbb",
       "version_major": 2,
       "version_minor": 0
      },
      "text/plain": [
       "  0%|          | 0/356 [00:00<?, ?it/s]"
      ]
     },
     "metadata": {},
     "output_type": "display_data"
    },
    {
     "data": {
      "application/vnd.jupyter.widget-view+json": {
       "model_id": "050970e02b404fa4b7d4b7459a6c9824",
       "version_major": 2,
       "version_minor": 0
      },
      "text/plain": [
       "  0%|          | 0/356 [00:00<?, ?it/s]"
      ]
     },
     "metadata": {},
     "output_type": "display_data"
    },
    {
     "data": {
      "application/vnd.jupyter.widget-view+json": {
       "model_id": "1b55887d832841bc875fd02d4409f07c",
       "version_major": 2,
       "version_minor": 0
      },
      "text/plain": [
       "  0%|          | 0/356 [00:00<?, ?it/s]"
      ]
     },
     "metadata": {},
     "output_type": "display_data"
    },
    {
     "data": {
      "application/vnd.jupyter.widget-view+json": {
       "model_id": "3f6b400fda0b42228b737e69fe6fd144",
       "version_major": 2,
       "version_minor": 0
      },
      "text/plain": [
       "  0%|          | 0/88 [00:00<?, ?it/s]"
      ]
     },
     "metadata": {},
     "output_type": "display_data"
    },
    {
     "data": {
      "application/vnd.jupyter.widget-view+json": {
       "model_id": "2f8846e0c6d04aa3ad39d825f969e45e",
       "version_major": 2,
       "version_minor": 0
      },
      "text/plain": [
       "  0%|          | 0/356 [00:00<?, ?it/s]"
      ]
     },
     "metadata": {},
     "output_type": "display_data"
    },
    {
     "data": {
      "application/vnd.jupyter.widget-view+json": {
       "model_id": "26fd172e539844ed983bf5c57a529fac",
       "version_major": 2,
       "version_minor": 0
      },
      "text/plain": [
       "  0%|          | 0/356 [00:00<?, ?it/s]"
      ]
     },
     "metadata": {},
     "output_type": "display_data"
    },
    {
     "data": {
      "application/vnd.jupyter.widget-view+json": {
       "model_id": "f2c4e679c6d14d72b74ef8f0f86739c7",
       "version_major": 2,
       "version_minor": 0
      },
      "text/plain": [
       "  0%|          | 0/356 [00:00<?, ?it/s]"
      ]
     },
     "metadata": {},
     "output_type": "display_data"
    },
    {
     "data": {
      "application/vnd.jupyter.widget-view+json": {
       "model_id": "261793ca909b494c9dfe43c684111ff7",
       "version_major": 2,
       "version_minor": 0
      },
      "text/plain": [
       "  0%|          | 0/88 [00:00<?, ?it/s]"
      ]
     },
     "metadata": {},
     "output_type": "display_data"
    },
    {
     "data": {
      "application/vnd.jupyter.widget-view+json": {
       "model_id": "a39fd7c41c144ae29043c6a911801903",
       "version_major": 2,
       "version_minor": 0
      },
      "text/plain": [
       "  0%|          | 0/356 [00:00<?, ?it/s]"
      ]
     },
     "metadata": {},
     "output_type": "display_data"
    },
    {
     "data": {
      "application/vnd.jupyter.widget-view+json": {
       "model_id": "d683b862de6a48c08540c900d0effeeb",
       "version_major": 2,
       "version_minor": 0
      },
      "text/plain": [
       "  0%|          | 0/356 [00:00<?, ?it/s]"
      ]
     },
     "metadata": {},
     "output_type": "display_data"
    },
    {
     "data": {
      "application/vnd.jupyter.widget-view+json": {
       "model_id": "44e3e82c16334a7ca9a090c639295822",
       "version_major": 2,
       "version_minor": 0
      },
      "text/plain": [
       "  0%|          | 0/356 [00:00<?, ?it/s]"
      ]
     },
     "metadata": {},
     "output_type": "display_data"
    },
    {
     "data": {
      "application/vnd.jupyter.widget-view+json": {
       "model_id": "159fb00bd5f4488c9fd440fe9d91972f",
       "version_major": 2,
       "version_minor": 0
      },
      "text/plain": [
       "  0%|          | 0/88 [00:00<?, ?it/s]"
      ]
     },
     "metadata": {},
     "output_type": "display_data"
    },
    {
     "data": {
      "application/vnd.jupyter.widget-view+json": {
       "model_id": "045ac8a1b6794da3ab42b51d7a2cac31",
       "version_major": 2,
       "version_minor": 0
      },
      "text/plain": [
       "  0%|          | 0/356 [00:00<?, ?it/s]"
      ]
     },
     "metadata": {},
     "output_type": "display_data"
    },
    {
     "data": {
      "application/vnd.jupyter.widget-view+json": {
       "model_id": "d497c78dd38f4069992d3e8ca84398d7",
       "version_major": 2,
       "version_minor": 0
      },
      "text/plain": [
       "  0%|          | 0/356 [00:00<?, ?it/s]"
      ]
     },
     "metadata": {},
     "output_type": "display_data"
    },
    {
     "data": {
      "application/vnd.jupyter.widget-view+json": {
       "model_id": "186e98e9801d4c68b200365c3fb5b5a4",
       "version_major": 2,
       "version_minor": 0
      },
      "text/plain": [
       "  0%|          | 0/356 [00:00<?, ?it/s]"
      ]
     },
     "metadata": {},
     "output_type": "display_data"
    },
    {
     "data": {
      "application/vnd.jupyter.widget-view+json": {
       "model_id": "c04bd48a439d47c4aee7587aff85eec8",
       "version_major": 2,
       "version_minor": 0
      },
      "text/plain": [
       "  0%|          | 0/88 [00:00<?, ?it/s]"
      ]
     },
     "metadata": {},
     "output_type": "display_data"
    },
    {
     "data": {
      "application/vnd.jupyter.widget-view+json": {
       "model_id": "4082ef56291e4d4f8ee98a7da3f40270",
       "version_major": 2,
       "version_minor": 0
      },
      "text/plain": [
       "  0%|          | 0/356 [00:00<?, ?it/s]"
      ]
     },
     "metadata": {},
     "output_type": "display_data"
    },
    {
     "data": {
      "application/vnd.jupyter.widget-view+json": {
       "model_id": "6bf32098bb6d48f2a8c73bc5b0098775",
       "version_major": 2,
       "version_minor": 0
      },
      "text/plain": [
       "  0%|          | 0/356 [00:00<?, ?it/s]"
      ]
     },
     "metadata": {},
     "output_type": "display_data"
    },
    {
     "data": {
      "application/vnd.jupyter.widget-view+json": {
       "model_id": "9f9d5c2ac82a4b76aa217558eb6686a9",
       "version_major": 2,
       "version_minor": 0
      },
      "text/plain": [
       "  0%|          | 0/356 [00:00<?, ?it/s]"
      ]
     },
     "metadata": {},
     "output_type": "display_data"
    },
    {
     "data": {
      "application/vnd.jupyter.widget-view+json": {
       "model_id": "ce759e7643ab41339e7b6614dd54e98f",
       "version_major": 2,
       "version_minor": 0
      },
      "text/plain": [
       "  0%|          | 0/88 [00:00<?, ?it/s]"
      ]
     },
     "metadata": {},
     "output_type": "display_data"
    },
    {
     "data": {
      "application/vnd.jupyter.widget-view+json": {
       "model_id": "8d2d4939a7614f8d8c6a4569a9f6136b",
       "version_major": 2,
       "version_minor": 0
      },
      "text/plain": [
       "  0%|          | 0/356 [00:00<?, ?it/s]"
      ]
     },
     "metadata": {},
     "output_type": "display_data"
    },
    {
     "data": {
      "application/vnd.jupyter.widget-view+json": {
       "model_id": "41dc0c9245be4f75b17eada6c99a0ef2",
       "version_major": 2,
       "version_minor": 0
      },
      "text/plain": [
       "  0%|          | 0/356 [00:00<?, ?it/s]"
      ]
     },
     "metadata": {},
     "output_type": "display_data"
    },
    {
     "data": {
      "application/vnd.jupyter.widget-view+json": {
       "model_id": "6ede0ca26cf2430c9528534885203d51",
       "version_major": 2,
       "version_minor": 0
      },
      "text/plain": [
       "  0%|          | 0/356 [00:00<?, ?it/s]"
      ]
     },
     "metadata": {},
     "output_type": "display_data"
    },
    {
     "data": {
      "application/vnd.jupyter.widget-view+json": {
       "model_id": "241b00df654141789659266aa2072702",
       "version_major": 2,
       "version_minor": 0
      },
      "text/plain": [
       "  0%|          | 0/88 [00:00<?, ?it/s]"
      ]
     },
     "metadata": {},
     "output_type": "display_data"
    },
    {
     "data": {
      "application/vnd.jupyter.widget-view+json": {
       "model_id": "41f2c405cd1e4c549d83958b0b241db7",
       "version_major": 2,
       "version_minor": 0
      },
      "text/plain": [
       "  0%|          | 0/356 [00:00<?, ?it/s]"
      ]
     },
     "metadata": {},
     "output_type": "display_data"
    },
    {
     "data": {
      "application/vnd.jupyter.widget-view+json": {
       "model_id": "9fb5df531ea9408db5b37324ebf33458",
       "version_major": 2,
       "version_minor": 0
      },
      "text/plain": [
       "  0%|          | 0/88 [00:00<?, ?it/s]"
      ]
     },
     "metadata": {},
     "output_type": "display_data"
    }
   ],
   "source": [
    "experiment_settings = {\n",
    "    'experiment_name': 'silhouette_margin_02',\n",
    "    'experiments_folder': './experiments/',\n",
    "    'model': {\n",
    "        'name': 'DSCNN',\n",
    "        'n_mels': 32,\n",
    "        'in_channels': 1,\n",
    "        'ds_cnn_number': 6,\n",
    "        'ds_cnn_size': 64,\n",
    "        'is_classifier': False,\n",
    "        'classes_number': 20\n",
    "    },\n",
    "    'batch_size': 128,\n",
    "    'n_epoch': 200,\n",
    "    'loss': { \n",
    "        'name': 'SilhouetteMarginLoss',\n",
    "        'margin': 5\n",
    "    },\n",
    "    'train_dataset': \"speech_commands/train\",\n",
    "    'valid_dataset': \"speech_commands/valid\",\n",
    "    'learning_rate': 1e-4,\n",
    "    'optimizer': 'Adam',\n",
    "    'time_start': str(datetime.datetime.now()),\n",
    "}\n",
    "\n",
    "do_experiment(experiment_settings)"
   ]
  },
  {
   "cell_type": "code",
   "execution_count": null,
   "metadata": {},
   "outputs": [],
   "source": [
    "experiment_settings = {\n",
    "    'experiment_name': 'triplet_br_09',\n",
    "    'experiments_folder': './experiments/',\n",
    "    'model': {\n",
    "        'name': 'DSCNN',\n",
    "        'n_mels': 32,\n",
    "        'in_channels': 1,\n",
    "        'ds_cnn_number': 12,\n",
    "        'ds_cnn_size': 256,\n",
    "        'is_classifier': False,\n",
    "        'classes_number': 20\n",
    "    },\n",
    "    'batch_size': 64,\n",
    "    'n_epoch': 200,\n",
    "    'loss': { \n",
    "        'name': 'TripletLoss',\n",
    "        \"loss_margin\": 1,\n",
    "        \"triplet_mining_strategy\": \"batch_random\",\n",
    "        \"loss_agr_policy\": \"mean\"\n",
    "    },\n",
    "    'train_dataset': \"speech_commands/train\",\n",
    "    'valid_dataset': \"speech_commands/valid\",\n",
    "    'learning_rate': 1e-4,\n",
    "    'optimizer': 'Adam',\n",
    "    'time_start': str(datetime.datetime.now()),\n",
    "}\n",
    "\n",
    "do_experiment(experiment_settings)"
   ]
  },
  {
   "cell_type": "code",
   "execution_count": 39,
   "metadata": {},
   "outputs": [],
   "source": []
  },
  {
   "cell_type": "code",
   "execution_count": null,
   "metadata": {},
   "outputs": [],
   "source": [
    "experiment_settings = {\n",
    "    'experiment_name': 'npair_test',\n",
    "    'experiments_folder': './experiments/',\n",
    "    'model': {\n",
    "        'name': 'DSCNN',\n",
    "        'n_mels': 32,\n",
    "        'in_channels': 1,\n",
    "        'ds_cnn_number': 6,\n",
    "        'ds_cnn_size': 64,\n",
    "        'is_classifier': True,\n",
    "        'classes_number': 15\n",
    "    },\n",
    "    'batch_size': 128,\n",
    "    'n_epoch': 200,\n",
    "    \"loss\": {\n",
    "        \"name\": \"NPairLoss\",\n",
    "        \"l2_reg\": 0.01\n",
    "    },\n",
    "    'train_dataset': \"speech_commands/test\",\n",
    "    'valid_dataset': None,\n",
    "    'learning_rate': 1e-4,\n",
    "    'optimizer': 'Adam',\n",
    "    'time_start': str(datetime.datetime.now()),\n",
    "}\n",
    "\n",
    "do_experiment(experiment_settings)"
   ]
  },
  {
   "cell_type": "code",
   "execution_count": 9,
   "metadata": {},
   "outputs": [
    {
     "name": "stdout",
     "output_type": "stream",
     "text": [
      "train_dataset_path = datasets/speech_commands/train\n",
      "valid_dataset_path = datasets/speech_commands/validation\n",
      "<class 'torch.device'> cuda:0\n",
      "Start experiment lifted_structured_03 -- 2023-11-18 09:32:54.137972\n",
      "Model total params: 835584\n",
      "Model train params: 835584\n"
     ]
    },
    {
     "data": {
      "application/vnd.jupyter.widget-view+json": {
       "model_id": "b61000a05af34dafb7d6f0fac070d4b2",
       "version_major": 2,
       "version_minor": 0
      },
      "text/plain": [
       "  0%|          | 0/200 [00:00<?, ?it/s]"
      ]
     },
     "metadata": {},
     "output_type": "display_data"
    },
    {
     "data": {
      "application/vnd.jupyter.widget-view+json": {
       "model_id": "672f1a041fde41589ac2f1501aa4fdd6",
       "version_major": 2,
       "version_minor": 0
      },
      "text/plain": [
       "  0%|          | 0/713 [00:00<?, ?it/s]"
      ]
     },
     "metadata": {},
     "output_type": "display_data"
    },
    {
     "data": {
      "application/vnd.jupyter.widget-view+json": {
       "model_id": "8dfb950f38ec47ae881064cd62ea3326",
       "version_major": 2,
       "version_minor": 0
      },
      "text/plain": [
       "  0%|          | 0/178 [00:00<?, ?it/s]"
      ]
     },
     "metadata": {},
     "output_type": "display_data"
    },
    {
     "data": {
      "application/vnd.jupyter.widget-view+json": {
       "model_id": "5d400f9e8d4d48919b874520e59b4ec4",
       "version_major": 2,
       "version_minor": 0
      },
      "text/plain": [
       "  0%|          | 0/713 [00:00<?, ?it/s]"
      ]
     },
     "metadata": {},
     "output_type": "display_data"
    },
    {
     "data": {
      "application/vnd.jupyter.widget-view+json": {
       "model_id": "20cfaae86f2046d9840cad6eb98e87d2",
       "version_major": 2,
       "version_minor": 0
      },
      "text/plain": [
       "  0%|          | 0/713 [00:00<?, ?it/s]"
      ]
     },
     "metadata": {},
     "output_type": "display_data"
    },
    {
     "data": {
      "application/vnd.jupyter.widget-view+json": {
       "model_id": "9360069274e94a62a7f2675b7033a3f9",
       "version_major": 2,
       "version_minor": 0
      },
      "text/plain": [
       "  0%|          | 0/713 [00:00<?, ?it/s]"
      ]
     },
     "metadata": {},
     "output_type": "display_data"
    },
    {
     "data": {
      "application/vnd.jupyter.widget-view+json": {
       "model_id": "5099f2374f9a45ce813f23c267f75d28",
       "version_major": 2,
       "version_minor": 0
      },
      "text/plain": [
       "  0%|          | 0/178 [00:00<?, ?it/s]"
      ]
     },
     "metadata": {},
     "output_type": "display_data"
    },
    {
     "data": {
      "application/vnd.jupyter.widget-view+json": {
       "model_id": "1a2a8e05d1d34b6e93a939eb6db4f96c",
       "version_major": 2,
       "version_minor": 0
      },
      "text/plain": [
       "  0%|          | 0/713 [00:00<?, ?it/s]"
      ]
     },
     "metadata": {},
     "output_type": "display_data"
    },
    {
     "data": {
      "application/vnd.jupyter.widget-view+json": {
       "model_id": "a50fa92c06fa492fa890392a9ceb3f76",
       "version_major": 2,
       "version_minor": 0
      },
      "text/plain": [
       "  0%|          | 0/713 [00:00<?, ?it/s]"
      ]
     },
     "metadata": {},
     "output_type": "display_data"
    },
    {
     "data": {
      "application/vnd.jupyter.widget-view+json": {
       "model_id": "a78ae70d705d4c69b7deacd28f3862cc",
       "version_major": 2,
       "version_minor": 0
      },
      "text/plain": [
       "  0%|          | 0/713 [00:00<?, ?it/s]"
      ]
     },
     "metadata": {},
     "output_type": "display_data"
    },
    {
     "data": {
      "application/vnd.jupyter.widget-view+json": {
       "model_id": "c751a2e9afb04cf2bb865d9eab8b42de",
       "version_major": 2,
       "version_minor": 0
      },
      "text/plain": [
       "  0%|          | 0/178 [00:00<?, ?it/s]"
      ]
     },
     "metadata": {},
     "output_type": "display_data"
    },
    {
     "data": {
      "application/vnd.jupyter.widget-view+json": {
       "model_id": "e9f0c67905fd4963a1f6f318c6e6e250",
       "version_major": 2,
       "version_minor": 0
      },
      "text/plain": [
       "  0%|          | 0/713 [00:00<?, ?it/s]"
      ]
     },
     "metadata": {},
     "output_type": "display_data"
    },
    {
     "data": {
      "application/vnd.jupyter.widget-view+json": {
       "model_id": "2f4143f31d374cdba33380d4d03fff75",
       "version_major": 2,
       "version_minor": 0
      },
      "text/plain": [
       "  0%|          | 0/713 [00:00<?, ?it/s]"
      ]
     },
     "metadata": {},
     "output_type": "display_data"
    },
    {
     "data": {
      "application/vnd.jupyter.widget-view+json": {
       "model_id": "2e236cb46bd043ec92b1bf7b0a0f0604",
       "version_major": 2,
       "version_minor": 0
      },
      "text/plain": [
       "  0%|          | 0/713 [00:00<?, ?it/s]"
      ]
     },
     "metadata": {},
     "output_type": "display_data"
    },
    {
     "data": {
      "application/vnd.jupyter.widget-view+json": {
       "model_id": "37dff81f7a00429b98815163be4732f9",
       "version_major": 2,
       "version_minor": 0
      },
      "text/plain": [
       "  0%|          | 0/178 [00:00<?, ?it/s]"
      ]
     },
     "metadata": {},
     "output_type": "display_data"
    },
    {
     "data": {
      "application/vnd.jupyter.widget-view+json": {
       "model_id": "6372bd070d404768bcda35d22a4357fb",
       "version_major": 2,
       "version_minor": 0
      },
      "text/plain": [
       "  0%|          | 0/713 [00:00<?, ?it/s]"
      ]
     },
     "metadata": {},
     "output_type": "display_data"
    },
    {
     "data": {
      "application/vnd.jupyter.widget-view+json": {
       "model_id": "a1e2b5a21007473ab4c40cbf01c9370c",
       "version_major": 2,
       "version_minor": 0
      },
      "text/plain": [
       "  0%|          | 0/713 [00:00<?, ?it/s]"
      ]
     },
     "metadata": {},
     "output_type": "display_data"
    },
    {
     "data": {
      "application/vnd.jupyter.widget-view+json": {
       "model_id": "ddcbf4e7596f454893e80360a2e256b4",
       "version_major": 2,
       "version_minor": 0
      },
      "text/plain": [
       "  0%|          | 0/713 [00:00<?, ?it/s]"
      ]
     },
     "metadata": {},
     "output_type": "display_data"
    },
    {
     "data": {
      "application/vnd.jupyter.widget-view+json": {
       "model_id": "bd60eddcec054ad9988c7f84f39fe0ed",
       "version_major": 2,
       "version_minor": 0
      },
      "text/plain": [
       "  0%|          | 0/178 [00:00<?, ?it/s]"
      ]
     },
     "metadata": {},
     "output_type": "display_data"
    },
    {
     "data": {
      "application/vnd.jupyter.widget-view+json": {
       "model_id": "46a51c94b7784a7f8e67766965254b5f",
       "version_major": 2,
       "version_minor": 0
      },
      "text/plain": [
       "  0%|          | 0/713 [00:00<?, ?it/s]"
      ]
     },
     "metadata": {},
     "output_type": "display_data"
    },
    {
     "data": {
      "application/vnd.jupyter.widget-view+json": {
       "model_id": "1c12c0e4cd444483b3025184c2375ca2",
       "version_major": 2,
       "version_minor": 0
      },
      "text/plain": [
       "  0%|          | 0/713 [00:00<?, ?it/s]"
      ]
     },
     "metadata": {},
     "output_type": "display_data"
    },
    {
     "data": {
      "application/vnd.jupyter.widget-view+json": {
       "model_id": "5655ca1eb25c4d0fb96a58ec40e46ed7",
       "version_major": 2,
       "version_minor": 0
      },
      "text/plain": [
       "  0%|          | 0/713 [00:00<?, ?it/s]"
      ]
     },
     "metadata": {},
     "output_type": "display_data"
    },
    {
     "data": {
      "application/vnd.jupyter.widget-view+json": {
       "model_id": "ff5392ddf15c4af3a337ec70f7f629a9",
       "version_major": 2,
       "version_minor": 0
      },
      "text/plain": [
       "  0%|          | 0/178 [00:00<?, ?it/s]"
      ]
     },
     "metadata": {},
     "output_type": "display_data"
    },
    {
     "data": {
      "application/vnd.jupyter.widget-view+json": {
       "model_id": "6fb9c0d145034876a670c07f1ff5bca5",
       "version_major": 2,
       "version_minor": 0
      },
      "text/plain": [
       "  0%|          | 0/713 [00:00<?, ?it/s]"
      ]
     },
     "metadata": {},
     "output_type": "display_data"
    },
    {
     "data": {
      "application/vnd.jupyter.widget-view+json": {
       "model_id": "0c9b44cadb444c2888008fd0ea75f55d",
       "version_major": 2,
       "version_minor": 0
      },
      "text/plain": [
       "  0%|          | 0/713 [00:00<?, ?it/s]"
      ]
     },
     "metadata": {},
     "output_type": "display_data"
    },
    {
     "data": {
      "application/vnd.jupyter.widget-view+json": {
       "model_id": "a830029c4d3d4e748631c6559abdea89",
       "version_major": 2,
       "version_minor": 0
      },
      "text/plain": [
       "  0%|          | 0/713 [00:00<?, ?it/s]"
      ]
     },
     "metadata": {},
     "output_type": "display_data"
    },
    {
     "data": {
      "application/vnd.jupyter.widget-view+json": {
       "model_id": "ebb62f207f1444e09b919d678ac8a4be",
       "version_major": 2,
       "version_minor": 0
      },
      "text/plain": [
       "  0%|          | 0/178 [00:00<?, ?it/s]"
      ]
     },
     "metadata": {},
     "output_type": "display_data"
    },
    {
     "data": {
      "application/vnd.jupyter.widget-view+json": {
       "model_id": "7d5884da728141feae760d929efde272",
       "version_major": 2,
       "version_minor": 0
      },
      "text/plain": [
       "  0%|          | 0/713 [00:00<?, ?it/s]"
      ]
     },
     "metadata": {},
     "output_type": "display_data"
    },
    {
     "data": {
      "application/vnd.jupyter.widget-view+json": {
       "model_id": "ceff406bffba49c59406e92b22e9794b",
       "version_major": 2,
       "version_minor": 0
      },
      "text/plain": [
       "  0%|          | 0/713 [00:00<?, ?it/s]"
      ]
     },
     "metadata": {},
     "output_type": "display_data"
    },
    {
     "data": {
      "application/vnd.jupyter.widget-view+json": {
       "model_id": "b41cfa7a35cc4efe80f7116c786de455",
       "version_major": 2,
       "version_minor": 0
      },
      "text/plain": [
       "  0%|          | 0/713 [00:00<?, ?it/s]"
      ]
     },
     "metadata": {},
     "output_type": "display_data"
    },
    {
     "data": {
      "application/vnd.jupyter.widget-view+json": {
       "model_id": "9350bf953f004967b6ccd07db794f90b",
       "version_major": 2,
       "version_minor": 0
      },
      "text/plain": [
       "  0%|          | 0/178 [00:00<?, ?it/s]"
      ]
     },
     "metadata": {},
     "output_type": "display_data"
    },
    {
     "data": {
      "application/vnd.jupyter.widget-view+json": {
       "model_id": "dc6ec093eaf741a78286ff0da558a777",
       "version_major": 2,
       "version_minor": 0
      },
      "text/plain": [
       "  0%|          | 0/713 [00:00<?, ?it/s]"
      ]
     },
     "metadata": {},
     "output_type": "display_data"
    },
    {
     "data": {
      "application/vnd.jupyter.widget-view+json": {
       "model_id": "0d972c4392bd4507be1831dc01a2e63c",
       "version_major": 2,
       "version_minor": 0
      },
      "text/plain": [
       "  0%|          | 0/713 [00:00<?, ?it/s]"
      ]
     },
     "metadata": {},
     "output_type": "display_data"
    },
    {
     "data": {
      "application/vnd.jupyter.widget-view+json": {
       "model_id": "bbdb0fb8fc17433787d19423b5de8445",
       "version_major": 2,
       "version_minor": 0
      },
      "text/plain": [
       "  0%|          | 0/713 [00:00<?, ?it/s]"
      ]
     },
     "metadata": {},
     "output_type": "display_data"
    },
    {
     "data": {
      "application/vnd.jupyter.widget-view+json": {
       "model_id": "4ec013c8f7804f21b2b0b54ace75ed47",
       "version_major": 2,
       "version_minor": 0
      },
      "text/plain": [
       "  0%|          | 0/178 [00:00<?, ?it/s]"
      ]
     },
     "metadata": {},
     "output_type": "display_data"
    },
    {
     "data": {
      "application/vnd.jupyter.widget-view+json": {
       "model_id": "1c8844978e5046e2930640201669aee7",
       "version_major": 2,
       "version_minor": 0
      },
      "text/plain": [
       "  0%|          | 0/713 [00:00<?, ?it/s]"
      ]
     },
     "metadata": {},
     "output_type": "display_data"
    },
    {
     "data": {
      "application/vnd.jupyter.widget-view+json": {
       "model_id": "57c5f899276f4c4588df4de98e66703e",
       "version_major": 2,
       "version_minor": 0
      },
      "text/plain": [
       "  0%|          | 0/713 [00:00<?, ?it/s]"
      ]
     },
     "metadata": {},
     "output_type": "display_data"
    },
    {
     "data": {
      "application/vnd.jupyter.widget-view+json": {
       "model_id": "b1d6471432334c6396b4c97b659180ba",
       "version_major": 2,
       "version_minor": 0
      },
      "text/plain": [
       "  0%|          | 0/713 [00:00<?, ?it/s]"
      ]
     },
     "metadata": {},
     "output_type": "display_data"
    },
    {
     "data": {
      "application/vnd.jupyter.widget-view+json": {
       "model_id": "f6467b5f9897403a9f2837a7606c08e3",
       "version_major": 2,
       "version_minor": 0
      },
      "text/plain": [
       "  0%|          | 0/178 [00:00<?, ?it/s]"
      ]
     },
     "metadata": {},
     "output_type": "display_data"
    },
    {
     "data": {
      "application/vnd.jupyter.widget-view+json": {
       "model_id": "6327f36b79904ae7a776a5b3c258814c",
       "version_major": 2,
       "version_minor": 0
      },
      "text/plain": [
       "  0%|          | 0/713 [00:00<?, ?it/s]"
      ]
     },
     "metadata": {},
     "output_type": "display_data"
    },
    {
     "data": {
      "application/vnd.jupyter.widget-view+json": {
       "model_id": "ba1b601aab1e4f37a32b09a8e9f3ab15",
       "version_major": 2,
       "version_minor": 0
      },
      "text/plain": [
       "  0%|          | 0/713 [00:00<?, ?it/s]"
      ]
     },
     "metadata": {},
     "output_type": "display_data"
    },
    {
     "data": {
      "application/vnd.jupyter.widget-view+json": {
       "model_id": "92479be5515f4515b19b05a2693ca7dc",
       "version_major": 2,
       "version_minor": 0
      },
      "text/plain": [
       "  0%|          | 0/713 [00:00<?, ?it/s]"
      ]
     },
     "metadata": {},
     "output_type": "display_data"
    },
    {
     "data": {
      "application/vnd.jupyter.widget-view+json": {
       "model_id": "6e34fcf23e274205958e3c8267905e8f",
       "version_major": 2,
       "version_minor": 0
      },
      "text/plain": [
       "  0%|          | 0/178 [00:00<?, ?it/s]"
      ]
     },
     "metadata": {},
     "output_type": "display_data"
    },
    {
     "data": {
      "application/vnd.jupyter.widget-view+json": {
       "model_id": "d25ad1c3c9d54c0991cb27bf4d939302",
       "version_major": 2,
       "version_minor": 0
      },
      "text/plain": [
       "  0%|          | 0/713 [00:00<?, ?it/s]"
      ]
     },
     "metadata": {},
     "output_type": "display_data"
    },
    {
     "data": {
      "application/vnd.jupyter.widget-view+json": {
       "model_id": "7f67c4c6b1cb45e88d54db8c59757da9",
       "version_major": 2,
       "version_minor": 0
      },
      "text/plain": [
       "  0%|          | 0/713 [00:00<?, ?it/s]"
      ]
     },
     "metadata": {},
     "output_type": "display_data"
    },
    {
     "data": {
      "application/vnd.jupyter.widget-view+json": {
       "model_id": "2d2f699ce6204d0f84e26d625d77f94d",
       "version_major": 2,
       "version_minor": 0
      },
      "text/plain": [
       "  0%|          | 0/713 [00:00<?, ?it/s]"
      ]
     },
     "metadata": {},
     "output_type": "display_data"
    },
    {
     "data": {
      "application/vnd.jupyter.widget-view+json": {
       "model_id": "9cd97b0291984462aa8370ff0db60703",
       "version_major": 2,
       "version_minor": 0
      },
      "text/plain": [
       "  0%|          | 0/178 [00:00<?, ?it/s]"
      ]
     },
     "metadata": {},
     "output_type": "display_data"
    },
    {
     "data": {
      "application/vnd.jupyter.widget-view+json": {
       "model_id": "ee0bfb49f97646c0bf9191fa12ac943d",
       "version_major": 2,
       "version_minor": 0
      },
      "text/plain": [
       "  0%|          | 0/713 [00:00<?, ?it/s]"
      ]
     },
     "metadata": {},
     "output_type": "display_data"
    },
    {
     "data": {
      "application/vnd.jupyter.widget-view+json": {
       "model_id": "062f5a03a1574b9e88189038c31e2ad9",
       "version_major": 2,
       "version_minor": 0
      },
      "text/plain": [
       "  0%|          | 0/713 [00:00<?, ?it/s]"
      ]
     },
     "metadata": {},
     "output_type": "display_data"
    },
    {
     "data": {
      "application/vnd.jupyter.widget-view+json": {
       "model_id": "80e9ca16f28f45e398927dfc5753784b",
       "version_major": 2,
       "version_minor": 0
      },
      "text/plain": [
       "  0%|          | 0/713 [00:00<?, ?it/s]"
      ]
     },
     "metadata": {},
     "output_type": "display_data"
    },
    {
     "data": {
      "application/vnd.jupyter.widget-view+json": {
       "model_id": "3d47e034cad24ed882685df5e051640a",
       "version_major": 2,
       "version_minor": 0
      },
      "text/plain": [
       "  0%|          | 0/178 [00:00<?, ?it/s]"
      ]
     },
     "metadata": {},
     "output_type": "display_data"
    },
    {
     "data": {
      "application/vnd.jupyter.widget-view+json": {
       "model_id": "7ac23c62e33048c7922525b7af3ce4ba",
       "version_major": 2,
       "version_minor": 0
      },
      "text/plain": [
       "  0%|          | 0/713 [00:00<?, ?it/s]"
      ]
     },
     "metadata": {},
     "output_type": "display_data"
    },
    {
     "data": {
      "application/vnd.jupyter.widget-view+json": {
       "model_id": "246ec7d480c64dfd9826eda57cc890eb",
       "version_major": 2,
       "version_minor": 0
      },
      "text/plain": [
       "  0%|          | 0/713 [00:00<?, ?it/s]"
      ]
     },
     "metadata": {},
     "output_type": "display_data"
    },
    {
     "data": {
      "application/vnd.jupyter.widget-view+json": {
       "model_id": "2ab139317aca445291190f828811af5b",
       "version_major": 2,
       "version_minor": 0
      },
      "text/plain": [
       "  0%|          | 0/713 [00:00<?, ?it/s]"
      ]
     },
     "metadata": {},
     "output_type": "display_data"
    },
    {
     "data": {
      "application/vnd.jupyter.widget-view+json": {
       "model_id": "604f218247d34b3b8ece55a074562493",
       "version_major": 2,
       "version_minor": 0
      },
      "text/plain": [
       "  0%|          | 0/178 [00:00<?, ?it/s]"
      ]
     },
     "metadata": {},
     "output_type": "display_data"
    },
    {
     "data": {
      "application/vnd.jupyter.widget-view+json": {
       "model_id": "2d8559879da94c7c80518efea49c615e",
       "version_major": 2,
       "version_minor": 0
      },
      "text/plain": [
       "  0%|          | 0/713 [00:00<?, ?it/s]"
      ]
     },
     "metadata": {},
     "output_type": "display_data"
    },
    {
     "data": {
      "application/vnd.jupyter.widget-view+json": {
       "model_id": "138be5ab625e474faa74f090d0d794c5",
       "version_major": 2,
       "version_minor": 0
      },
      "text/plain": [
       "  0%|          | 0/713 [00:00<?, ?it/s]"
      ]
     },
     "metadata": {},
     "output_type": "display_data"
    },
    {
     "data": {
      "application/vnd.jupyter.widget-view+json": {
       "model_id": "efefcbf4547f43f0975656e3c1abf835",
       "version_major": 2,
       "version_minor": 0
      },
      "text/plain": [
       "  0%|          | 0/713 [00:00<?, ?it/s]"
      ]
     },
     "metadata": {},
     "output_type": "display_data"
    },
    {
     "data": {
      "application/vnd.jupyter.widget-view+json": {
       "model_id": "5042e1be7ec74f72bf239d2726aec4ac",
       "version_major": 2,
       "version_minor": 0
      },
      "text/plain": [
       "  0%|          | 0/178 [00:00<?, ?it/s]"
      ]
     },
     "metadata": {},
     "output_type": "display_data"
    },
    {
     "data": {
      "application/vnd.jupyter.widget-view+json": {
       "model_id": "296071d7bbc340bda1222a4eeeb9ec86",
       "version_major": 2,
       "version_minor": 0
      },
      "text/plain": [
       "  0%|          | 0/713 [00:00<?, ?it/s]"
      ]
     },
     "metadata": {},
     "output_type": "display_data"
    },
    {
     "data": {
      "application/vnd.jupyter.widget-view+json": {
       "model_id": "ee0aa803aecd4a6298612788d9df240e",
       "version_major": 2,
       "version_minor": 0
      },
      "text/plain": [
       "  0%|          | 0/713 [00:00<?, ?it/s]"
      ]
     },
     "metadata": {},
     "output_type": "display_data"
    },
    {
     "data": {
      "application/vnd.jupyter.widget-view+json": {
       "model_id": "b4fc6f07532b4084a0fca106f53c6356",
       "version_major": 2,
       "version_minor": 0
      },
      "text/plain": [
       "  0%|          | 0/713 [00:00<?, ?it/s]"
      ]
     },
     "metadata": {},
     "output_type": "display_data"
    },
    {
     "data": {
      "application/vnd.jupyter.widget-view+json": {
       "model_id": "f82e227b34c34a55bb943d81754a83eb",
       "version_major": 2,
       "version_minor": 0
      },
      "text/plain": [
       "  0%|          | 0/178 [00:00<?, ?it/s]"
      ]
     },
     "metadata": {},
     "output_type": "display_data"
    },
    {
     "data": {
      "application/vnd.jupyter.widget-view+json": {
       "model_id": "d36b47c1e2cb43d889a477d49f29e5b4",
       "version_major": 2,
       "version_minor": 0
      },
      "text/plain": [
       "  0%|          | 0/713 [00:00<?, ?it/s]"
      ]
     },
     "metadata": {},
     "output_type": "display_data"
    },
    {
     "data": {
      "application/vnd.jupyter.widget-view+json": {
       "model_id": "80908db24b4943afa8c280b974fac470",
       "version_major": 2,
       "version_minor": 0
      },
      "text/plain": [
       "  0%|          | 0/713 [00:00<?, ?it/s]"
      ]
     },
     "metadata": {},
     "output_type": "display_data"
    },
    {
     "data": {
      "application/vnd.jupyter.widget-view+json": {
       "model_id": "e59aaabd8698456aa37fe748c1b41f54",
       "version_major": 2,
       "version_minor": 0
      },
      "text/plain": [
       "  0%|          | 0/713 [00:00<?, ?it/s]"
      ]
     },
     "metadata": {},
     "output_type": "display_data"
    },
    {
     "data": {
      "application/vnd.jupyter.widget-view+json": {
       "model_id": "d9ff17124cf2422696c23a45af0eea40",
       "version_major": 2,
       "version_minor": 0
      },
      "text/plain": [
       "  0%|          | 0/178 [00:00<?, ?it/s]"
      ]
     },
     "metadata": {},
     "output_type": "display_data"
    },
    {
     "data": {
      "application/vnd.jupyter.widget-view+json": {
       "model_id": "e95cd804d8664e2ab145cb8b9740486e",
       "version_major": 2,
       "version_minor": 0
      },
      "text/plain": [
       "  0%|          | 0/713 [00:00<?, ?it/s]"
      ]
     },
     "metadata": {},
     "output_type": "display_data"
    },
    {
     "data": {
      "application/vnd.jupyter.widget-view+json": {
       "model_id": "ce6e728b8cca46c78e5d54363c920343",
       "version_major": 2,
       "version_minor": 0
      },
      "text/plain": [
       "  0%|          | 0/713 [00:00<?, ?it/s]"
      ]
     },
     "metadata": {},
     "output_type": "display_data"
    },
    {
     "data": {
      "application/vnd.jupyter.widget-view+json": {
       "model_id": "79e05c502ff64563a4887f1c4542d403",
       "version_major": 2,
       "version_minor": 0
      },
      "text/plain": [
       "  0%|          | 0/713 [00:00<?, ?it/s]"
      ]
     },
     "metadata": {},
     "output_type": "display_data"
    },
    {
     "data": {
      "application/vnd.jupyter.widget-view+json": {
       "model_id": "a9d1bc1dafd048878438c335e25f572f",
       "version_major": 2,
       "version_minor": 0
      },
      "text/plain": [
       "  0%|          | 0/178 [00:00<?, ?it/s]"
      ]
     },
     "metadata": {},
     "output_type": "display_data"
    },
    {
     "data": {
      "application/vnd.jupyter.widget-view+json": {
       "model_id": "30553a9ec9da4b3788bb6e22066073c5",
       "version_major": 2,
       "version_minor": 0
      },
      "text/plain": [
       "  0%|          | 0/713 [00:00<?, ?it/s]"
      ]
     },
     "metadata": {},
     "output_type": "display_data"
    },
    {
     "data": {
      "application/vnd.jupyter.widget-view+json": {
       "model_id": "5925fe7b911442bfa42a53fb3f40878b",
       "version_major": 2,
       "version_minor": 0
      },
      "text/plain": [
       "  0%|          | 0/713 [00:00<?, ?it/s]"
      ]
     },
     "metadata": {},
     "output_type": "display_data"
    },
    {
     "data": {
      "application/vnd.jupyter.widget-view+json": {
       "model_id": "ffae09e500e24282bedfcbee0a15be1f",
       "version_major": 2,
       "version_minor": 0
      },
      "text/plain": [
       "  0%|          | 0/713 [00:00<?, ?it/s]"
      ]
     },
     "metadata": {},
     "output_type": "display_data"
    },
    {
     "data": {
      "application/vnd.jupyter.widget-view+json": {
       "model_id": "5e5c033ae0ab4dc8a6fe98d1a698c085",
       "version_major": 2,
       "version_minor": 0
      },
      "text/plain": [
       "  0%|          | 0/178 [00:00<?, ?it/s]"
      ]
     },
     "metadata": {},
     "output_type": "display_data"
    },
    {
     "data": {
      "application/vnd.jupyter.widget-view+json": {
       "model_id": "2bfc3f6d98224978887f9ba097e4b822",
       "version_major": 2,
       "version_minor": 0
      },
      "text/plain": [
       "  0%|          | 0/713 [00:00<?, ?it/s]"
      ]
     },
     "metadata": {},
     "output_type": "display_data"
    },
    {
     "data": {
      "application/vnd.jupyter.widget-view+json": {
       "model_id": "274991300dcc4283b37f82973198b63e",
       "version_major": 2,
       "version_minor": 0
      },
      "text/plain": [
       "  0%|          | 0/713 [00:00<?, ?it/s]"
      ]
     },
     "metadata": {},
     "output_type": "display_data"
    },
    {
     "data": {
      "application/vnd.jupyter.widget-view+json": {
       "model_id": "3b0a56455cdb4fc1a8f64e981d88fa9c",
       "version_major": 2,
       "version_minor": 0
      },
      "text/plain": [
       "  0%|          | 0/713 [00:00<?, ?it/s]"
      ]
     },
     "metadata": {},
     "output_type": "display_data"
    },
    {
     "data": {
      "application/vnd.jupyter.widget-view+json": {
       "model_id": "2aef17ac3a17403ca5c8dea21b85b1cb",
       "version_major": 2,
       "version_minor": 0
      },
      "text/plain": [
       "  0%|          | 0/178 [00:00<?, ?it/s]"
      ]
     },
     "metadata": {},
     "output_type": "display_data"
    },
    {
     "data": {
      "application/vnd.jupyter.widget-view+json": {
       "model_id": "1d42ee56ef3d4c318179b1f0a59e40dd",
       "version_major": 2,
       "version_minor": 0
      },
      "text/plain": [
       "  0%|          | 0/713 [00:00<?, ?it/s]"
      ]
     },
     "metadata": {},
     "output_type": "display_data"
    },
    {
     "data": {
      "application/vnd.jupyter.widget-view+json": {
       "model_id": "f9bad7d5397f463f93dfa98cd28a5b7c",
       "version_major": 2,
       "version_minor": 0
      },
      "text/plain": [
       "  0%|          | 0/713 [00:00<?, ?it/s]"
      ]
     },
     "metadata": {},
     "output_type": "display_data"
    },
    {
     "data": {
      "application/vnd.jupyter.widget-view+json": {
       "model_id": "2e3801d93b0c4b24ae1760a7f86128f3",
       "version_major": 2,
       "version_minor": 0
      },
      "text/plain": [
       "  0%|          | 0/713 [00:00<?, ?it/s]"
      ]
     },
     "metadata": {},
     "output_type": "display_data"
    },
    {
     "data": {
      "application/vnd.jupyter.widget-view+json": {
       "model_id": "8d9eeb9a89e8498ba6806e8df80228b0",
       "version_major": 2,
       "version_minor": 0
      },
      "text/plain": [
       "  0%|          | 0/178 [00:00<?, ?it/s]"
      ]
     },
     "metadata": {},
     "output_type": "display_data"
    },
    {
     "data": {
      "application/vnd.jupyter.widget-view+json": {
       "model_id": "24685553280c4c18b354cc9fd3ea3627",
       "version_major": 2,
       "version_minor": 0
      },
      "text/plain": [
       "  0%|          | 0/713 [00:00<?, ?it/s]"
      ]
     },
     "metadata": {},
     "output_type": "display_data"
    },
    {
     "data": {
      "application/vnd.jupyter.widget-view+json": {
       "model_id": "004f22220b8248ea82d0ca5daa5fe806",
       "version_major": 2,
       "version_minor": 0
      },
      "text/plain": [
       "  0%|          | 0/713 [00:00<?, ?it/s]"
      ]
     },
     "metadata": {},
     "output_type": "display_data"
    },
    {
     "data": {
      "application/vnd.jupyter.widget-view+json": {
       "model_id": "9ad5008c66124fb7a555d2375e42d9da",
       "version_major": 2,
       "version_minor": 0
      },
      "text/plain": [
       "  0%|          | 0/713 [00:00<?, ?it/s]"
      ]
     },
     "metadata": {},
     "output_type": "display_data"
    },
    {
     "data": {
      "application/vnd.jupyter.widget-view+json": {
       "model_id": "a33c3a6d241643ac8e47bcce33cdb28d",
       "version_major": 2,
       "version_minor": 0
      },
      "text/plain": [
       "  0%|          | 0/178 [00:00<?, ?it/s]"
      ]
     },
     "metadata": {},
     "output_type": "display_data"
    },
    {
     "data": {
      "application/vnd.jupyter.widget-view+json": {
       "model_id": "4bccd591f1f243cdb4c0c29d13bd4f33",
       "version_major": 2,
       "version_minor": 0
      },
      "text/plain": [
       "  0%|          | 0/713 [00:00<?, ?it/s]"
      ]
     },
     "metadata": {},
     "output_type": "display_data"
    },
    {
     "data": {
      "application/vnd.jupyter.widget-view+json": {
       "model_id": "c06aabc3727440eb9b1ae397d04ef90c",
       "version_major": 2,
       "version_minor": 0
      },
      "text/plain": [
       "  0%|          | 0/713 [00:00<?, ?it/s]"
      ]
     },
     "metadata": {},
     "output_type": "display_data"
    },
    {
     "data": {
      "application/vnd.jupyter.widget-view+json": {
       "model_id": "2a816aa366814a2e9edb032c57e15dac",
       "version_major": 2,
       "version_minor": 0
      },
      "text/plain": [
       "  0%|          | 0/713 [00:00<?, ?it/s]"
      ]
     },
     "metadata": {},
     "output_type": "display_data"
    },
    {
     "data": {
      "application/vnd.jupyter.widget-view+json": {
       "model_id": "ef89375c75254d27a457b2b3b9b8c488",
       "version_major": 2,
       "version_minor": 0
      },
      "text/plain": [
       "  0%|          | 0/178 [00:00<?, ?it/s]"
      ]
     },
     "metadata": {},
     "output_type": "display_data"
    },
    {
     "data": {
      "application/vnd.jupyter.widget-view+json": {
       "model_id": "ca393d6717b14718a7956d0021a9b074",
       "version_major": 2,
       "version_minor": 0
      },
      "text/plain": [
       "  0%|          | 0/713 [00:00<?, ?it/s]"
      ]
     },
     "metadata": {},
     "output_type": "display_data"
    },
    {
     "data": {
      "application/vnd.jupyter.widget-view+json": {
       "model_id": "0fbdd7dff0d0424594371d7f9bdc6808",
       "version_major": 2,
       "version_minor": 0
      },
      "text/plain": [
       "  0%|          | 0/713 [00:00<?, ?it/s]"
      ]
     },
     "metadata": {},
     "output_type": "display_data"
    },
    {
     "data": {
      "application/vnd.jupyter.widget-view+json": {
       "model_id": "a41e457b302b4a21a634ffd60a7f6696",
       "version_major": 2,
       "version_minor": 0
      },
      "text/plain": [
       "  0%|          | 0/713 [00:00<?, ?it/s]"
      ]
     },
     "metadata": {},
     "output_type": "display_data"
    },
    {
     "data": {
      "application/vnd.jupyter.widget-view+json": {
       "model_id": "b85410633ec446378beccf5b51b16497",
       "version_major": 2,
       "version_minor": 0
      },
      "text/plain": [
       "  0%|          | 0/178 [00:00<?, ?it/s]"
      ]
     },
     "metadata": {},
     "output_type": "display_data"
    },
    {
     "data": {
      "application/vnd.jupyter.widget-view+json": {
       "model_id": "5ecf236b898044179cf412802056684d",
       "version_major": 2,
       "version_minor": 0
      },
      "text/plain": [
       "  0%|          | 0/713 [00:00<?, ?it/s]"
      ]
     },
     "metadata": {},
     "output_type": "display_data"
    },
    {
     "data": {
      "application/vnd.jupyter.widget-view+json": {
       "model_id": "1146bda9a8874b229825a2f20078ba5e",
       "version_major": 2,
       "version_minor": 0
      },
      "text/plain": [
       "  0%|          | 0/713 [00:00<?, ?it/s]"
      ]
     },
     "metadata": {},
     "output_type": "display_data"
    },
    {
     "data": {
      "application/vnd.jupyter.widget-view+json": {
       "model_id": "7365e6f4491c4499a5ec6eebe1d448b8",
       "version_major": 2,
       "version_minor": 0
      },
      "text/plain": [
       "  0%|          | 0/713 [00:00<?, ?it/s]"
      ]
     },
     "metadata": {},
     "output_type": "display_data"
    },
    {
     "data": {
      "application/vnd.jupyter.widget-view+json": {
       "model_id": "c2317c9f3b2b441a99361b8862aaf93c",
       "version_major": 2,
       "version_minor": 0
      },
      "text/plain": [
       "  0%|          | 0/178 [00:00<?, ?it/s]"
      ]
     },
     "metadata": {},
     "output_type": "display_data"
    },
    {
     "data": {
      "application/vnd.jupyter.widget-view+json": {
       "model_id": "5da744ffc13447fe80baddb4c6f27339",
       "version_major": 2,
       "version_minor": 0
      },
      "text/plain": [
       "  0%|          | 0/713 [00:00<?, ?it/s]"
      ]
     },
     "metadata": {},
     "output_type": "display_data"
    },
    {
     "data": {
      "application/vnd.jupyter.widget-view+json": {
       "model_id": "b21a40102cad4db0b1cff17040be85e4",
       "version_major": 2,
       "version_minor": 0
      },
      "text/plain": [
       "  0%|          | 0/713 [00:00<?, ?it/s]"
      ]
     },
     "metadata": {},
     "output_type": "display_data"
    },
    {
     "data": {
      "application/vnd.jupyter.widget-view+json": {
       "model_id": "7ecbfb344ee6460694d5c4c399174a70",
       "version_major": 2,
       "version_minor": 0
      },
      "text/plain": [
       "  0%|          | 0/713 [00:00<?, ?it/s]"
      ]
     },
     "metadata": {},
     "output_type": "display_data"
    },
    {
     "data": {
      "application/vnd.jupyter.widget-view+json": {
       "model_id": "c2fe3efb7a8542fa9c5f50bdcafc4302",
       "version_major": 2,
       "version_minor": 0
      },
      "text/plain": [
       "  0%|          | 0/178 [00:00<?, ?it/s]"
      ]
     },
     "metadata": {},
     "output_type": "display_data"
    },
    {
     "data": {
      "application/vnd.jupyter.widget-view+json": {
       "model_id": "37964df68c4946d6bef3b9a04bcfa89c",
       "version_major": 2,
       "version_minor": 0
      },
      "text/plain": [
       "  0%|          | 0/713 [00:00<?, ?it/s]"
      ]
     },
     "metadata": {},
     "output_type": "display_data"
    },
    {
     "data": {
      "application/vnd.jupyter.widget-view+json": {
       "model_id": "193702fb273745fa9335edb4b132a03c",
       "version_major": 2,
       "version_minor": 0
      },
      "text/plain": [
       "  0%|          | 0/713 [00:00<?, ?it/s]"
      ]
     },
     "metadata": {},
     "output_type": "display_data"
    },
    {
     "data": {
      "application/vnd.jupyter.widget-view+json": {
       "model_id": "3cecb4db21e649abbbafa015fd28ec59",
       "version_major": 2,
       "version_minor": 0
      },
      "text/plain": [
       "  0%|          | 0/713 [00:00<?, ?it/s]"
      ]
     },
     "metadata": {},
     "output_type": "display_data"
    },
    {
     "data": {
      "application/vnd.jupyter.widget-view+json": {
       "model_id": "bd72489669b34e5b8de92fafde3aa9b6",
       "version_major": 2,
       "version_minor": 0
      },
      "text/plain": [
       "  0%|          | 0/178 [00:00<?, ?it/s]"
      ]
     },
     "metadata": {},
     "output_type": "display_data"
    },
    {
     "data": {
      "application/vnd.jupyter.widget-view+json": {
       "model_id": "72f37228d9f645d1af46f1d315a94db1",
       "version_major": 2,
       "version_minor": 0
      },
      "text/plain": [
       "  0%|          | 0/713 [00:00<?, ?it/s]"
      ]
     },
     "metadata": {},
     "output_type": "display_data"
    },
    {
     "data": {
      "application/vnd.jupyter.widget-view+json": {
       "model_id": "63c57f2d67064bbebf03f5af682ac9b2",
       "version_major": 2,
       "version_minor": 0
      },
      "text/plain": [
       "  0%|          | 0/713 [00:00<?, ?it/s]"
      ]
     },
     "metadata": {},
     "output_type": "display_data"
    },
    {
     "data": {
      "application/vnd.jupyter.widget-view+json": {
       "model_id": "7c0ff1f713b749d9a190de3de5c3832f",
       "version_major": 2,
       "version_minor": 0
      },
      "text/plain": [
       "  0%|          | 0/713 [00:00<?, ?it/s]"
      ]
     },
     "metadata": {},
     "output_type": "display_data"
    },
    {
     "data": {
      "application/vnd.jupyter.widget-view+json": {
       "model_id": "25cf75d8aecd495aa1b56718f6b33f90",
       "version_major": 2,
       "version_minor": 0
      },
      "text/plain": [
       "  0%|          | 0/178 [00:00<?, ?it/s]"
      ]
     },
     "metadata": {},
     "output_type": "display_data"
    },
    {
     "data": {
      "application/vnd.jupyter.widget-view+json": {
       "model_id": "869a8d6392954ffa9909e223785b576a",
       "version_major": 2,
       "version_minor": 0
      },
      "text/plain": [
       "  0%|          | 0/713 [00:00<?, ?it/s]"
      ]
     },
     "metadata": {},
     "output_type": "display_data"
    },
    {
     "data": {
      "application/vnd.jupyter.widget-view+json": {
       "model_id": "7b1fb815b93e45319407b9e13732f9c9",
       "version_major": 2,
       "version_minor": 0
      },
      "text/plain": [
       "  0%|          | 0/713 [00:00<?, ?it/s]"
      ]
     },
     "metadata": {},
     "output_type": "display_data"
    },
    {
     "data": {
      "application/vnd.jupyter.widget-view+json": {
       "model_id": "2405e8d96c1f4bacaca1606493532ddb",
       "version_major": 2,
       "version_minor": 0
      },
      "text/plain": [
       "  0%|          | 0/713 [00:00<?, ?it/s]"
      ]
     },
     "metadata": {},
     "output_type": "display_data"
    },
    {
     "data": {
      "application/vnd.jupyter.widget-view+json": {
       "model_id": "8dcaec27115748f581f35c36bd386fdc",
       "version_major": 2,
       "version_minor": 0
      },
      "text/plain": [
       "  0%|          | 0/178 [00:00<?, ?it/s]"
      ]
     },
     "metadata": {},
     "output_type": "display_data"
    },
    {
     "data": {
      "application/vnd.jupyter.widget-view+json": {
       "model_id": "0677a8baa0ae4db9beae13387c07b829",
       "version_major": 2,
       "version_minor": 0
      },
      "text/plain": [
       "  0%|          | 0/713 [00:00<?, ?it/s]"
      ]
     },
     "metadata": {},
     "output_type": "display_data"
    },
    {
     "data": {
      "application/vnd.jupyter.widget-view+json": {
       "model_id": "516edebf12fb4c44821558c54b6175aa",
       "version_major": 2,
       "version_minor": 0
      },
      "text/plain": [
       "  0%|          | 0/713 [00:00<?, ?it/s]"
      ]
     },
     "metadata": {},
     "output_type": "display_data"
    },
    {
     "data": {
      "application/vnd.jupyter.widget-view+json": {
       "model_id": "5fab8c3b24ef4e27a0e2103c77f0a7e3",
       "version_major": 2,
       "version_minor": 0
      },
      "text/plain": [
       "  0%|          | 0/713 [00:00<?, ?it/s]"
      ]
     },
     "metadata": {},
     "output_type": "display_data"
    },
    {
     "data": {
      "application/vnd.jupyter.widget-view+json": {
       "model_id": "1650a5e705454710bb524bb5185da96b",
       "version_major": 2,
       "version_minor": 0
      },
      "text/plain": [
       "  0%|          | 0/178 [00:00<?, ?it/s]"
      ]
     },
     "metadata": {},
     "output_type": "display_data"
    },
    {
     "data": {
      "application/vnd.jupyter.widget-view+json": {
       "model_id": "676b29f51b8d41549d37ec9752dbdf4d",
       "version_major": 2,
       "version_minor": 0
      },
      "text/plain": [
       "  0%|          | 0/713 [00:00<?, ?it/s]"
      ]
     },
     "metadata": {},
     "output_type": "display_data"
    },
    {
     "data": {
      "application/vnd.jupyter.widget-view+json": {
       "model_id": "bc86f443e5594c23a8ef486baf95657e",
       "version_major": 2,
       "version_minor": 0
      },
      "text/plain": [
       "  0%|          | 0/713 [00:00<?, ?it/s]"
      ]
     },
     "metadata": {},
     "output_type": "display_data"
    },
    {
     "data": {
      "application/vnd.jupyter.widget-view+json": {
       "model_id": "811009dc07f141b78ffb9a5a9ecf4b8e",
       "version_major": 2,
       "version_minor": 0
      },
      "text/plain": [
       "  0%|          | 0/713 [00:00<?, ?it/s]"
      ]
     },
     "metadata": {},
     "output_type": "display_data"
    },
    {
     "data": {
      "application/vnd.jupyter.widget-view+json": {
       "model_id": "2064d76a8a444ee1b02e19e15517f116",
       "version_major": 2,
       "version_minor": 0
      },
      "text/plain": [
       "  0%|          | 0/178 [00:00<?, ?it/s]"
      ]
     },
     "metadata": {},
     "output_type": "display_data"
    },
    {
     "data": {
      "application/vnd.jupyter.widget-view+json": {
       "model_id": "95045774541944c1844fe956b7b151ad",
       "version_major": 2,
       "version_minor": 0
      },
      "text/plain": [
       "  0%|          | 0/713 [00:00<?, ?it/s]"
      ]
     },
     "metadata": {},
     "output_type": "display_data"
    },
    {
     "data": {
      "application/vnd.jupyter.widget-view+json": {
       "model_id": "6e8f6300d04a4f29bb1f86d277841867",
       "version_major": 2,
       "version_minor": 0
      },
      "text/plain": [
       "  0%|          | 0/713 [00:00<?, ?it/s]"
      ]
     },
     "metadata": {},
     "output_type": "display_data"
    },
    {
     "data": {
      "application/vnd.jupyter.widget-view+json": {
       "model_id": "f46e25e44b474d3e896880ab24ba0c73",
       "version_major": 2,
       "version_minor": 0
      },
      "text/plain": [
       "  0%|          | 0/713 [00:00<?, ?it/s]"
      ]
     },
     "metadata": {},
     "output_type": "display_data"
    },
    {
     "data": {
      "application/vnd.jupyter.widget-view+json": {
       "model_id": "7900c84423ce4a4fba0075938ed55ad9",
       "version_major": 2,
       "version_minor": 0
      },
      "text/plain": [
       "  0%|          | 0/178 [00:00<?, ?it/s]"
      ]
     },
     "metadata": {},
     "output_type": "display_data"
    },
    {
     "data": {
      "application/vnd.jupyter.widget-view+json": {
       "model_id": "c5c1c4b391254d288e91095a79efa1fe",
       "version_major": 2,
       "version_minor": 0
      },
      "text/plain": [
       "  0%|          | 0/713 [00:00<?, ?it/s]"
      ]
     },
     "metadata": {},
     "output_type": "display_data"
    },
    {
     "data": {
      "application/vnd.jupyter.widget-view+json": {
       "model_id": "0cca9999e7a441d9b2a665e92285123a",
       "version_major": 2,
       "version_minor": 0
      },
      "text/plain": [
       "  0%|          | 0/713 [00:00<?, ?it/s]"
      ]
     },
     "metadata": {},
     "output_type": "display_data"
    },
    {
     "data": {
      "application/vnd.jupyter.widget-view+json": {
       "model_id": "f8dcb7b2c2b24592b8cc10267f9f64f1",
       "version_major": 2,
       "version_minor": 0
      },
      "text/plain": [
       "  0%|          | 0/713 [00:00<?, ?it/s]"
      ]
     },
     "metadata": {},
     "output_type": "display_data"
    },
    {
     "data": {
      "application/vnd.jupyter.widget-view+json": {
       "model_id": "a8f4d40196d449b4bf76cbe40a9c7441",
       "version_major": 2,
       "version_minor": 0
      },
      "text/plain": [
       "  0%|          | 0/178 [00:00<?, ?it/s]"
      ]
     },
     "metadata": {},
     "output_type": "display_data"
    },
    {
     "data": {
      "application/vnd.jupyter.widget-view+json": {
       "model_id": "346ad17a1f3d4579aa33e6f2eccce09d",
       "version_major": 2,
       "version_minor": 0
      },
      "text/plain": [
       "  0%|          | 0/713 [00:00<?, ?it/s]"
      ]
     },
     "metadata": {},
     "output_type": "display_data"
    },
    {
     "data": {
      "application/vnd.jupyter.widget-view+json": {
       "model_id": "c228d0552cc4418f8ccdf6c1446663e7",
       "version_major": 2,
       "version_minor": 0
      },
      "text/plain": [
       "  0%|          | 0/713 [00:00<?, ?it/s]"
      ]
     },
     "metadata": {},
     "output_type": "display_data"
    },
    {
     "data": {
      "application/vnd.jupyter.widget-view+json": {
       "model_id": "1389fb84409a40f492af96b022b0ab60",
       "version_major": 2,
       "version_minor": 0
      },
      "text/plain": [
       "  0%|          | 0/713 [00:00<?, ?it/s]"
      ]
     },
     "metadata": {},
     "output_type": "display_data"
    },
    {
     "data": {
      "application/vnd.jupyter.widget-view+json": {
       "model_id": "0440802357584ac5a27302e193423933",
       "version_major": 2,
       "version_minor": 0
      },
      "text/plain": [
       "  0%|          | 0/178 [00:00<?, ?it/s]"
      ]
     },
     "metadata": {},
     "output_type": "display_data"
    },
    {
     "data": {
      "application/vnd.jupyter.widget-view+json": {
       "model_id": "16b4709a4df040519aa98bfc53caa90c",
       "version_major": 2,
       "version_minor": 0
      },
      "text/plain": [
       "  0%|          | 0/713 [00:00<?, ?it/s]"
      ]
     },
     "metadata": {},
     "output_type": "display_data"
    },
    {
     "data": {
      "application/vnd.jupyter.widget-view+json": {
       "model_id": "c082d345ee544c54a34f1176f58b32e5",
       "version_major": 2,
       "version_minor": 0
      },
      "text/plain": [
       "  0%|          | 0/713 [00:00<?, ?it/s]"
      ]
     },
     "metadata": {},
     "output_type": "display_data"
    },
    {
     "data": {
      "application/vnd.jupyter.widget-view+json": {
       "model_id": "8c1fabc362bb4364979a975486c1ea47",
       "version_major": 2,
       "version_minor": 0
      },
      "text/plain": [
       "  0%|          | 0/713 [00:00<?, ?it/s]"
      ]
     },
     "metadata": {},
     "output_type": "display_data"
    },
    {
     "data": {
      "application/vnd.jupyter.widget-view+json": {
       "model_id": "fb8d35944e5c4c52b6c30038cf207ae4",
       "version_major": 2,
       "version_minor": 0
      },
      "text/plain": [
       "  0%|          | 0/178 [00:00<?, ?it/s]"
      ]
     },
     "metadata": {},
     "output_type": "display_data"
    },
    {
     "data": {
      "application/vnd.jupyter.widget-view+json": {
       "model_id": "9ac6acbc9efe4516a5d08800df986e66",
       "version_major": 2,
       "version_minor": 0
      },
      "text/plain": [
       "  0%|          | 0/713 [00:00<?, ?it/s]"
      ]
     },
     "metadata": {},
     "output_type": "display_data"
    },
    {
     "data": {
      "application/vnd.jupyter.widget-view+json": {
       "model_id": "a0f2a51f0ece424aa2036e3ce81317f2",
       "version_major": 2,
       "version_minor": 0
      },
      "text/plain": [
       "  0%|          | 0/713 [00:00<?, ?it/s]"
      ]
     },
     "metadata": {},
     "output_type": "display_data"
    },
    {
     "data": {
      "application/vnd.jupyter.widget-view+json": {
       "model_id": "a3b8e760c7714d0bb1c036dd417694e2",
       "version_major": 2,
       "version_minor": 0
      },
      "text/plain": [
       "  0%|          | 0/713 [00:00<?, ?it/s]"
      ]
     },
     "metadata": {},
     "output_type": "display_data"
    },
    {
     "data": {
      "application/vnd.jupyter.widget-view+json": {
       "model_id": "16250f66b30a4d0a98e39fa513130ded",
       "version_major": 2,
       "version_minor": 0
      },
      "text/plain": [
       "  0%|          | 0/178 [00:00<?, ?it/s]"
      ]
     },
     "metadata": {},
     "output_type": "display_data"
    },
    {
     "data": {
      "application/vnd.jupyter.widget-view+json": {
       "model_id": "f827cfde8b39492c8b772fbc8d1d60b5",
       "version_major": 2,
       "version_minor": 0
      },
      "text/plain": [
       "  0%|          | 0/713 [00:00<?, ?it/s]"
      ]
     },
     "metadata": {},
     "output_type": "display_data"
    },
    {
     "data": {
      "application/vnd.jupyter.widget-view+json": {
       "model_id": "793c86cf41564f87abcba74b184d03a4",
       "version_major": 2,
       "version_minor": 0
      },
      "text/plain": [
       "  0%|          | 0/713 [00:00<?, ?it/s]"
      ]
     },
     "metadata": {},
     "output_type": "display_data"
    },
    {
     "data": {
      "application/vnd.jupyter.widget-view+json": {
       "model_id": "237c85b9ad624180ad06958118af1dca",
       "version_major": 2,
       "version_minor": 0
      },
      "text/plain": [
       "  0%|          | 0/713 [00:00<?, ?it/s]"
      ]
     },
     "metadata": {},
     "output_type": "display_data"
    },
    {
     "data": {
      "application/vnd.jupyter.widget-view+json": {
       "model_id": "83933de6131c4522bd68c7763bb4112e",
       "version_major": 2,
       "version_minor": 0
      },
      "text/plain": [
       "  0%|          | 0/178 [00:00<?, ?it/s]"
      ]
     },
     "metadata": {},
     "output_type": "display_data"
    },
    {
     "data": {
      "application/vnd.jupyter.widget-view+json": {
       "model_id": "5fefa2b562d04ab8bdfd430e42eb9086",
       "version_major": 2,
       "version_minor": 0
      },
      "text/plain": [
       "  0%|          | 0/713 [00:00<?, ?it/s]"
      ]
     },
     "metadata": {},
     "output_type": "display_data"
    },
    {
     "data": {
      "application/vnd.jupyter.widget-view+json": {
       "model_id": "7c174cf052d24d949c83ce50cbe2a1a2",
       "version_major": 2,
       "version_minor": 0
      },
      "text/plain": [
       "  0%|          | 0/713 [00:00<?, ?it/s]"
      ]
     },
     "metadata": {},
     "output_type": "display_data"
    },
    {
     "data": {
      "application/vnd.jupyter.widget-view+json": {
       "model_id": "f381dfd4eb844a2ba8bffa33a6dfe7c3",
       "version_major": 2,
       "version_minor": 0
      },
      "text/plain": [
       "  0%|          | 0/713 [00:00<?, ?it/s]"
      ]
     },
     "metadata": {},
     "output_type": "display_data"
    },
    {
     "data": {
      "application/vnd.jupyter.widget-view+json": {
       "model_id": "9862dddd898a4ad5a57b9d91bbe14a86",
       "version_major": 2,
       "version_minor": 0
      },
      "text/plain": [
       "  0%|          | 0/178 [00:00<?, ?it/s]"
      ]
     },
     "metadata": {},
     "output_type": "display_data"
    },
    {
     "data": {
      "application/vnd.jupyter.widget-view+json": {
       "model_id": "e56dc035b3184d9e810ad8cdfa279c8d",
       "version_major": 2,
       "version_minor": 0
      },
      "text/plain": [
       "  0%|          | 0/713 [00:00<?, ?it/s]"
      ]
     },
     "metadata": {},
     "output_type": "display_data"
    },
    {
     "data": {
      "application/vnd.jupyter.widget-view+json": {
       "model_id": "7024cb20c3464cd78d31bea8d273bf00",
       "version_major": 2,
       "version_minor": 0
      },
      "text/plain": [
       "  0%|          | 0/713 [00:00<?, ?it/s]"
      ]
     },
     "metadata": {},
     "output_type": "display_data"
    },
    {
     "data": {
      "application/vnd.jupyter.widget-view+json": {
       "model_id": "0cb0ee0f15a242528b7d596d0b5a8b16",
       "version_major": 2,
       "version_minor": 0
      },
      "text/plain": [
       "  0%|          | 0/713 [00:00<?, ?it/s]"
      ]
     },
     "metadata": {},
     "output_type": "display_data"
    },
    {
     "data": {
      "application/vnd.jupyter.widget-view+json": {
       "model_id": "a228b79941dc495688a255289851389a",
       "version_major": 2,
       "version_minor": 0
      },
      "text/plain": [
       "  0%|          | 0/178 [00:00<?, ?it/s]"
      ]
     },
     "metadata": {},
     "output_type": "display_data"
    },
    {
     "data": {
      "application/vnd.jupyter.widget-view+json": {
       "model_id": "51abe306bfce4dd7b68f407293827290",
       "version_major": 2,
       "version_minor": 0
      },
      "text/plain": [
       "  0%|          | 0/713 [00:00<?, ?it/s]"
      ]
     },
     "metadata": {},
     "output_type": "display_data"
    },
    {
     "data": {
      "application/vnd.jupyter.widget-view+json": {
       "model_id": "022ad08728944a36badfddfaf4fd16ef",
       "version_major": 2,
       "version_minor": 0
      },
      "text/plain": [
       "  0%|          | 0/713 [00:00<?, ?it/s]"
      ]
     },
     "metadata": {},
     "output_type": "display_data"
    },
    {
     "data": {
      "application/vnd.jupyter.widget-view+json": {
       "model_id": "d4b07a9f9395429eac26826e7a0c1570",
       "version_major": 2,
       "version_minor": 0
      },
      "text/plain": [
       "  0%|          | 0/713 [00:00<?, ?it/s]"
      ]
     },
     "metadata": {},
     "output_type": "display_data"
    },
    {
     "data": {
      "application/vnd.jupyter.widget-view+json": {
       "model_id": "a6798c775cdf45e0b3b52eead5724c11",
       "version_major": 2,
       "version_minor": 0
      },
      "text/plain": [
       "  0%|          | 0/178 [00:00<?, ?it/s]"
      ]
     },
     "metadata": {},
     "output_type": "display_data"
    },
    {
     "data": {
      "application/vnd.jupyter.widget-view+json": {
       "model_id": "43f57ccd127a4f8886afadf5d1bf6b84",
       "version_major": 2,
       "version_minor": 0
      },
      "text/plain": [
       "  0%|          | 0/713 [00:00<?, ?it/s]"
      ]
     },
     "metadata": {},
     "output_type": "display_data"
    },
    {
     "data": {
      "application/vnd.jupyter.widget-view+json": {
       "model_id": "3f6a667013ea4dc4a88d70fc73e0167e",
       "version_major": 2,
       "version_minor": 0
      },
      "text/plain": [
       "  0%|          | 0/713 [00:00<?, ?it/s]"
      ]
     },
     "metadata": {},
     "output_type": "display_data"
    },
    {
     "data": {
      "application/vnd.jupyter.widget-view+json": {
       "model_id": "5db3d80654f748cc8ae46ae04f77957d",
       "version_major": 2,
       "version_minor": 0
      },
      "text/plain": [
       "  0%|          | 0/713 [00:00<?, ?it/s]"
      ]
     },
     "metadata": {},
     "output_type": "display_data"
    },
    {
     "data": {
      "application/vnd.jupyter.widget-view+json": {
       "model_id": "65710eeb09f74d16832261ecbf54e6ec",
       "version_major": 2,
       "version_minor": 0
      },
      "text/plain": [
       "  0%|          | 0/178 [00:00<?, ?it/s]"
      ]
     },
     "metadata": {},
     "output_type": "display_data"
    },
    {
     "data": {
      "application/vnd.jupyter.widget-view+json": {
       "model_id": "23e6fe0e9f8f46cb9ac6710e8893550a",
       "version_major": 2,
       "version_minor": 0
      },
      "text/plain": [
       "  0%|          | 0/713 [00:00<?, ?it/s]"
      ]
     },
     "metadata": {},
     "output_type": "display_data"
    },
    {
     "data": {
      "application/vnd.jupyter.widget-view+json": {
       "model_id": "e7b2016098f441ad96e563fa7bf4f78a",
       "version_major": 2,
       "version_minor": 0
      },
      "text/plain": [
       "  0%|          | 0/713 [00:00<?, ?it/s]"
      ]
     },
     "metadata": {},
     "output_type": "display_data"
    },
    {
     "data": {
      "application/vnd.jupyter.widget-view+json": {
       "model_id": "cf4bb6134cc848f4b2962343ae896ce4",
       "version_major": 2,
       "version_minor": 0
      },
      "text/plain": [
       "  0%|          | 0/713 [00:00<?, ?it/s]"
      ]
     },
     "metadata": {},
     "output_type": "display_data"
    },
    {
     "data": {
      "application/vnd.jupyter.widget-view+json": {
       "model_id": "cd289f5f39e748b6aa553f2453cfefb2",
       "version_major": 2,
       "version_minor": 0
      },
      "text/plain": [
       "  0%|          | 0/178 [00:00<?, ?it/s]"
      ]
     },
     "metadata": {},
     "output_type": "display_data"
    },
    {
     "data": {
      "application/vnd.jupyter.widget-view+json": {
       "model_id": "474feef154eb429a80475bea39f7bbd5",
       "version_major": 2,
       "version_minor": 0
      },
      "text/plain": [
       "  0%|          | 0/713 [00:00<?, ?it/s]"
      ]
     },
     "metadata": {},
     "output_type": "display_data"
    },
    {
     "data": {
      "application/vnd.jupyter.widget-view+json": {
       "model_id": "dfa562a71bb14d219cafa9fd6191a727",
       "version_major": 2,
       "version_minor": 0
      },
      "text/plain": [
       "  0%|          | 0/713 [00:00<?, ?it/s]"
      ]
     },
     "metadata": {},
     "output_type": "display_data"
    },
    {
     "data": {
      "application/vnd.jupyter.widget-view+json": {
       "model_id": "62149626295242ba8ca2cf6f81ce03d9",
       "version_major": 2,
       "version_minor": 0
      },
      "text/plain": [
       "  0%|          | 0/713 [00:00<?, ?it/s]"
      ]
     },
     "metadata": {},
     "output_type": "display_data"
    },
    {
     "data": {
      "application/vnd.jupyter.widget-view+json": {
       "model_id": "1c6b4b5a02e3444594a2a83183574888",
       "version_major": 2,
       "version_minor": 0
      },
      "text/plain": [
       "  0%|          | 0/178 [00:00<?, ?it/s]"
      ]
     },
     "metadata": {},
     "output_type": "display_data"
    },
    {
     "data": {
      "application/vnd.jupyter.widget-view+json": {
       "model_id": "e3f8f556ce9242bf8e334d1ade70bec8",
       "version_major": 2,
       "version_minor": 0
      },
      "text/plain": [
       "  0%|          | 0/713 [00:00<?, ?it/s]"
      ]
     },
     "metadata": {},
     "output_type": "display_data"
    },
    {
     "data": {
      "application/vnd.jupyter.widget-view+json": {
       "model_id": "3cc4b79198f44136b1957c0812e39718",
       "version_major": 2,
       "version_minor": 0
      },
      "text/plain": [
       "  0%|          | 0/713 [00:00<?, ?it/s]"
      ]
     },
     "metadata": {},
     "output_type": "display_data"
    },
    {
     "data": {
      "application/vnd.jupyter.widget-view+json": {
       "model_id": "7393446994ca4db6b3400cd8cffccc21",
       "version_major": 2,
       "version_minor": 0
      },
      "text/plain": [
       "  0%|          | 0/713 [00:00<?, ?it/s]"
      ]
     },
     "metadata": {},
     "output_type": "display_data"
    },
    {
     "data": {
      "application/vnd.jupyter.widget-view+json": {
       "model_id": "a3d3fc8ad1f44717897d372766e3bd5e",
       "version_major": 2,
       "version_minor": 0
      },
      "text/plain": [
       "  0%|          | 0/178 [00:00<?, ?it/s]"
      ]
     },
     "metadata": {},
     "output_type": "display_data"
    },
    {
     "data": {
      "application/vnd.jupyter.widget-view+json": {
       "model_id": "cb69f892840941d3b010db62f830a924",
       "version_major": 2,
       "version_minor": 0
      },
      "text/plain": [
       "  0%|          | 0/713 [00:00<?, ?it/s]"
      ]
     },
     "metadata": {},
     "output_type": "display_data"
    },
    {
     "data": {
      "application/vnd.jupyter.widget-view+json": {
       "model_id": "a3a2bfae103c4871bdcbc0a044775d4d",
       "version_major": 2,
       "version_minor": 0
      },
      "text/plain": [
       "  0%|          | 0/713 [00:00<?, ?it/s]"
      ]
     },
     "metadata": {},
     "output_type": "display_data"
    },
    {
     "data": {
      "application/vnd.jupyter.widget-view+json": {
       "model_id": "dd7c83ec753b4379ac94bf783b7c28b6",
       "version_major": 2,
       "version_minor": 0
      },
      "text/plain": [
       "  0%|          | 0/713 [00:00<?, ?it/s]"
      ]
     },
     "metadata": {},
     "output_type": "display_data"
    },
    {
     "data": {
      "application/vnd.jupyter.widget-view+json": {
       "model_id": "ba61cc44a76a4e1bb30b8f1d110e7447",
       "version_major": 2,
       "version_minor": 0
      },
      "text/plain": [
       "  0%|          | 0/178 [00:00<?, ?it/s]"
      ]
     },
     "metadata": {},
     "output_type": "display_data"
    },
    {
     "data": {
      "application/vnd.jupyter.widget-view+json": {
       "model_id": "5ca6a4a83e224af4bc9bb29e6a5c967c",
       "version_major": 2,
       "version_minor": 0
      },
      "text/plain": [
       "  0%|          | 0/713 [00:00<?, ?it/s]"
      ]
     },
     "metadata": {},
     "output_type": "display_data"
    },
    {
     "data": {
      "application/vnd.jupyter.widget-view+json": {
       "model_id": "2ca86455687545ca85b852aa19ece16e",
       "version_major": 2,
       "version_minor": 0
      },
      "text/plain": [
       "  0%|          | 0/713 [00:00<?, ?it/s]"
      ]
     },
     "metadata": {},
     "output_type": "display_data"
    },
    {
     "data": {
      "application/vnd.jupyter.widget-view+json": {
       "model_id": "d79b4a006aac435c99320a19739397ec",
       "version_major": 2,
       "version_minor": 0
      },
      "text/plain": [
       "  0%|          | 0/713 [00:00<?, ?it/s]"
      ]
     },
     "metadata": {},
     "output_type": "display_data"
    },
    {
     "data": {
      "application/vnd.jupyter.widget-view+json": {
       "model_id": "2c6948bef3864085a27df677932ac48f",
       "version_major": 2,
       "version_minor": 0
      },
      "text/plain": [
       "  0%|          | 0/178 [00:00<?, ?it/s]"
      ]
     },
     "metadata": {},
     "output_type": "display_data"
    },
    {
     "data": {
      "application/vnd.jupyter.widget-view+json": {
       "model_id": "c67a8aaa48474dd3aa36381304384055",
       "version_major": 2,
       "version_minor": 0
      },
      "text/plain": [
       "  0%|          | 0/713 [00:00<?, ?it/s]"
      ]
     },
     "metadata": {},
     "output_type": "display_data"
    },
    {
     "data": {
      "application/vnd.jupyter.widget-view+json": {
       "model_id": "cc95481f96ab4fad971143356157cd4c",
       "version_major": 2,
       "version_minor": 0
      },
      "text/plain": [
       "  0%|          | 0/713 [00:00<?, ?it/s]"
      ]
     },
     "metadata": {},
     "output_type": "display_data"
    },
    {
     "data": {
      "application/vnd.jupyter.widget-view+json": {
       "model_id": "074b665635944f898cc145b99f268c68",
       "version_major": 2,
       "version_minor": 0
      },
      "text/plain": [
       "  0%|          | 0/713 [00:00<?, ?it/s]"
      ]
     },
     "metadata": {},
     "output_type": "display_data"
    },
    {
     "data": {
      "application/vnd.jupyter.widget-view+json": {
       "model_id": "a145b2bd065e45fc99d152f4503c5693",
       "version_major": 2,
       "version_minor": 0
      },
      "text/plain": [
       "  0%|          | 0/178 [00:00<?, ?it/s]"
      ]
     },
     "metadata": {},
     "output_type": "display_data"
    },
    {
     "data": {
      "application/vnd.jupyter.widget-view+json": {
       "model_id": "f07d2f9262de4356bd182e5bd7279e40",
       "version_major": 2,
       "version_minor": 0
      },
      "text/plain": [
       "  0%|          | 0/713 [00:00<?, ?it/s]"
      ]
     },
     "metadata": {},
     "output_type": "display_data"
    },
    {
     "data": {
      "application/vnd.jupyter.widget-view+json": {
       "model_id": "21f1250a23cb40a7bf1198c1c9fd941a",
       "version_major": 2,
       "version_minor": 0
      },
      "text/plain": [
       "  0%|          | 0/713 [00:00<?, ?it/s]"
      ]
     },
     "metadata": {},
     "output_type": "display_data"
    },
    {
     "data": {
      "application/vnd.jupyter.widget-view+json": {
       "model_id": "67dae6f0f6e6408f9ccc228cedfdea75",
       "version_major": 2,
       "version_minor": 0
      },
      "text/plain": [
       "  0%|          | 0/713 [00:00<?, ?it/s]"
      ]
     },
     "metadata": {},
     "output_type": "display_data"
    },
    {
     "data": {
      "application/vnd.jupyter.widget-view+json": {
       "model_id": "429453e2e5e04f6eb25cfa8248f234b2",
       "version_major": 2,
       "version_minor": 0
      },
      "text/plain": [
       "  0%|          | 0/178 [00:00<?, ?it/s]"
      ]
     },
     "metadata": {},
     "output_type": "display_data"
    },
    {
     "data": {
      "application/vnd.jupyter.widget-view+json": {
       "model_id": "5c134cc142344e68a894ce980bda736d",
       "version_major": 2,
       "version_minor": 0
      },
      "text/plain": [
       "  0%|          | 0/713 [00:00<?, ?it/s]"
      ]
     },
     "metadata": {},
     "output_type": "display_data"
    },
    {
     "data": {
      "application/vnd.jupyter.widget-view+json": {
       "model_id": "0b62e883e4044a199145c5d2325ef3a8",
       "version_major": 2,
       "version_minor": 0
      },
      "text/plain": [
       "  0%|          | 0/713 [00:00<?, ?it/s]"
      ]
     },
     "metadata": {},
     "output_type": "display_data"
    },
    {
     "data": {
      "application/vnd.jupyter.widget-view+json": {
       "model_id": "c48cd6fad3a94b93ae0bc55a35651a42",
       "version_major": 2,
       "version_minor": 0
      },
      "text/plain": [
       "  0%|          | 0/713 [00:00<?, ?it/s]"
      ]
     },
     "metadata": {},
     "output_type": "display_data"
    },
    {
     "data": {
      "application/vnd.jupyter.widget-view+json": {
       "model_id": "eb0009c284834284a37e09457cc4b4bc",
       "version_major": 2,
       "version_minor": 0
      },
      "text/plain": [
       "  0%|          | 0/178 [00:00<?, ?it/s]"
      ]
     },
     "metadata": {},
     "output_type": "display_data"
    },
    {
     "data": {
      "application/vnd.jupyter.widget-view+json": {
       "model_id": "ff352dcd69e0416e80b003cedfa38a51",
       "version_major": 2,
       "version_minor": 0
      },
      "text/plain": [
       "  0%|          | 0/713 [00:00<?, ?it/s]"
      ]
     },
     "metadata": {},
     "output_type": "display_data"
    },
    {
     "data": {
      "application/vnd.jupyter.widget-view+json": {
       "model_id": "0691bea65b454d6cbd0d698dcd0c10a5",
       "version_major": 2,
       "version_minor": 0
      },
      "text/plain": [
       "  0%|          | 0/713 [00:00<?, ?it/s]"
      ]
     },
     "metadata": {},
     "output_type": "display_data"
    },
    {
     "data": {
      "application/vnd.jupyter.widget-view+json": {
       "model_id": "37cb55b542d542989d2e1d4074a0a66f",
       "version_major": 2,
       "version_minor": 0
      },
      "text/plain": [
       "  0%|          | 0/713 [00:00<?, ?it/s]"
      ]
     },
     "metadata": {},
     "output_type": "display_data"
    },
    {
     "data": {
      "application/vnd.jupyter.widget-view+json": {
       "model_id": "6662660c9799427bb1507782741a44c3",
       "version_major": 2,
       "version_minor": 0
      },
      "text/plain": [
       "  0%|          | 0/178 [00:00<?, ?it/s]"
      ]
     },
     "metadata": {},
     "output_type": "display_data"
    },
    {
     "data": {
      "application/vnd.jupyter.widget-view+json": {
       "model_id": "14afde13e4324923b62346f907d5da18",
       "version_major": 2,
       "version_minor": 0
      },
      "text/plain": [
       "  0%|          | 0/713 [00:00<?, ?it/s]"
      ]
     },
     "metadata": {},
     "output_type": "display_data"
    },
    {
     "data": {
      "application/vnd.jupyter.widget-view+json": {
       "model_id": "c9fff69e529349a282898c8260f03202",
       "version_major": 2,
       "version_minor": 0
      },
      "text/plain": [
       "  0%|          | 0/713 [00:00<?, ?it/s]"
      ]
     },
     "metadata": {},
     "output_type": "display_data"
    },
    {
     "data": {
      "application/vnd.jupyter.widget-view+json": {
       "model_id": "992e95923e2e4657bb95aa8ebd208df6",
       "version_major": 2,
       "version_minor": 0
      },
      "text/plain": [
       "  0%|          | 0/713 [00:00<?, ?it/s]"
      ]
     },
     "metadata": {},
     "output_type": "display_data"
    },
    {
     "data": {
      "application/vnd.jupyter.widget-view+json": {
       "model_id": "53112c2232fa41f1aeee4e421d3aaf24",
       "version_major": 2,
       "version_minor": 0
      },
      "text/plain": [
       "  0%|          | 0/178 [00:00<?, ?it/s]"
      ]
     },
     "metadata": {},
     "output_type": "display_data"
    },
    {
     "data": {
      "application/vnd.jupyter.widget-view+json": {
       "model_id": "e056361a0e9e4dc9a0b4ce00ce2e5968",
       "version_major": 2,
       "version_minor": 0
      },
      "text/plain": [
       "  0%|          | 0/713 [00:00<?, ?it/s]"
      ]
     },
     "metadata": {},
     "output_type": "display_data"
    },
    {
     "data": {
      "application/vnd.jupyter.widget-view+json": {
       "model_id": "a5c0874db3dc4b1f86340e00f09aa28e",
       "version_major": 2,
       "version_minor": 0
      },
      "text/plain": [
       "  0%|          | 0/713 [00:00<?, ?it/s]"
      ]
     },
     "metadata": {},
     "output_type": "display_data"
    },
    {
     "data": {
      "application/vnd.jupyter.widget-view+json": {
       "model_id": "90ae29a52a9b4df381b6340489730e85",
       "version_major": 2,
       "version_minor": 0
      },
      "text/plain": [
       "  0%|          | 0/713 [00:00<?, ?it/s]"
      ]
     },
     "metadata": {},
     "output_type": "display_data"
    },
    {
     "data": {
      "application/vnd.jupyter.widget-view+json": {
       "model_id": "b44a8a28960d4814b90e01d882ff7494",
       "version_major": 2,
       "version_minor": 0
      },
      "text/plain": [
       "  0%|          | 0/178 [00:00<?, ?it/s]"
      ]
     },
     "metadata": {},
     "output_type": "display_data"
    },
    {
     "data": {
      "application/vnd.jupyter.widget-view+json": {
       "model_id": "83e626b8cf7e480280772cb0ad2e4ce2",
       "version_major": 2,
       "version_minor": 0
      },
      "text/plain": [
       "  0%|          | 0/713 [00:00<?, ?it/s]"
      ]
     },
     "metadata": {},
     "output_type": "display_data"
    },
    {
     "data": {
      "application/vnd.jupyter.widget-view+json": {
       "model_id": "a653fbbdf5d54ee9bf7dc0affb9bfc03",
       "version_major": 2,
       "version_minor": 0
      },
      "text/plain": [
       "  0%|          | 0/713 [00:00<?, ?it/s]"
      ]
     },
     "metadata": {},
     "output_type": "display_data"
    },
    {
     "data": {
      "application/vnd.jupyter.widget-view+json": {
       "model_id": "22f0a84204d149478f52ca6120d9adef",
       "version_major": 2,
       "version_minor": 0
      },
      "text/plain": [
       "  0%|          | 0/713 [00:00<?, ?it/s]"
      ]
     },
     "metadata": {},
     "output_type": "display_data"
    },
    {
     "data": {
      "application/vnd.jupyter.widget-view+json": {
       "model_id": "c04f6e4654304035837b6bdb91b28255",
       "version_major": 2,
       "version_minor": 0
      },
      "text/plain": [
       "  0%|          | 0/178 [00:00<?, ?it/s]"
      ]
     },
     "metadata": {},
     "output_type": "display_data"
    },
    {
     "data": {
      "application/vnd.jupyter.widget-view+json": {
       "model_id": "5e18b168883f44b6ad9eefe1e47580c6",
       "version_major": 2,
       "version_minor": 0
      },
      "text/plain": [
       "  0%|          | 0/713 [00:00<?, ?it/s]"
      ]
     },
     "metadata": {},
     "output_type": "display_data"
    },
    {
     "data": {
      "application/vnd.jupyter.widget-view+json": {
       "model_id": "477f064e0beb492090899eaf5764aa31",
       "version_major": 2,
       "version_minor": 0
      },
      "text/plain": [
       "  0%|          | 0/713 [00:00<?, ?it/s]"
      ]
     },
     "metadata": {},
     "output_type": "display_data"
    },
    {
     "data": {
      "application/vnd.jupyter.widget-view+json": {
       "model_id": "13598bf56c6b49dfa8374ab12340f0c1",
       "version_major": 2,
       "version_minor": 0
      },
      "text/plain": [
       "  0%|          | 0/713 [00:00<?, ?it/s]"
      ]
     },
     "metadata": {},
     "output_type": "display_data"
    },
    {
     "data": {
      "application/vnd.jupyter.widget-view+json": {
       "model_id": "7ea94dc868b4404b9de51b3417187ca1",
       "version_major": 2,
       "version_minor": 0
      },
      "text/plain": [
       "  0%|          | 0/178 [00:00<?, ?it/s]"
      ]
     },
     "metadata": {},
     "output_type": "display_data"
    },
    {
     "data": {
      "application/vnd.jupyter.widget-view+json": {
       "model_id": "9983e90ed2c64d4fa2123055267d2238",
       "version_major": 2,
       "version_minor": 0
      },
      "text/plain": [
       "  0%|          | 0/713 [00:00<?, ?it/s]"
      ]
     },
     "metadata": {},
     "output_type": "display_data"
    },
    {
     "data": {
      "application/vnd.jupyter.widget-view+json": {
       "model_id": "4f28645586e14f87864daa1d73b04a60",
       "version_major": 2,
       "version_minor": 0
      },
      "text/plain": [
       "  0%|          | 0/713 [00:00<?, ?it/s]"
      ]
     },
     "metadata": {},
     "output_type": "display_data"
    },
    {
     "data": {
      "application/vnd.jupyter.widget-view+json": {
       "model_id": "8e6bdf4d3a3641c780aa543d79ac1e22",
       "version_major": 2,
       "version_minor": 0
      },
      "text/plain": [
       "  0%|          | 0/713 [00:00<?, ?it/s]"
      ]
     },
     "metadata": {},
     "output_type": "display_data"
    },
    {
     "data": {
      "application/vnd.jupyter.widget-view+json": {
       "model_id": "ee397d7258c54c5d89cfeb7d14053247",
       "version_major": 2,
       "version_minor": 0
      },
      "text/plain": [
       "  0%|          | 0/178 [00:00<?, ?it/s]"
      ]
     },
     "metadata": {},
     "output_type": "display_data"
    },
    {
     "data": {
      "application/vnd.jupyter.widget-view+json": {
       "model_id": "f103bf6e389842d6b584893f670f7012",
       "version_major": 2,
       "version_minor": 0
      },
      "text/plain": [
       "  0%|          | 0/713 [00:00<?, ?it/s]"
      ]
     },
     "metadata": {},
     "output_type": "display_data"
    },
    {
     "data": {
      "application/vnd.jupyter.widget-view+json": {
       "model_id": "a259ca7e4b104a9ca42ac0ffce9725da",
       "version_major": 2,
       "version_minor": 0
      },
      "text/plain": [
       "  0%|          | 0/713 [00:00<?, ?it/s]"
      ]
     },
     "metadata": {},
     "output_type": "display_data"
    },
    {
     "data": {
      "application/vnd.jupyter.widget-view+json": {
       "model_id": "541425244b3f41b58b2a17a746fd0511",
       "version_major": 2,
       "version_minor": 0
      },
      "text/plain": [
       "  0%|          | 0/713 [00:00<?, ?it/s]"
      ]
     },
     "metadata": {},
     "output_type": "display_data"
    },
    {
     "data": {
      "application/vnd.jupyter.widget-view+json": {
       "model_id": "b5fd281282db4f2682ed13ddfcaa7f8e",
       "version_major": 2,
       "version_minor": 0
      },
      "text/plain": [
       "  0%|          | 0/178 [00:00<?, ?it/s]"
      ]
     },
     "metadata": {},
     "output_type": "display_data"
    },
    {
     "data": {
      "application/vnd.jupyter.widget-view+json": {
       "model_id": "ced2d378457e4330b2c500413cdbedbd",
       "version_major": 2,
       "version_minor": 0
      },
      "text/plain": [
       "  0%|          | 0/713 [00:00<?, ?it/s]"
      ]
     },
     "metadata": {},
     "output_type": "display_data"
    },
    {
     "data": {
      "application/vnd.jupyter.widget-view+json": {
       "model_id": "95f324e11d7647a1b93ce8451875099d",
       "version_major": 2,
       "version_minor": 0
      },
      "text/plain": [
       "  0%|          | 0/713 [00:00<?, ?it/s]"
      ]
     },
     "metadata": {},
     "output_type": "display_data"
    },
    {
     "data": {
      "application/vnd.jupyter.widget-view+json": {
       "model_id": "b19f8b75d3554b43889a231025aa9f48",
       "version_major": 2,
       "version_minor": 0
      },
      "text/plain": [
       "  0%|          | 0/713 [00:00<?, ?it/s]"
      ]
     },
     "metadata": {},
     "output_type": "display_data"
    },
    {
     "data": {
      "application/vnd.jupyter.widget-view+json": {
       "model_id": "750615efa6004f83bc61516868bf098c",
       "version_major": 2,
       "version_minor": 0
      },
      "text/plain": [
       "  0%|          | 0/178 [00:00<?, ?it/s]"
      ]
     },
     "metadata": {},
     "output_type": "display_data"
    },
    {
     "data": {
      "application/vnd.jupyter.widget-view+json": {
       "model_id": "d346a322ef2a4daa84a201695235bdc8",
       "version_major": 2,
       "version_minor": 0
      },
      "text/plain": [
       "  0%|          | 0/713 [00:00<?, ?it/s]"
      ]
     },
     "metadata": {},
     "output_type": "display_data"
    },
    {
     "data": {
      "application/vnd.jupyter.widget-view+json": {
       "model_id": "07e12142a1e6424c9412d2127e9b4435",
       "version_major": 2,
       "version_minor": 0
      },
      "text/plain": [
       "  0%|          | 0/713 [00:00<?, ?it/s]"
      ]
     },
     "metadata": {},
     "output_type": "display_data"
    },
    {
     "data": {
      "application/vnd.jupyter.widget-view+json": {
       "model_id": "89a4c6ce61b241688b5d8ab7399b9ddb",
       "version_major": 2,
       "version_minor": 0
      },
      "text/plain": [
       "  0%|          | 0/713 [00:00<?, ?it/s]"
      ]
     },
     "metadata": {},
     "output_type": "display_data"
    },
    {
     "data": {
      "application/vnd.jupyter.widget-view+json": {
       "model_id": "49c71d66f61d4fcda568b9240d36e901",
       "version_major": 2,
       "version_minor": 0
      },
      "text/plain": [
       "  0%|          | 0/178 [00:00<?, ?it/s]"
      ]
     },
     "metadata": {},
     "output_type": "display_data"
    },
    {
     "data": {
      "application/vnd.jupyter.widget-view+json": {
       "model_id": "b49304ec648149ecb54784543541c2d6",
       "version_major": 2,
       "version_minor": 0
      },
      "text/plain": [
       "  0%|          | 0/713 [00:00<?, ?it/s]"
      ]
     },
     "metadata": {},
     "output_type": "display_data"
    },
    {
     "data": {
      "application/vnd.jupyter.widget-view+json": {
       "model_id": "7f249ddfaf3e4e599501e2c834414757",
       "version_major": 2,
       "version_minor": 0
      },
      "text/plain": [
       "  0%|          | 0/713 [00:00<?, ?it/s]"
      ]
     },
     "metadata": {},
     "output_type": "display_data"
    },
    {
     "data": {
      "application/vnd.jupyter.widget-view+json": {
       "model_id": "43c20cf89bc24169b826761ae6accafb",
       "version_major": 2,
       "version_minor": 0
      },
      "text/plain": [
       "  0%|          | 0/713 [00:00<?, ?it/s]"
      ]
     },
     "metadata": {},
     "output_type": "display_data"
    },
    {
     "data": {
      "application/vnd.jupyter.widget-view+json": {
       "model_id": "9f6d218c36244c93892ca6f44e23f248",
       "version_major": 2,
       "version_minor": 0
      },
      "text/plain": [
       "  0%|          | 0/178 [00:00<?, ?it/s]"
      ]
     },
     "metadata": {},
     "output_type": "display_data"
    },
    {
     "data": {
      "application/vnd.jupyter.widget-view+json": {
       "model_id": "4856d857f0e645a5ba3a91c1aa5a62a8",
       "version_major": 2,
       "version_minor": 0
      },
      "text/plain": [
       "  0%|          | 0/713 [00:00<?, ?it/s]"
      ]
     },
     "metadata": {},
     "output_type": "display_data"
    },
    {
     "data": {
      "application/vnd.jupyter.widget-view+json": {
       "model_id": "4b637d66e8014b4dae6eb384f73db8a9",
       "version_major": 2,
       "version_minor": 0
      },
      "text/plain": [
       "  0%|          | 0/713 [00:00<?, ?it/s]"
      ]
     },
     "metadata": {},
     "output_type": "display_data"
    },
    {
     "data": {
      "application/vnd.jupyter.widget-view+json": {
       "model_id": "ddd4d91bd248495683e4ccd17a321ecd",
       "version_major": 2,
       "version_minor": 0
      },
      "text/plain": [
       "  0%|          | 0/713 [00:00<?, ?it/s]"
      ]
     },
     "metadata": {},
     "output_type": "display_data"
    },
    {
     "data": {
      "application/vnd.jupyter.widget-view+json": {
       "model_id": "907a9d31e1f340609262f8a58c63401a",
       "version_major": 2,
       "version_minor": 0
      },
      "text/plain": [
       "  0%|          | 0/178 [00:00<?, ?it/s]"
      ]
     },
     "metadata": {},
     "output_type": "display_data"
    },
    {
     "data": {
      "application/vnd.jupyter.widget-view+json": {
       "model_id": "6ad47cb5b2a94efcbc7ed70d694bdfaf",
       "version_major": 2,
       "version_minor": 0
      },
      "text/plain": [
       "  0%|          | 0/713 [00:00<?, ?it/s]"
      ]
     },
     "metadata": {},
     "output_type": "display_data"
    },
    {
     "data": {
      "application/vnd.jupyter.widget-view+json": {
       "model_id": "3db04ff66e43458199ebfded3d3ab4d5",
       "version_major": 2,
       "version_minor": 0
      },
      "text/plain": [
       "  0%|          | 0/713 [00:00<?, ?it/s]"
      ]
     },
     "metadata": {},
     "output_type": "display_data"
    },
    {
     "data": {
      "application/vnd.jupyter.widget-view+json": {
       "model_id": "5ba261223df441528aee9ff48644b58f",
       "version_major": 2,
       "version_minor": 0
      },
      "text/plain": [
       "  0%|          | 0/713 [00:00<?, ?it/s]"
      ]
     },
     "metadata": {},
     "output_type": "display_data"
    },
    {
     "data": {
      "application/vnd.jupyter.widget-view+json": {
       "model_id": "d536f6a506b245ec85ad14fac5510138",
       "version_major": 2,
       "version_minor": 0
      },
      "text/plain": [
       "  0%|          | 0/178 [00:00<?, ?it/s]"
      ]
     },
     "metadata": {},
     "output_type": "display_data"
    },
    {
     "data": {
      "application/vnd.jupyter.widget-view+json": {
       "model_id": "38c6410b3beb4cb285a8d121297ad11e",
       "version_major": 2,
       "version_minor": 0
      },
      "text/plain": [
       "  0%|          | 0/713 [00:00<?, ?it/s]"
      ]
     },
     "metadata": {},
     "output_type": "display_data"
    },
    {
     "data": {
      "application/vnd.jupyter.widget-view+json": {
       "model_id": "13aa3a76fbfb463fb8c0585cf6d50e20",
       "version_major": 2,
       "version_minor": 0
      },
      "text/plain": [
       "  0%|          | 0/713 [00:00<?, ?it/s]"
      ]
     },
     "metadata": {},
     "output_type": "display_data"
    },
    {
     "data": {
      "application/vnd.jupyter.widget-view+json": {
       "model_id": "9e71bb6af6d34ce79643ddddfffd2448",
       "version_major": 2,
       "version_minor": 0
      },
      "text/plain": [
       "  0%|          | 0/713 [00:00<?, ?it/s]"
      ]
     },
     "metadata": {},
     "output_type": "display_data"
    },
    {
     "data": {
      "application/vnd.jupyter.widget-view+json": {
       "model_id": "c72eafa8774443bb87f90a44e24a870d",
       "version_major": 2,
       "version_minor": 0
      },
      "text/plain": [
       "  0%|          | 0/178 [00:00<?, ?it/s]"
      ]
     },
     "metadata": {},
     "output_type": "display_data"
    },
    {
     "data": {
      "application/vnd.jupyter.widget-view+json": {
       "model_id": "6d2e55e9ce94444585ea33aeb7706330",
       "version_major": 2,
       "version_minor": 0
      },
      "text/plain": [
       "  0%|          | 0/713 [00:00<?, ?it/s]"
      ]
     },
     "metadata": {},
     "output_type": "display_data"
    },
    {
     "data": {
      "application/vnd.jupyter.widget-view+json": {
       "model_id": "d118ed8ef7e54a9b996f3a788439bbe4",
       "version_major": 2,
       "version_minor": 0
      },
      "text/plain": [
       "  0%|          | 0/713 [00:00<?, ?it/s]"
      ]
     },
     "metadata": {},
     "output_type": "display_data"
    },
    {
     "data": {
      "application/vnd.jupyter.widget-view+json": {
       "model_id": "ed5fb860ad8c46c99fe5405a1b362aa0",
       "version_major": 2,
       "version_minor": 0
      },
      "text/plain": [
       "  0%|          | 0/713 [00:00<?, ?it/s]"
      ]
     },
     "metadata": {},
     "output_type": "display_data"
    },
    {
     "data": {
      "application/vnd.jupyter.widget-view+json": {
       "model_id": "f2b7355ac6e846d4a0964b1dc75f5dad",
       "version_major": 2,
       "version_minor": 0
      },
      "text/plain": [
       "  0%|          | 0/178 [00:00<?, ?it/s]"
      ]
     },
     "metadata": {},
     "output_type": "display_data"
    },
    {
     "data": {
      "application/vnd.jupyter.widget-view+json": {
       "model_id": "339602d0ca6e40bea33145a513960f6b",
       "version_major": 2,
       "version_minor": 0
      },
      "text/plain": [
       "  0%|          | 0/713 [00:00<?, ?it/s]"
      ]
     },
     "metadata": {},
     "output_type": "display_data"
    },
    {
     "data": {
      "application/vnd.jupyter.widget-view+json": {
       "model_id": "1506d20614a343d98a0318e1052d827d",
       "version_major": 2,
       "version_minor": 0
      },
      "text/plain": [
       "  0%|          | 0/713 [00:00<?, ?it/s]"
      ]
     },
     "metadata": {},
     "output_type": "display_data"
    },
    {
     "data": {
      "application/vnd.jupyter.widget-view+json": {
       "model_id": "6a5a88daec944d96a09815782cc5d1d0",
       "version_major": 2,
       "version_minor": 0
      },
      "text/plain": [
       "  0%|          | 0/713 [00:00<?, ?it/s]"
      ]
     },
     "metadata": {},
     "output_type": "display_data"
    },
    {
     "data": {
      "application/vnd.jupyter.widget-view+json": {
       "model_id": "d91e478f806745a08269fa9c03bcfc72",
       "version_major": 2,
       "version_minor": 0
      },
      "text/plain": [
       "  0%|          | 0/178 [00:00<?, ?it/s]"
      ]
     },
     "metadata": {},
     "output_type": "display_data"
    },
    {
     "data": {
      "application/vnd.jupyter.widget-view+json": {
       "model_id": "73691be6e78e47a28cd924c4cf1a0af6",
       "version_major": 2,
       "version_minor": 0
      },
      "text/plain": [
       "  0%|          | 0/713 [00:00<?, ?it/s]"
      ]
     },
     "metadata": {},
     "output_type": "display_data"
    },
    {
     "data": {
      "application/vnd.jupyter.widget-view+json": {
       "model_id": "5e22022846484371899cfdb1f5f0fd1e",
       "version_major": 2,
       "version_minor": 0
      },
      "text/plain": [
       "  0%|          | 0/713 [00:00<?, ?it/s]"
      ]
     },
     "metadata": {},
     "output_type": "display_data"
    },
    {
     "data": {
      "application/vnd.jupyter.widget-view+json": {
       "model_id": "e4a56b175b2349b395bd38a274e59ba5",
       "version_major": 2,
       "version_minor": 0
      },
      "text/plain": [
       "  0%|          | 0/713 [00:00<?, ?it/s]"
      ]
     },
     "metadata": {},
     "output_type": "display_data"
    },
    {
     "data": {
      "application/vnd.jupyter.widget-view+json": {
       "model_id": "894719a6a56248c8800f1db0e81cbf6b",
       "version_major": 2,
       "version_minor": 0
      },
      "text/plain": [
       "  0%|          | 0/178 [00:00<?, ?it/s]"
      ]
     },
     "metadata": {},
     "output_type": "display_data"
    },
    {
     "data": {
      "application/vnd.jupyter.widget-view+json": {
       "model_id": "62e5f2c3685d4b37a0a36e97e6d98ae2",
       "version_major": 2,
       "version_minor": 0
      },
      "text/plain": [
       "  0%|          | 0/713 [00:00<?, ?it/s]"
      ]
     },
     "metadata": {},
     "output_type": "display_data"
    },
    {
     "data": {
      "application/vnd.jupyter.widget-view+json": {
       "model_id": "88c77374e9ed407cabd75e349c41f9b1",
       "version_major": 2,
       "version_minor": 0
      },
      "text/plain": [
       "  0%|          | 0/713 [00:00<?, ?it/s]"
      ]
     },
     "metadata": {},
     "output_type": "display_data"
    },
    {
     "data": {
      "application/vnd.jupyter.widget-view+json": {
       "model_id": "f7aa1ee8a8044fa0b09596a0c019896a",
       "version_major": 2,
       "version_minor": 0
      },
      "text/plain": [
       "  0%|          | 0/713 [00:00<?, ?it/s]"
      ]
     },
     "metadata": {},
     "output_type": "display_data"
    },
    {
     "data": {
      "application/vnd.jupyter.widget-view+json": {
       "model_id": "398044f20d9742059f92d06c1c31d523",
       "version_major": 2,
       "version_minor": 0
      },
      "text/plain": [
       "  0%|          | 0/178 [00:00<?, ?it/s]"
      ]
     },
     "metadata": {},
     "output_type": "display_data"
    },
    {
     "data": {
      "application/vnd.jupyter.widget-view+json": {
       "model_id": "8a6b30516c0a4796b02a1f873f173749",
       "version_major": 2,
       "version_minor": 0
      },
      "text/plain": [
       "  0%|          | 0/713 [00:00<?, ?it/s]"
      ]
     },
     "metadata": {},
     "output_type": "display_data"
    },
    {
     "data": {
      "application/vnd.jupyter.widget-view+json": {
       "model_id": "2ddc9daabe89438bad323da4c6dcbd03",
       "version_major": 2,
       "version_minor": 0
      },
      "text/plain": [
       "  0%|          | 0/713 [00:00<?, ?it/s]"
      ]
     },
     "metadata": {},
     "output_type": "display_data"
    },
    {
     "data": {
      "application/vnd.jupyter.widget-view+json": {
       "model_id": "0225ea2f8c6d42e18094b27e94a086d5",
       "version_major": 2,
       "version_minor": 0
      },
      "text/plain": [
       "  0%|          | 0/713 [00:00<?, ?it/s]"
      ]
     },
     "metadata": {},
     "output_type": "display_data"
    },
    {
     "data": {
      "application/vnd.jupyter.widget-view+json": {
       "model_id": "26d6162624f84efcb60a82c53d2517d4",
       "version_major": 2,
       "version_minor": 0
      },
      "text/plain": [
       "  0%|          | 0/178 [00:00<?, ?it/s]"
      ]
     },
     "metadata": {},
     "output_type": "display_data"
    },
    {
     "data": {
      "application/vnd.jupyter.widget-view+json": {
       "model_id": "2b0c8ecb84834c7fb3a997fe150b3ce6",
       "version_major": 2,
       "version_minor": 0
      },
      "text/plain": [
       "  0%|          | 0/713 [00:00<?, ?it/s]"
      ]
     },
     "metadata": {},
     "output_type": "display_data"
    },
    {
     "data": {
      "application/vnd.jupyter.widget-view+json": {
       "model_id": "dc9ef93c3aae445cb4a96c91f76ac265",
       "version_major": 2,
       "version_minor": 0
      },
      "text/plain": [
       "  0%|          | 0/178 [00:00<?, ?it/s]"
      ]
     },
     "metadata": {},
     "output_type": "display_data"
    }
   ],
   "source": [
    "experiment_settings = {\n",
    "    'experiment_name': 'lifted_structured_03',\n",
    "    'experiments_folder': './experiments/',\n",
    "    'model': {\n",
    "        'name': 'DSCNN',\n",
    "        'n_mels': 32,\n",
    "        'in_channels': 1,\n",
    "        'ds_cnn_number': 12,\n",
    "        'ds_cnn_size': 256,\n",
    "        'is_classifier': False,\n",
    "        'classes_number': 20\n",
    "    },\n",
    "    'batch_size': 64,\n",
    "    'n_epoch': 200,\n",
    "    'loss': { \n",
    "        'name': 'LiftedStructuredLoss',\n",
    "        'margin': 5,\n",
    "    },\n",
    "    'train_dataset': \"speech_commands/train\",\n",
    "    'valid_dataset': \"speech_commands/valid\",\n",
    "    'learning_rate': 1e-4,\n",
    "    'optimizer': 'Adam',\n",
    "    'time_start': str(datetime.datetime.now()),\n",
    "}\n",
    "\n",
    "do_experiment(experiment_settings)"
   ]
  },
  {
   "cell_type": "code",
   "execution_count": null,
   "metadata": {},
   "outputs": [],
   "source": [
    "experiment_settings = {\n",
    "    'experiment_name': 'triplet_br_test',\n",
    "    'experiments_folder': './experiments/',\n",
    "    'model': {\n",
    "        'name': 'DSCNN',\n",
    "        'n_mels': 32,\n",
    "        'in_channels': 1,\n",
    "        'ds_cnn_number': 6,\n",
    "        'ds_cnn_size': 64,\n",
    "        'is_classifier': False,\n",
    "        'classes_number': 0\n",
    "    },\n",
    "    'batch_size': 128,\n",
    "    'n_epoch': 200,\n",
    "    \"loss\": {\n",
    "        \"name\": \"TripletLoss\",\n",
    "        \"loss_margin\": 1,\n",
    "        \"triplet_mining_strategy\": \"batch_random\",\n",
    "        \"loss_agr_policy\": \"mean\"\n",
    "    },\n",
    "    'train_dataset': \"speech_commands/test\",\n",
    "    'valid_dataset': None,\n",
    "    'learning_rate': 1e-4,\n",
    "    'optimizer': 'Adam',\n",
    "    'time_start': str(datetime.datetime.now()),\n",
    "}\n",
    "\n",
    "do_experiment(experiment_settings)"
   ]
  },
  {
   "cell_type": "markdown",
   "metadata": {},
   "source": [
    "# Another garbage"
   ]
  },
  {
   "cell_type": "code",
   "execution_count": 38,
   "metadata": {},
   "outputs": [],
   "source": [
    "'''Tranfer my data to tensoboard'''\n",
    "from torch.utils.tensorboard import SummaryWriter\n",
    "import numpy as np\n",
    "\n",
    "experiments_dir = '/home/basil/Desktop/msu_4_coursework/experiments'\n",
    "\n",
    "items = os.listdir(experiments_dir)\n",
    "to_do_list = [item for item in items if os.path.isdir(os.path.join(experiments_dir, item))]\n",
    "\n",
    "train_test_losses_fname = 'train_test_losses.json'\n",
    "fc_hv_fname = 'speech_commands_fc_hv.json'\n",
    "\n",
    "for experiment_name in to_do_list:\n",
    "    writer = SummaryWriter(os.path.join('runs', experiment_name))\n",
    "\n",
    "    experiment_dir = os.path.join(experiments_dir, experiment_name)\n",
    "\n",
    "    with open(os.path.join(experiment_dir, 'experiment_settings.json'), 'r') as fp:\n",
    "        experiment_settings = json.load(fp)\n",
    "\n",
    "    with open(os.path.join(experiment_dir, train_test_losses_fname), 'r') as fp:\n",
    "        train_test_losses = json.load(fp)  \n",
    "\n",
    "    train_losses = train_test_losses['train_losses']\n",
    "    train_epochs = train_test_losses['train_epoch'] if 'train_epoch' in train_test_losses.keys() else [i for i in range(len(train_losses))]\n",
    "    valid_losses = train_test_losses['test_losses']\n",
    "    valid_epochs = train_test_losses['test_epoch'] if 'test_epoch' in train_test_losses.keys() else np.interp([i for i in range(len(valid_losses))], (0, len(valid_losses) - 1), (0, len(train_epochs) - 1)).astype(int).tolist()\n",
    "    \n",
    "    len_valid = len(valid_losses)\n",
    "    len_train = len(train_losses)\n",
    "\n",
    "    for i, loss_item in enumerate(train_losses):\n",
    "        writer.add_scalar('Loss/train', loss_item, train_epochs[i])\n",
    "\n",
    "    for i, loss_item in enumerate(valid_losses):\n",
    "        writer.add_scalar('Loss/valid', loss_item, valid_epochs[i])\n",
    "\n",
    "    with open(os.path.join(experiment_dir, fc_hv_fname), 'r') as fp:\n",
    "        fc_hv = json.load(fp)    \n",
    "\n",
    "    fc_train = fc_hv['fc_train']\n",
    "    fc_valid = fc_hv['fc_valid']\n",
    "    fc_test = fc_hv['fc_test']\n",
    "    hv_train = fc_hv['hv_train']\n",
    "    hv_valid = fc_hv['hv_valid']\n",
    "    hv_test = fc_hv['hv_test']\n",
    "    epochs = fc_hv['epoch']\n",
    "\n",
    "    for i, item in enumerate(fc_train):\n",
    "        writer.add_scalar('FC/train', item, epochs[i])\n",
    "    for i, item in enumerate(fc_valid):\n",
    "        writer.add_scalar('FC/valid', item, epochs[i])\n",
    "    for i, item in enumerate(fc_test):\n",
    "        writer.add_scalar('FC/test', item, epochs[i])\n",
    "    for i, item in enumerate(hv_train):\n",
    "        writer.add_scalar('HV/train', item, epochs[i])\n",
    "    for i, item in enumerate(hv_valid):\n",
    "        writer.add_scalar('HV/valid', item, epochs[i])\n",
    "    for i, item in enumerate(hv_test):\n",
    "        writer.add_scalar('HV/test', item, epochs[i])\n",
    "    \n",
    "    writer.add_text('Experiment_settings', json.dumps(experiment_settings))\n",
    "\n",
    "    writer.close()\n"
   ]
  },
  {
   "cell_type": "code",
   "execution_count": null,
   "metadata": {},
   "outputs": [],
   "source": [
    "# create datasets\n",
    "n_mels = 32\n",
    "batch_size = 32\n",
    "\n",
    "model_desr = {\n",
    "        'name': 'DSCNN',\n",
    "        'n_mels': 32,\n",
    "        'in_channels': 1,\n",
    "        'ds_cnn_number': 6,\n",
    "        'ds_cnn_size': 64,\n",
    "        'is_classifier': False,\n",
    "        'classes_number': 0\n",
    "    }\n",
    "\n",
    "model = create_model(model_desr).to(device)\n",
    "\n",
    "\n",
    "data_aug_transform = Compose([ChangeAmplitude(), ChangeSpeedAndPitchAudio(), FixAudioLength(), ToSTFT(), StretchAudioOnSTFT(), TimeshiftAudioOnSTFT(), FixSTFTDimension()])\n",
    "\n",
    "bg_dataset = BackgroundNoiseDataset(background_noise_path, data_aug_transform)\n",
    "add_bg_noise = AddBackgroundNoiseOnSTFT(bg_dataset)\n",
    "\n",
    "train_feature_transform = Compose([ToMelSpectrogramFromSTFT(n_mels=n_mels), DeleteSTFT(), ToTensor('mel_spectrogram', 'input')])\n",
    "train_dataset = SpeechCommandsDataset(train_dataset_path,\n",
    "                                Compose([LoadAudio(),\n",
    "                                        data_aug_transform,\n",
    "                                        add_bg_noise,\n",
    "                                        train_feature_transform]))\n",
    "\n",
    "valid_feature_transform = Compose([ToSTFT(), ToMelSpectrogramFromSTFT(n_mels=n_mels), ToTensor('mel_spectrogram', 'input')])\n",
    "valid_dataset = SpeechCommandsDataset(valid_dataset_path,\n",
    "                                Compose([LoadAudio(),\n",
    "                                        FixAudioLength(),\n",
    "                                        valid_feature_transform]))\n",
    "\n",
    "train_sampler = TripletBatchSampler(train_dataset.get_class_indices(), batch_size, 5)\n",
    "valid_sampler = TripletBatchSampler(valid_dataset.get_class_indices(), batch_size, 5)\n",
    "\n",
    "dl_train = DataLoader(train_dataset, batch_sampler=train_sampler)\n",
    "dl_valid = DataLoader(valid_dataset, batch_sampler=valid_sampler)\n",
    "\n",
    "loss_fn = TripletLoss(margin=0, loss_agr_policy=\"mean\")"
   ]
  },
  {
   "cell_type": "markdown",
   "metadata": {},
   "source": [
    "# Garbage TSNE"
   ]
  },
  {
   "cell_type": "code",
   "execution_count": 27,
   "metadata": {},
   "outputs": [],
   "source": [
    "from sklearn.manifold import TSNE\n",
    "\n",
    "def plot_2d_data(data, labels_numerical, labels_text, file_name, title='Исходные данные', cmap='tab20', ax=None):\n",
    "    '''\n",
    "    Отрисовка 2d scatter plot. \n",
    "    :param np.ndarray data: 2d массив точек\n",
    "    :param Union[list, np.ndarray] labels: список меток для каждой точки выборки\n",
    "    :param str title: Заголовок графика\n",
    "    :param str cmap: Цветовая палитра\n",
    "    :param ax Optional[matplotlib.axes.Axes]: Оси для отрисовки графика.\n",
    "        Если оси не заданы, то создаётся новая фигура и сразу же происходит её отрисовка\n",
    "        Иначе, график добавляется на существуюущие оси. Отрисовки фигуры не происходит\n",
    "    '''\n",
    "    n_clusters = len(np.unique(labels_numerical))\n",
    "    \n",
    "    fig, ax = plt.subplots(1, 1, figsize=(10, 5))\n",
    "\n",
    "        \n",
    "    scatter = ax.scatter(\n",
    "        data[:, 0], data[:, 1], c=labels_numerical, \n",
    "        cmap=plt.get_cmap(cmap, n_clusters)\n",
    "    )\n",
    "\n",
    "    cbar = plt.colorbar(scatter, label='Кластер', ax=ax)\n",
    "    cbar.set_ticks(np.min(labels_numerical) + (np.arange(n_clusters) + 0.5) * (n_clusters - 1) / n_clusters)\n",
    "    cbar.set_ticklabels(np.unique(labels_text))\n",
    "\n",
    "    ax.set_title(title)\n",
    "    ax.grid(True)\n",
    "    \n",
    "    fig.savefig(file_name, format='png')\n",
    "    plt.close(fig)\n",
    "    "
   ]
  },
  {
   "cell_type": "code",
   "execution_count": 33,
   "metadata": {},
   "outputs": [],
   "source": [
    "def form_class_batch(dataset, class_indices, samples_number, class_idx):\n",
    "    indexes = np.random.choice(class_indices[class_idx], samples_number, replace=False)\n",
    "\n",
    "    batch = {}\n",
    "\n",
    "    for i in indexes:\n",
    "        item = dataset.__getitem__(i)\n",
    "\n",
    "        for key in item.keys():\n",
    "            if key not in batch.keys():\n",
    "                batch[key] = []\n",
    "            batch[key].append(item[key])\n",
    "    \n",
    "    for key in batch.keys():\n",
    "        if torch.is_tensor(batch[key][0]):\n",
    "            batch[key] = torch.stack(batch[key], dim=0)\n",
    "    return batch\n",
    "\n",
    "\n",
    "def process_batches(model, batches, dataset):\n",
    "    embeds_total = []\n",
    "    labels_total = []\n",
    "    with torch.no_grad():\n",
    "        for batch in batches:\n",
    "            images = batch['input'].to(device)\n",
    "            images = torch.unsqueeze(images, 1)\n",
    "\n",
    "            labels = batch['target']\n",
    "\n",
    "            embeds = model(images)\n",
    "\n",
    "            embeds_total += embeds.tolist()\n",
    "            labels_total += labels\n",
    "\n",
    "    embeds_total = np.array(embeds_total, dtype=np.float32)\n",
    "    labels_total = np.array(labels_total, dtype=np.int32)\n",
    "\n",
    "    labels_text = []\n",
    "    for label_ind in labels_total:\n",
    "        labels_text.append(dataset.get_class_from_idx(label_ind))\n",
    "    lebel_text = np.array(labels_text)\n",
    "\n",
    "    return embeds_total, labels_total, labels_text\n",
    "\n",
    "\n",
    "def tsne_experiment(experiment_folder, n_samples_per_class=64):\n",
    "    # load experiment_settings\n",
    "    experiment_settings_path = os.path.join(experiment_folder, \"experiment_settings.json\")\n",
    "    experiment_stats_path = os.path.join(experiment_folder, \"stats.json\")\n",
    "\n",
    "    with open(experiment_settings_path, 'r') as fp:\n",
    "        experiment_settings = json.load(fp)\n",
    "\n",
    "    with open(experiment_stats_path, 'r') as fp:\n",
    "        experiment_stats = json.load(fp)\n",
    "    \n",
    "    # init datasets\n",
    "    n_epoch = experiment_settings['n_epoch']\n",
    "    n_mels = experiment_settings['model']['n_mels']\n",
    "    batch_size = 128\n",
    "\n",
    "    valid_feature_transform = Compose([ToSTFT(), ToMelSpectrogramFromSTFT(n_mels=n_mels), ToTensor('mel_spectrogram', 'input')])\n",
    "\n",
    "    test_dataset = SpeechCommandsDataset(test_dataset_path,\n",
    "                                    Compose([LoadAudio(),\n",
    "                                            FixAudioLength(),\n",
    "                                            valid_feature_transform]))\n",
    "\n",
    "    # create batches\n",
    "    np.random.seed(42)\n",
    "\n",
    "    test_batches = []\n",
    "    for i in range(test_dataset.get_classes_number()):\n",
    "        test_batches.append(form_class_batch(test_dataset, test_dataset.get_class_indices(), n_samples_per_class, i))\n",
    "    \n",
    "    # create model (from base epoch)\n",
    "    experiment_settings['model']['classes_number'] = 20\n",
    "    model = create_model(experiment_settings['model'])\n",
    "\n",
    "    # process base\n",
    "    tsne = TSNE(n_components=2, perplexity=50, early_exaggeration=22)\n",
    "    \n",
    "    # epochs to test\n",
    "\n",
    "    epochs_to_test = []\n",
    "    for key in experiment_stats['clustering_metrics']:\n",
    "        epochs_to_test.append(experiment_stats['clustering_metrics'][key]['best_train_epoch'])\n",
    "        epochs_to_test.append(experiment_stats['clustering_metrics'][key]['best_valid_epoch'])\n",
    "        epochs_to_test.append(experiment_stats['clustering_metrics'][key]['best_test_epoch'])\n",
    "\n",
    "    epochs_to_test.append(experiment_stats['loss']['best_train_epoch'])\n",
    "    epochs_to_test.append(experiment_stats['loss']['best_valid_epoch'])\n",
    "\n",
    "    # print(f\"epochs to test: {epochs_to_test}\")\n",
    "\n",
    "    epochs_to_test = set(epochs_to_test)\n",
    "    # print(f\"epochs to test: {epochs_to_test}\")\n",
    "    \n",
    "    # process epochs\n",
    "    for epoch in epochs_to_test:\n",
    "        if epoch is None:\n",
    "            continue\n",
    "        # load checkpoint\n",
    "        checkpoint_path = os.path.join(experiment_folder, \"checkpoints\", f\"checkpoint_{epoch}\")\n",
    "        checkpoint = torch.load(checkpoint_path)\n",
    "        state_dict = checkpoint['state_dict']\n",
    "        cur_epoch = checkpoint['epoch']\n",
    "        remove_prefix = 'module.'\n",
    "        state_dict = {k[len(remove_prefix):] if k.startswith(remove_prefix) else k: v for k, v in state_dict.items()}\n",
    "\n",
    "        state_dict.pop('classifier.weight', None)\n",
    "        state_dict.pop('classifier.bias', None)\n",
    "        \n",
    "        model.load_state_dict(state_dict, strict=False)\n",
    "        model.to(device)\n",
    "        model.eval()\n",
    "\n",
    "        # process batches\n",
    "        test_embeds, test_labels, test_labels_text = process_batches(model, test_batches, test_dataset)\n",
    "\n",
    "        # tsne\n",
    "        test_tsne_data = tsne.fit_transform(test_embeds)\n",
    "\n",
    "        # plot\n",
    "        tsne_folder = os.path.join(experiment_folder, \"tsne\")\n",
    "        tsne_test_folder = os.path.join(tsne_folder, \"test\")\n",
    "\n",
    "        os.makedirs(tsne_test_folder, exist_ok=True)\n",
    "\n",
    "        fpath = os.path.join(tsne_test_folder, f\"epoch_{epoch}.png\")\n",
    "        # print(f\"epoch = {epoch}; file_path = {fpath}\")\n",
    "        plot_2d_data(test_tsne_data, test_labels, test_labels_text, title = f\"epoch {epoch}\", file_name=os.path.join(tsne_test_folder, f\"epoch_{epoch}.png\"))"
   ]
  },
  {
   "cell_type": "code",
   "execution_count": 34,
   "metadata": {},
   "outputs": [
    {
     "name": "stdout",
     "output_type": "stream",
     "text": [
      "base_01: 2023-11-14 11:00:21.641826\n",
      "base_test: 2023-11-14 11:00:32.695958\n",
      "lifted_structured_01: 2023-11-14 11:00:44.069332\n",
      "lifted_structured_02: 2023-11-14 11:00:56.984116\n",
      "lifted_structured_test: 2023-11-14 11:01:05.615033\n",
      "npair_01: 2023-11-14 11:01:15.274256\n",
      "npair_02: 2023-11-14 11:01:28.662841\n",
      "npair_03: 2023-11-14 11:01:37.780854\n",
      "npair_test: 2023-11-14 11:01:51.428157\n",
      "triplet_br_01: 2023-11-14 11:02:04.258960\n",
      "triplet_br_02: 2023-11-14 11:02:13.129344\n",
      "triplet_br_03: 2023-11-14 11:02:23.060265\n",
      "triplet_br_04: 2023-11-14 11:02:35.314109\n",
      "triplet_br_05: 2023-11-14 11:02:47.212383\n",
      "triplet_br_06: 2023-11-14 11:02:55.067400\n",
      "triplet_br_07: 2023-11-14 11:03:07.385912\n",
      "triplet_br_08: 2023-11-14 11:03:18.156700\n",
      "triplet_br_test: 2023-11-14 11:03:32.206433\n"
     ]
    }
   ],
   "source": [
    "import os\n",
    "experiments_folder = '/home/basil/Desktop/msu_4_coursework/experiments'\n",
    "\n",
    "items = os.listdir(experiments_folder)\n",
    "to_do_list = [item for item in items if os.path.isdir(os.path.join(experiments_folder, item))]\n",
    "to_do_list = sorted(to_do_list)\n",
    "\n",
    "for experiment_name in to_do_list:\n",
    "    print(f'{experiment_name}: {datetime.datetime.now()}')\n",
    "    experiment_folder = os.path.join(experiments_folder, experiment_name)\n",
    "    tsne_experiment(experiment_folder, n_samples_per_class=64)"
   ]
  },
  {
   "cell_type": "markdown",
   "metadata": {},
   "source": [
    "# FSL 'Closest Known'"
   ]
  },
  {
   "cell_type": "code",
   "execution_count": 5,
   "metadata": {},
   "outputs": [],
   "source": [
    "class ClassifierClosestKnown():\n",
    "    def __init__(self, embedding_block, embedding_size, device):\n",
    "        self.device = device\n",
    "        self.embedding_block = embedding_block\n",
    "        self.embedding_size = embedding_size\n",
    "        self.freeze(self.embedding_block)\n",
    "\n",
    "        self.class_ids = torch.empty((0, ), dtype=torch.int32)\n",
    "        self.class_names = []\n",
    "        self.class_embeddings = torch.empty((0, self.embedding_size), dtype=torch.float32).to(self.device)\n",
    "\n",
    "        self.current_id = 0\n",
    "    \n",
    "    def freeze(self, block) -> None:\n",
    "        for p in block.parameters():\n",
    "            p.requires_grad = False\n",
    "        block.eval()\n",
    "\n",
    "    def add_class(self, input, label):\n",
    "        embed = self.embedding_block(input.to(self.device))\n",
    "        mean_embed = torch.mean(embed, dim=0).unsqueeze(0)\n",
    "\n",
    "        self.class_embeddings = torch.cat((self.class_embeddings, mean_embed), dim=0)\n",
    "        self.class_names.append(label)\n",
    "        self.class_ids = torch.cat((self.class_ids, torch.tensor([self.current_id], dtype=torch.int32)))\n",
    "        self.current_id += 1\n",
    "    \n",
    "    def get_classes(self):\n",
    "        return self.class_names\n",
    "\n",
    "    def classify(self, inputs):\n",
    "        input_embed = self.embedding_block(inputs.to(self.device))\n",
    "        distances = torch.cdist(input_embed, self.class_embeddings)  # Compute distances between input embeddings and class embeddings\n",
    "\n",
    "        closest_ids = torch.argmin(distances, dim=1).cpu().tolist()  # Find the index of the closest known embedding for each input\n",
    "        labels = [self.class_names[id] for id in closest_ids]  # Get the corresponding class labels\n",
    "\n",
    "        return labels"
   ]
  },
  {
   "cell_type": "code",
   "execution_count": 19,
   "metadata": {},
   "outputs": [],
   "source": [
    "def form_class_batch(dataset, class_indices, samples_number, class_idx):\n",
    "    indexes = np.random.choice(class_indices[class_idx], samples_number, replace=False)\n",
    "\n",
    "    batch = []\n",
    "\n",
    "    for i in indexes:\n",
    "        item = dataset.__getitem__(i)\n",
    "        batch.append(item['input'])\n",
    "    \n",
    "    batch = torch.stack(batch, dim=0)\n",
    "    return batch\n",
    "\n",
    "def eval_experiment_closest_known_memory(experiments_folder, experiment_name, epochs_to_test=[], fsl_examples=5, random_seed=42):\n",
    "    experiment_folder = os.path.join(experiments_folder, experiment_name)\n",
    "\n",
    "    experiment_settings_path = os.path.join(experiment_folder, \"experiment_settings.json\")\n",
    "    experiment_stats_path = os.path.join(experiment_folder, \"stats.json\")\n",
    "\n",
    "    experiment_stats = {}\n",
    "    if os.path.isfile(experiment_stats_path):\n",
    "        with open(experiment_stats_path, 'r') as fp:\n",
    "            experiment_stats = json.load(fp)\n",
    "\n",
    "    with open(experiment_settings_path, 'r') as fp:\n",
    "        experiment_settings = json.load(fp)\n",
    "\n",
    "\n",
    "    ''' create model '''\n",
    "    experiment_settings['model']['is_classifier'] = False\n",
    "    model = create_model(experiment_settings['model'])\n",
    "\n",
    "    n_mels = experiment_settings['model']['n_mels']\n",
    "    embedding_size = experiment_settings['model']['ds_cnn_size']\n",
    "\n",
    "    ''' prepare datasets '''\n",
    "    train_dataset_path = 'datasets/speech_commands/train'\n",
    "    valid_dataset_path = 'datasets/speech_commands/validation'\n",
    "    test_dataset_path = 'datasets/speech_commands/test'\n",
    "\n",
    "    batch_size = 128\n",
    "\n",
    "    feature_transform = Compose([ToSTFT(), ToMelSpectrogramFromSTFT(n_mels=n_mels), ToTensor('mel_spectrogram', 'input')])\n",
    "\n",
    "    train_dataset = SpeechCommandsDataset(train_dataset_path,\n",
    "                            Compose([LoadAudio(),\n",
    "                                    FixAudioLength(),\n",
    "                                    feature_transform]))\n",
    "\n",
    "    valid_dataset = SpeechCommandsDataset(valid_dataset_path,\n",
    "                                    Compose([LoadAudio(),\n",
    "                                            FixAudioLength(),\n",
    "                                            feature_transform]))\n",
    "\n",
    "    test_dataset = SpeechCommandsDataset(test_dataset_path,\n",
    "                                    Compose([LoadAudio(),\n",
    "                                            FixAudioLength(),\n",
    "                                            feature_transform]))\n",
    "\n",
    "    dl_train = DataLoader(train_dataset, batch_size=batch_size, shuffle=True, num_workers=16, prefetch_factor=2)\n",
    "    dl_valid = DataLoader(valid_dataset, batch_size=batch_size, shuffle=True, num_workers=16, prefetch_factor=2)\n",
    "    dl_test = DataLoader(test_dataset, batch_size=batch_size, shuffle=True, num_workers=16, prefetch_factor=2)\n",
    "\n",
    "    train_indices = train_dataset.get_class_indices()\n",
    "    valid_indices = valid_dataset.get_class_indices()\n",
    "    test_indices = test_dataset.get_class_indices()\n",
    "\n",
    "    train_classes = train_dataset.classes\n",
    "    valid_classes = valid_dataset.classes\n",
    "    test_classes = test_dataset.classes\n",
    "\n",
    "    ''' Prepare train data '''\n",
    "    np.random.seed(random_seed)\n",
    "    n_samples = fsl_examples\n",
    "    classifier_train_batches = []\n",
    "    classifier_train_labels = []\n",
    "\n",
    "    for class_name in train_classes:\n",
    "        class_idx = train_dataset.get_idx_from_class(class_name)\n",
    "        classifier_train_batches.append(form_class_batch(train_dataset, train_indices, n_samples, class_idx))\n",
    "        classifier_train_labels.append(class_name)\n",
    "        \n",
    "    for class_name in test_classes:\n",
    "        class_idx = test_dataset.get_idx_from_class(class_name)\n",
    "        classifier_train_batches.append(form_class_batch(test_dataset, test_indices, n_samples, class_idx))\n",
    "        classifier_train_labels.append(class_name)\n",
    "\n",
    "    all_class_names = train_classes + test_classes\n",
    "    class_name_to_idx = {class_name: i for i, class_name in enumerate(all_class_names)} \n",
    "\n",
    "    ''' get epochs to test '''\n",
    "    if not epochs_to_test:\n",
    "        for key in experiment_stats['clustering_metrics']:\n",
    "            epochs_to_test.append(experiment_stats['clustering_metrics'][key]['best_train_epoch'])\n",
    "            epochs_to_test.append(experiment_stats['clustering_metrics'][key]['best_valid_epoch'])\n",
    "\n",
    "    epochs_to_test = set(epochs_to_test)\n",
    "\n",
    "    ''' actual testing '''\n",
    "    print(f\"Epochs to test: {epochs_to_test}\")\n",
    "\n",
    "    for epoch in epochs_to_test:\n",
    "        print(f\"{epoch} \", end=\"\")\n",
    "        checkpoint_fname = os.path.join(experiment_folder, 'checkpoints', f'checkpoint_{epoch}')\n",
    "\n",
    "        checkpoint = torch.load(checkpoint_fname)\n",
    "        state_dict = checkpoint['state_dict']\n",
    "        cur_epoch = checkpoint['epoch']\n",
    "        remove_prefix = 'module.'\n",
    "        state_dict = {k[len(remove_prefix):] if k.startswith(remove_prefix) else k: v for k, v in state_dict.items()}\n",
    "\n",
    "        model.load_state_dict(state_dict, strict=False)\n",
    "        model.to(device)\n",
    "        model.eval()\n",
    "        model.freeze()\n",
    "\n",
    "        em_classifier = ClassifierClosestKnown(model, embedding_size, device)\n",
    "\n",
    "        ''' Actual Training of classifier'''\n",
    "        for i, batch in enumerate(classifier_train_batches):\n",
    "            batch = torch.unsqueeze(batch, 1)\n",
    "            em_classifier.add_class(batch, classifier_train_labels[i])\n",
    "\n",
    "        ''' test classifier on '''\n",
    "        train_true_labels = []\n",
    "        train_predictions = []\n",
    "        with torch.no_grad():\n",
    "            for batch in dl_train:\n",
    "                input = torch.unsqueeze(batch['input'].to(device), 1)\n",
    "\n",
    "                target = [train_dataset.get_class_from_idx(item.item()) for item in batch['target']]\n",
    "                target_idx = [class_name_to_idx[t] for t in target]\n",
    "\n",
    "                prediction = em_classifier.classify(input)\n",
    "                prediction_idx = [class_name_to_idx[p] for p in prediction]\n",
    "\n",
    "                train_predictions += prediction_idx\n",
    "                train_true_labels += target_idx\n",
    "\n",
    "\n",
    "        valid_true_labels = []\n",
    "        valid_predictions = []\n",
    "        with torch.no_grad():\n",
    "            for batch in dl_valid:\n",
    "                input = torch.unsqueeze(batch['input'].to(device), 1)\n",
    "\n",
    "                target = [valid_dataset.get_class_from_idx(item.item()) for item in batch['target']]\n",
    "                target_idx = [class_name_to_idx[t] for t in target]\n",
    "\n",
    "                prediction = em_classifier.classify(input)\n",
    "                prediction_idx = [class_name_to_idx[p] for p in prediction]\n",
    "\n",
    "                valid_predictions += prediction_idx\n",
    "                valid_true_labels += target_idx\n",
    "\n",
    "        test_true_labels = []\n",
    "        test_predictions = []\n",
    "        with torch.no_grad():\n",
    "            for batch in dl_test:\n",
    "                input = torch.unsqueeze(batch['input'].to(device), 1)\n",
    "\n",
    "                target = [test_dataset.get_class_from_idx(item.item()) for item in batch['target']]\n",
    "                target_idx = [class_name_to_idx[t] for t in target]\n",
    "\n",
    "                prediction = em_classifier.classify(input)\n",
    "                prediction_idx = [class_name_to_idx[p] for p in prediction]\n",
    "\n",
    "                test_predictions += prediction_idx\n",
    "                test_true_labels += target_idx\n",
    "            \n",
    "        all_true_labels = train_true_labels + valid_true_labels + test_true_labels\n",
    "        all_predictions = train_predictions + valid_predictions + test_predictions\n",
    "\n",
    "        confusion_mat_train = confusion_matrix(all_true_labels, all_predictions)\n",
    "\n",
    "        train_accuracy = accuracy_score(train_true_labels, train_predictions)\n",
    "        valid_accuracy = accuracy_score(valid_true_labels, valid_predictions)\n",
    "        test_accuracy = accuracy_score(test_true_labels, test_predictions)\n",
    "        overall_accuracy = accuracy_score(all_true_labels, all_predictions)\n",
    "\n",
    "        accuracy_dict = {\n",
    "            'train': train_accuracy,\n",
    "            'valid': valid_accuracy,\n",
    "            'test': test_accuracy,\n",
    "        }\n",
    "\n",
    "        class_accuracy = confusion_mat_train.diagonal() / confusion_mat_train.sum(axis=1)\n",
    "\n",
    "        fsl_key = f'closest_known_epoch{epoch}_shots{fsl_examples}'\n",
    "        datasets_list = ['train', 'valid', 'test']\n",
    "        if fsl_key in experiment_stats['fsl'].keys():\n",
    "            for dataset_name in datasets_list:\n",
    "                if not isinstance(experiment_stats['fsl'][fsl_key]['accuracy'][dataset_name], list):\n",
    "                    experiment_stats['fsl'][fsl_key]['accuracy'][dataset_name] = [experiment_stats['fsl'][fsl_key]['accuracy'][dataset_name]]\n",
    "                experiment_stats['fsl'][fsl_key]['accuracy'][dataset_name].append(accuracy_dict[dataset_name])\n",
    "        else:\n",
    "            experiment_stats['fsl'][fsl_key] = {\n",
    "                \"epoch\": epoch,\n",
    "                \"shots\": fsl_examples,\n",
    "                \"accuracy\": {\n",
    "                    \"train\": train_accuracy,\n",
    "                    \"valid\": valid_accuracy,\n",
    "                    \"test\": test_accuracy  \n",
    "                }\n",
    "            }\n",
    "    print()\n",
    "    with open(experiment_stats_path, \"w\") as fp:\n",
    "        json.dump(experiment_stats, fp)"
   ]
  },
  {
   "cell_type": "code",
   "execution_count": 20,
   "metadata": {},
   "outputs": [],
   "source": [
    "import os\n",
    "experiments_folder = '/home/basil/Desktop/msu_4_coursework/experiments'\n",
    "\n",
    "items = os.listdir(experiments_folder)\n",
    "to_do_list = [item for item in items if os.path.isdir(os.path.join(experiments_folder, item))]\n",
    "to_do_list = sorted(to_do_list)"
   ]
  },
  {
   "cell_type": "code",
   "execution_count": 21,
   "metadata": {},
   "outputs": [
    {
     "data": {
      "text/plain": [
       "['base_01',\n",
       " 'lifted_structured_01',\n",
       " 'lifted_structured_02',\n",
       " 'npair_01',\n",
       " 'npair_02',\n",
       " 'npair_03',\n",
       " 'triplet_br_01',\n",
       " 'triplet_br_02',\n",
       " 'triplet_br_03',\n",
       " 'triplet_br_04',\n",
       " 'triplet_br_05',\n",
       " 'triplet_br_06',\n",
       " 'triplet_br_07',\n",
       " 'triplet_br_08']"
      ]
     },
     "execution_count": 21,
     "metadata": {},
     "output_type": "execute_result"
    }
   ],
   "source": [
    "to_do_list"
   ]
  },
  {
   "cell_type": "code",
   "execution_count": 22,
   "metadata": {},
   "outputs": [
    {
     "name": "stdout",
     "output_type": "stream",
     "text": [
      "-----base_01-----\n"
     ]
    },
    {
     "data": {
      "application/vnd.jupyter.widget-view+json": {
       "model_id": "291177141fe04b8590d52c1ed7d2653e",
       "version_major": 2,
       "version_minor": 0
      },
      "text/plain": [
       "  0%|          | 0/10 [00:00<?, ?it/s]"
      ]
     },
     "metadata": {},
     "output_type": "display_data"
    },
    {
     "name": "stdout",
     "output_type": "stream",
     "text": [
      "seed = 121958:\n",
      "Epochs to test: {35, 5, 165, 10, 45, 50}\n",
      "35 5 165 10 45 50 \n",
      "seed = 671155:\n",
      "Epochs to test: {35, 5, 165, 10, 45, 50}\n",
      "35 5 165 10 45 50 \n",
      "seed = 131932:\n",
      "Epochs to test: {35, 5, 165, 10, 45, 50}\n",
      "35 5 165 10 45 50 \n",
      "seed = 365838:\n",
      "Epochs to test: {35, 5, 165, 10, 45, 50}\n",
      "35 5 165 10 45 50 \n",
      "seed = 259178:\n",
      "Epochs to test: {35, 5, 165, 10, 45, 50}\n",
      "35 5 165 10 45 50 \n",
      "seed = 644167:\n",
      "Epochs to test: {35, 5, 165, 10, 45, 50}\n",
      "35 5 165 10 45 50 \n",
      "seed = 110268:\n",
      "Epochs to test: {35, 5, 165, 10, 45, 50}\n",
      "35 5 165 10 45 50 \n",
      "seed = 732180:\n",
      "Epochs to test: {35, 5, 165, 10, 45, 50}\n",
      "35 5 165 10 45 50 \n",
      "seed = 54886:\n",
      "Epochs to test: {35, 5, 165, 10, 45, 50}\n",
      "35 5 165 10 45 50 \n",
      "seed = 137337:\n",
      "Epochs to test: {35, 5, 165, 10, 45, 50}\n",
      "35 5 165 10 45 50 \n",
      "-----lifted_structured_01-----\n"
     ]
    },
    {
     "data": {
      "application/vnd.jupyter.widget-view+json": {
       "model_id": "190d233699544387b889be778487682a",
       "version_major": 2,
       "version_minor": 0
      },
      "text/plain": [
       "  0%|          | 0/10 [00:00<?, ?it/s]"
      ]
     },
     "metadata": {},
     "output_type": "display_data"
    },
    {
     "name": "stdout",
     "output_type": "stream",
     "text": [
      "seed = 121958:\n",
      "Epochs to test: {195, 199, 40, 175, 145, 180}\n",
      "195 199 40 175 145 180 \n",
      "seed = 671155:\n",
      "Epochs to test: {195, 199, 40, 175, 145, 180}\n",
      "195 199 40 175 145 180 \n",
      "seed = 131932:\n",
      "Epochs to test: {195, 199, 40, 175, 145, 180}\n",
      "195 199 40 175 145 180 \n",
      "seed = 365838:\n",
      "Epochs to test: {195, 199, 40, 175, 145, 180}\n",
      "195 199 40 175 145 180 \n",
      "seed = 259178:\n",
      "Epochs to test: {195, 199, 40, 175, 145, 180}\n",
      "195 199 40 175 145 180 \n",
      "seed = 644167:\n",
      "Epochs to test: {195, 199, 40, 175, 145, 180}\n",
      "195 199 40 175 145 180 \n",
      "seed = 110268:\n",
      "Epochs to test: {195, 199, 40, 175, 145, 180}\n",
      "195 199 40 175 145 180 \n",
      "seed = 732180:\n",
      "Epochs to test: {195, 199, 40, 175, 145, 180}\n",
      "195 199 40 175 145 180 \n",
      "seed = 54886:\n",
      "Epochs to test: {195, 199, 40, 175, 145, 180}\n",
      "195 199 40 175 145 180 \n",
      "seed = 137337:\n",
      "Epochs to test: {195, 199, 40, 175, 145, 180}\n",
      "195 199 40 175 145 180 \n",
      "-----lifted_structured_02-----\n"
     ]
    },
    {
     "data": {
      "application/vnd.jupyter.widget-view+json": {
       "model_id": "a306962f9f29493c859016e5def228e7",
       "version_major": 2,
       "version_minor": 0
      },
      "text/plain": [
       "  0%|          | 0/10 [00:00<?, ?it/s]"
      ]
     },
     "metadata": {},
     "output_type": "display_data"
    },
    {
     "name": "stdout",
     "output_type": "stream",
     "text": [
      "seed = 121958:\n",
      "Epochs to test: {195, 199, 135, 50, 155}\n",
      "195 199 135 50 155 \n",
      "seed = 671155:\n",
      "Epochs to test: {195, 199, 135, 50, 155}\n",
      "195 199 135 50 155 \n",
      "seed = 131932:\n",
      "Epochs to test: {195, 199, 135, 50, 155}\n",
      "195 199 135 50 155 \n",
      "seed = 365838:\n",
      "Epochs to test: {195, 199, 135, 50, 155}\n",
      "195 199 135 50 155 \n",
      "seed = 259178:\n",
      "Epochs to test: {195, 199, 135, 50, 155}\n",
      "195 199 135 50 155 \n",
      "seed = 644167:\n",
      "Epochs to test: {195, 199, 135, 50, 155}\n",
      "195 199 135 50 155 \n",
      "seed = 110268:\n",
      "Epochs to test: {195, 199, 135, 50, 155}\n",
      "195 199 135 50 155 \n",
      "seed = 732180:\n",
      "Epochs to test: {195, 199, 135, 50, 155}\n",
      "195 199 135 50 155 \n",
      "seed = 54886:\n",
      "Epochs to test: {195, 199, 135, 50, 155}\n",
      "195 199 135 50 155 \n",
      "seed = 137337:\n",
      "Epochs to test: {195, 199, 135, 50, 155}\n",
      "195 199 135 50 155 \n",
      "-----npair_01-----\n"
     ]
    },
    {
     "data": {
      "application/vnd.jupyter.widget-view+json": {
       "model_id": "f345097ee4d340aaa4dfef7049a94d3a",
       "version_major": 2,
       "version_minor": 0
      },
      "text/plain": [
       "  0%|          | 0/10 [00:00<?, ?it/s]"
      ]
     },
     "metadata": {},
     "output_type": "display_data"
    },
    {
     "name": "stdout",
     "output_type": "stream",
     "text": [
      "seed = 121958:\n",
      "Epochs to test: {175, 145, 100, 199}\n",
      "175 145 100 199 \n",
      "seed = 671155:\n",
      "Epochs to test: {175, 145, 100, 199}\n",
      "175 145 100 199 \n",
      "seed = 131932:\n",
      "Epochs to test: {175, 145, 100, 199}\n",
      "175 145 100 199 \n",
      "seed = 365838:\n",
      "Epochs to test: {175, 145, 100, 199}\n",
      "175 145 100 199 \n",
      "seed = 259178:\n",
      "Epochs to test: {175, 145, 100, 199}\n",
      "175 145 100 199 \n",
      "seed = 644167:\n",
      "Epochs to test: {175, 145, 100, 199}\n",
      "175 145 100 199 \n",
      "seed = 110268:\n",
      "Epochs to test: {175, 145, 100, 199}\n",
      "175 145 100 199 \n",
      "seed = 732180:\n",
      "Epochs to test: {175, 145, 100, 199}\n",
      "175 145 100 199 \n",
      "seed = 54886:\n",
      "Epochs to test: {175, 145, 100, 199}\n",
      "175 145 100 199 \n",
      "seed = 137337:\n",
      "Epochs to test: {175, 145, 100, 199}\n",
      "175 145 100 199 \n",
      "-----npair_02-----\n"
     ]
    },
    {
     "data": {
      "application/vnd.jupyter.widget-view+json": {
       "model_id": "094b3ff5aef448c8839e4a67088ecee1",
       "version_major": 2,
       "version_minor": 0
      },
      "text/plain": [
       "  0%|          | 0/10 [00:00<?, ?it/s]"
      ]
     },
     "metadata": {},
     "output_type": "display_data"
    },
    {
     "name": "stdout",
     "output_type": "stream",
     "text": [
      "seed = 121958:\n",
      "Epochs to test: {195, 190, 199}\n",
      "195 190 199 \n",
      "seed = 671155:\n",
      "Epochs to test: {195, 190, 199}\n",
      "195 190 199 \n",
      "seed = 131932:\n",
      "Epochs to test: {195, 190, 199}\n",
      "195 190 199 \n",
      "seed = 365838:\n",
      "Epochs to test: {195, 190, 199}\n",
      "195 190 199 \n",
      "seed = 259178:\n",
      "Epochs to test: {195, 190, 199}\n",
      "195 190 199 \n",
      "seed = 644167:\n",
      "Epochs to test: {195, 190, 199}\n",
      "195 190 199 \n",
      "seed = 110268:\n",
      "Epochs to test: {195, 190, 199}\n",
      "195 190 199 \n",
      "seed = 732180:\n",
      "Epochs to test: {195, 190, 199}\n",
      "195 190 199 \n",
      "seed = 54886:\n",
      "Epochs to test: {195, 190, 199}\n",
      "195 190 199 \n",
      "seed = 137337:\n",
      "Epochs to test: {195, 190, 199}\n",
      "195 190 199 \n",
      "-----npair_03-----\n"
     ]
    },
    {
     "data": {
      "application/vnd.jupyter.widget-view+json": {
       "model_id": "81526dcd094c4e428e34a3e7ade8ee80",
       "version_major": 2,
       "version_minor": 0
      },
      "text/plain": [
       "  0%|          | 0/10 [00:00<?, ?it/s]"
      ]
     },
     "metadata": {},
     "output_type": "display_data"
    },
    {
     "name": "stdout",
     "output_type": "stream",
     "text": [
      "seed = 121958:\n",
      "Epochs to test: {130, 195, 199, 170, 190}\n",
      "130 195 199 170 190 \n",
      "seed = 671155:\n",
      "Epochs to test: {130, 195, 199, 170, 190}\n",
      "130 195 199 170 190 \n",
      "seed = 131932:\n",
      "Epochs to test: {130, 195, 199, 170, 190}\n",
      "130 195 199 170 190 \n",
      "seed = 365838:\n",
      "Epochs to test: {130, 195, 199, 170, 190}\n",
      "130 195 199 170 190 \n",
      "seed = 259178:\n",
      "Epochs to test: {130, 195, 199, 170, 190}\n",
      "130 195 199 170 190 \n",
      "seed = 644167:\n",
      "Epochs to test: {130, 195, 199, 170, 190}\n",
      "130 195 199 170 190 \n",
      "seed = 110268:\n",
      "Epochs to test: {130, 195, 199, 170, 190}\n",
      "130 195 199 170 190 \n",
      "seed = 732180:\n",
      "Epochs to test: {130, 195, 199, 170, 190}\n",
      "130 195 199 170 190 \n",
      "seed = 54886:\n",
      "Epochs to test: {130, 195, 199, 170, 190}\n",
      "130 195 199 170 190 \n",
      "seed = 137337:\n",
      "Epochs to test: {130, 195, 199, 170, 190}\n",
      "130 195 199 170 190 \n",
      "-----triplet_br_01-----\n"
     ]
    },
    {
     "data": {
      "application/vnd.jupyter.widget-view+json": {
       "model_id": "4fbb43fe62f340b489f5002964868795",
       "version_major": 2,
       "version_minor": 0
      },
      "text/plain": [
       "  0%|          | 0/10 [00:00<?, ?it/s]"
      ]
     },
     "metadata": {},
     "output_type": "display_data"
    },
    {
     "name": "stdout",
     "output_type": "stream",
     "text": [
      "seed = 121958:\n",
      "Epochs to test: {115, 95, 199}\n",
      "115 95 199 \n",
      "seed = 671155:\n",
      "Epochs to test: {115, 95, 199}\n",
      "115 95 199 \n",
      "seed = 131932:\n",
      "Epochs to test: {115, 95, 199}\n",
      "115 95 199 \n",
      "seed = 365838:\n",
      "Epochs to test: {115, 95, 199}\n",
      "115 95 199 \n",
      "seed = 259178:\n",
      "Epochs to test: {115, 95, 199}\n",
      "115 95 199 \n",
      "seed = 644167:\n",
      "Epochs to test: {115, 95, 199}\n",
      "115 95 199 \n",
      "seed = 110268:\n",
      "Epochs to test: {115, 95, 199}\n",
      "115 95 199 \n",
      "seed = 732180:\n",
      "Epochs to test: {115, 95, 199}\n",
      "115 95 199 \n",
      "seed = 54886:\n",
      "Epochs to test: {115, 95, 199}\n",
      "115 95 199 \n",
      "seed = 137337:\n",
      "Epochs to test: {115, 95, 199}\n",
      "115 95 199 \n",
      "-----triplet_br_02-----\n"
     ]
    },
    {
     "data": {
      "application/vnd.jupyter.widget-view+json": {
       "model_id": "5b7fae5608184277b806f2d07c14462e",
       "version_major": 2,
       "version_minor": 0
      },
      "text/plain": [
       "  0%|          | 0/10 [00:00<?, ?it/s]"
      ]
     },
     "metadata": {},
     "output_type": "display_data"
    },
    {
     "name": "stdout",
     "output_type": "stream",
     "text": [
      "seed = 121958:\n",
      "Epochs to test: {145, 185, 195, 135}\n",
      "145 185 195 135 \n",
      "seed = 671155:\n",
      "Epochs to test: {145, 185, 195, 135}\n",
      "145 185 195 135 \n",
      "seed = 131932:\n",
      "Epochs to test: {145, 185, 195, 135}\n",
      "145 185 195 135 \n",
      "seed = 365838:\n",
      "Epochs to test: {145, 185, 195, 135}\n",
      "145 185 195 135 \n",
      "seed = 259178:\n",
      "Epochs to test: {145, 185, 195, 135}\n",
      "145 185 195 135 \n",
      "seed = 644167:\n",
      "Epochs to test: {145, 185, 195, 135}\n",
      "145 185 195 135 \n",
      "seed = 110268:\n",
      "Epochs to test: {145, 185, 195, 135}\n",
      "145 185 195 135 \n",
      "seed = 732180:\n",
      "Epochs to test: {145, 185, 195, 135}\n",
      "145 185 195 135 \n",
      "seed = 54886:\n",
      "Epochs to test: {145, 185, 195, 135}\n",
      "145 185 195 135 \n",
      "seed = 137337:\n",
      "Epochs to test: {145, 185, 195, 135}\n",
      "145 185 195 135 \n",
      "-----triplet_br_03-----\n"
     ]
    },
    {
     "data": {
      "application/vnd.jupyter.widget-view+json": {
       "model_id": "eebb6a23914e42ea99999551db5a29a8",
       "version_major": 2,
       "version_minor": 0
      },
      "text/plain": [
       "  0%|          | 0/10 [00:00<?, ?it/s]"
      ]
     },
     "metadata": {},
     "output_type": "display_data"
    },
    {
     "name": "stdout",
     "output_type": "stream",
     "text": [
      "seed = 121958:\n",
      "Epochs to test: {170, 199, 85, 135}\n",
      "170 199 85 135 \n",
      "seed = 671155:\n",
      "Epochs to test: {170, 199, 85, 135}\n",
      "170 199 85 135 \n",
      "seed = 131932:\n",
      "Epochs to test: {170, 199, 85, 135}\n",
      "170 199 85 135 \n",
      "seed = 365838:\n",
      "Epochs to test: {170, 199, 85, 135}\n",
      "170 199 85 135 \n",
      "seed = 259178:\n",
      "Epochs to test: {170, 199, 85, 135}\n",
      "170 199 85 135 \n",
      "seed = 644167:\n",
      "Epochs to test: {170, 199, 85, 135}\n",
      "170 199 85 135 \n",
      "seed = 110268:\n",
      "Epochs to test: {170, 199, 85, 135}\n",
      "170 199 85 135 \n",
      "seed = 732180:\n",
      "Epochs to test: {170, 199, 85, 135}\n",
      "170 199 85 135 \n",
      "seed = 54886:\n",
      "Epochs to test: {170, 199, 85, 135}\n",
      "170 199 85 135 \n",
      "seed = 137337:\n",
      "Epochs to test: {170, 199, 85, 135}\n",
      "170 199 85 135 \n",
      "-----triplet_br_04-----\n"
     ]
    },
    {
     "data": {
      "application/vnd.jupyter.widget-view+json": {
       "model_id": "a03c99eac3934425a32131550103a947",
       "version_major": 2,
       "version_minor": 0
      },
      "text/plain": [
       "  0%|          | 0/10 [00:00<?, ?it/s]"
      ]
     },
     "metadata": {},
     "output_type": "display_data"
    },
    {
     "name": "stdout",
     "output_type": "stream",
     "text": [
      "seed = 121958:\n",
      "Epochs to test: {170, 155, 199}\n",
      "170 155 199 \n",
      "seed = 671155:\n",
      "Epochs to test: {170, 155, 199}\n",
      "170 155 199 \n",
      "seed = 131932:\n",
      "Epochs to test: {170, 155, 199}\n",
      "170 155 199 \n",
      "seed = 365838:\n",
      "Epochs to test: {170, 155, 199}\n",
      "170 155 199 \n",
      "seed = 259178:\n",
      "Epochs to test: {170, 155, 199}\n",
      "170 155 199 \n",
      "seed = 644167:\n",
      "Epochs to test: {170, 155, 199}\n",
      "170 155 199 \n",
      "seed = 110268:\n",
      "Epochs to test: {170, 155, 199}\n",
      "170 155 199 \n",
      "seed = 732180:\n",
      "Epochs to test: {170, 155, 199}\n",
      "170 155 199 \n",
      "seed = 54886:\n",
      "Epochs to test: {170, 155, 199}\n",
      "170 155 199 \n",
      "seed = 137337:\n",
      "Epochs to test: {170, 155, 199}\n",
      "170 155 199 \n",
      "-----triplet_br_05-----\n"
     ]
    },
    {
     "data": {
      "application/vnd.jupyter.widget-view+json": {
       "model_id": "87d632cc599447f9a5c46d1d89474851",
       "version_major": 2,
       "version_minor": 0
      },
      "text/plain": [
       "  0%|          | 0/10 [00:00<?, ?it/s]"
      ]
     },
     "metadata": {},
     "output_type": "display_data"
    },
    {
     "name": "stdout",
     "output_type": "stream",
     "text": [
      "seed = 121958:\n",
      "Epochs to test: {195, 199}\n",
      "195 199 \n",
      "seed = 671155:\n",
      "Epochs to test: {195, 199}\n",
      "195 199 \n",
      "seed = 131932:\n",
      "Epochs to test: {195, 199}\n",
      "195 199 \n",
      "seed = 365838:\n",
      "Epochs to test: {195, 199}\n",
      "195 199 \n",
      "seed = 259178:\n",
      "Epochs to test: {195, 199}\n",
      "195 199 \n",
      "seed = 644167:\n",
      "Epochs to test: {195, 199}\n",
      "195 199 \n",
      "seed = 110268:\n",
      "Epochs to test: {195, 199}\n",
      "195 199 \n",
      "seed = 732180:\n",
      "Epochs to test: {195, 199}\n",
      "195 199 \n",
      "seed = 54886:\n",
      "Epochs to test: {195, 199}\n",
      "195 199 \n",
      "seed = 137337:\n",
      "Epochs to test: {195, 199}\n",
      "195 199 \n",
      "-----triplet_br_06-----\n"
     ]
    },
    {
     "data": {
      "application/vnd.jupyter.widget-view+json": {
       "model_id": "c041c84375e14908bf2a4cecbb928567",
       "version_major": 2,
       "version_minor": 0
      },
      "text/plain": [
       "  0%|          | 0/10 [00:00<?, ?it/s]"
      ]
     },
     "metadata": {},
     "output_type": "display_data"
    },
    {
     "name": "stdout",
     "output_type": "stream",
     "text": [
      "seed = 121958:\n",
      "Epochs to test: {0, 165, 199, 15, 180}\n",
      "0 165 199 15 180 \n",
      "seed = 671155:\n",
      "Epochs to test: {0, 165, 199, 15, 180}\n",
      "0 165 199 15 180 \n",
      "seed = 131932:\n",
      "Epochs to test: {0, 165, 199, 15, 180}\n",
      "0 165 199 15 180 \n",
      "seed = 365838:\n",
      "Epochs to test: {0, 165, 199, 15, 180}\n",
      "0 165 199 15 180 \n",
      "seed = 259178:\n",
      "Epochs to test: {0, 165, 199, 15, 180}\n",
      "0 165 199 15 180 \n",
      "seed = 644167:\n",
      "Epochs to test: {0, 165, 199, 15, 180}\n",
      "0 165 199 15 180 \n",
      "seed = 110268:\n",
      "Epochs to test: {0, 165, 199, 15, 180}\n",
      "0 165 199 15 180 \n",
      "seed = 732180:\n",
      "Epochs to test: {0, 165, 199, 15, 180}\n",
      "0 165 199 15 180 \n",
      "seed = 54886:\n",
      "Epochs to test: {0, 165, 199, 15, 180}\n",
      "0 165 199 15 180 \n",
      "seed = 137337:\n",
      "Epochs to test: {0, 165, 199, 15, 180}\n",
      "0 165 199 15 180 \n",
      "-----triplet_br_07-----\n"
     ]
    },
    {
     "data": {
      "application/vnd.jupyter.widget-view+json": {
       "model_id": "b7852def8d2d45b788e275216bf52ff6",
       "version_major": 2,
       "version_minor": 0
      },
      "text/plain": [
       "  0%|          | 0/10 [00:00<?, ?it/s]"
      ]
     },
     "metadata": {},
     "output_type": "display_data"
    },
    {
     "name": "stdout",
     "output_type": "stream",
     "text": [
      "seed = 121958:\n",
      "Epochs to test: {199, 195, 190, 135}\n",
      "199 195 190 135 \n",
      "seed = 671155:\n",
      "Epochs to test: {199, 195, 190, 135}\n",
      "199 195 190 135 \n",
      "seed = 131932:\n",
      "Epochs to test: {199, 195, 190, 135}\n",
      "199 195 190 135 \n",
      "seed = 365838:\n",
      "Epochs to test: {199, 195, 190, 135}\n",
      "199 195 190 135 \n",
      "seed = 259178:\n",
      "Epochs to test: {199, 195, 190, 135}\n",
      "199 195 190 135 \n",
      "seed = 644167:\n",
      "Epochs to test: {199, 195, 190, 135}\n",
      "199 195 190 135 \n",
      "seed = 110268:\n",
      "Epochs to test: {199, 195, 190, 135}\n",
      "199 195 190 135 \n",
      "seed = 732180:\n",
      "Epochs to test: {199, 195, 190, 135}\n",
      "199 195 190 135 \n",
      "seed = 54886:\n",
      "Epochs to test: {199, 195, 190, 135}\n",
      "199 195 190 135 \n",
      "seed = 137337:\n",
      "Epochs to test: {199, 195, 190, 135}\n",
      "199 195 190 135 \n",
      "-----triplet_br_08-----\n"
     ]
    },
    {
     "data": {
      "application/vnd.jupyter.widget-view+json": {
       "model_id": "b298dabad70d49bf8b045c8b261d33f8",
       "version_major": 2,
       "version_minor": 0
      },
      "text/plain": [
       "  0%|          | 0/10 [00:00<?, ?it/s]"
      ]
     },
     "metadata": {},
     "output_type": "display_data"
    },
    {
     "name": "stdout",
     "output_type": "stream",
     "text": [
      "seed = 121958:\n",
      "Epochs to test: {185, 175, 190, 199}\n",
      "185 175 190 199 \n",
      "seed = 671155:\n",
      "Epochs to test: {185, 175, 190, 199}\n",
      "185 175 190 199 \n",
      "seed = 131932:\n",
      "Epochs to test: {185, 175, 190, 199}\n",
      "185 175 190 199 \n",
      "seed = 365838:\n",
      "Epochs to test: {185, 175, 190, 199}\n",
      "185 175 190 199 \n",
      "seed = 259178:\n",
      "Epochs to test: {185, 175, 190, 199}\n",
      "185 175 190 199 \n",
      "seed = 644167:\n",
      "Epochs to test: {185, 175, 190, 199}\n",
      "185 175 190 199 \n",
      "seed = 110268:\n",
      "Epochs to test: {185, 175, 190, 199}\n",
      "185 175 190 199 \n",
      "seed = 732180:\n",
      "Epochs to test: {185, 175, 190, 199}\n",
      "185 175 190 199 \n",
      "seed = 54886:\n",
      "Epochs to test: {185, 175, 190, 199}\n",
      "185 175 190 199 \n",
      "seed = 137337:\n",
      "Epochs to test: {185, 175, 190, 199}\n",
      "185 175 190 199 \n"
     ]
    }
   ],
   "source": [
    "np.random.seed(42)\n",
    "seeds = np.random.randint(0, 1000000, 10)\n",
    "\n",
    "\n",
    "for experiment_name in to_do_list:\n",
    "    print(f\"-----{experiment_name}-----\")\n",
    "    experiment_folder = os.path.join(experiments_folder, experiment_name)\n",
    "\n",
    "    experiment_settings_path = os.path.join(experiment_folder, \"experiment_settings.json\")\n",
    "    experiment_stats_path = os.path.join(experiment_folder, \"stats.json\")\n",
    "\n",
    "    for i in tqdm.tqdm(range(10)):\n",
    "        print(f\"seed = {seeds[i]}:\")\n",
    "        eval_experiment_closest_known_memory(experiments_folder, experiment_name, epochs_to_test=[], fsl_examples=5, random_seed=seeds[i])"
   ]
  },
  {
   "cell_type": "code",
   "execution_count": 18,
   "metadata": {},
   "outputs": [
    {
     "name": "stdout",
     "output_type": "stream",
     "text": [
      "-----base_01-----\n"
     ]
    },
    {
     "data": {
      "application/vnd.jupyter.widget-view+json": {
       "model_id": "a9406b04aa734169b616906bc3bf5a92",
       "version_major": 2,
       "version_minor": 0
      },
      "text/plain": [
       "  0%|          | 0/10 [00:00<?, ?it/s]"
      ]
     },
     "metadata": {},
     "output_type": "display_data"
    },
    {
     "name": "stdout",
     "output_type": "stream",
     "text": [
      "seed = 121958:\n",
      "Epochs to test: {194, 195}\n",
      "194 195 \n",
      "seed = 671155:\n",
      "Epochs to test: {194, 195}\n",
      "194 195 \n",
      "seed = 131932:\n",
      "Epochs to test: {194, 195}\n",
      "194 195 \n",
      "seed = 365838:\n",
      "Epochs to test: {194, 195}\n",
      "194 195 \n",
      "seed = 259178:\n",
      "Epochs to test: {194, 195}\n",
      "194 195 \n",
      "seed = 644167:\n",
      "Epochs to test: {194, 195}\n",
      "194 195 \n",
      "seed = 110268:\n",
      "Epochs to test: {194, 195}\n",
      "194 195 \n",
      "seed = 732180:\n",
      "Epochs to test: {194, 195}\n",
      "194 195 \n",
      "seed = 54886:\n",
      "Epochs to test: {194, 195}\n",
      "194 195 \n",
      "seed = 137337:\n",
      "Epochs to test: {194, 195}\n",
      "194 195 \n",
      "-----lifted_structured_01-----\n"
     ]
    },
    {
     "data": {
      "application/vnd.jupyter.widget-view+json": {
       "model_id": "6d9a268d5a6d485cb07f7c892ff4e4a7",
       "version_major": 2,
       "version_minor": 0
      },
      "text/plain": [
       "  0%|          | 0/10 [00:00<?, ?it/s]"
      ]
     },
     "metadata": {},
     "output_type": "display_data"
    },
    {
     "name": "stdout",
     "output_type": "stream",
     "text": [
      "seed = 121958:\n",
      "Epochs to test: {195, 198}\n",
      "195 198 \n",
      "seed = 671155:\n",
      "Epochs to test: {195, 198}\n",
      "195 198 \n",
      "seed = 131932:\n",
      "Epochs to test: {195, 198}\n",
      "195 198 \n",
      "seed = 365838:\n",
      "Epochs to test: {195, 198}\n",
      "195 198 \n",
      "seed = 259178:\n",
      "Epochs to test: {195, 198}\n",
      "195 198 \n",
      "seed = 644167:\n",
      "Epochs to test: {195, 198}\n",
      "195 198 \n",
      "seed = 110268:\n",
      "Epochs to test: {195, 198}\n",
      "195 198 \n",
      "seed = 732180:\n",
      "Epochs to test: {195, 198}\n",
      "195 198 \n",
      "seed = 54886:\n",
      "Epochs to test: {195, 198}\n",
      "195 198 \n",
      "seed = 137337:\n",
      "Epochs to test: {195, 198}\n",
      "195 198 \n",
      "-----lifted_structured_02-----\n"
     ]
    },
    {
     "data": {
      "application/vnd.jupyter.widget-view+json": {
       "model_id": "db772dc929674ac7925fd798d1cd4700",
       "version_major": 2,
       "version_minor": 0
      },
      "text/plain": [
       "  0%|          | 0/10 [00:00<?, ?it/s]"
      ]
     },
     "metadata": {},
     "output_type": "display_data"
    },
    {
     "name": "stdout",
     "output_type": "stream",
     "text": [
      "seed = 121958:\n",
      "Epochs to test: {196, 199}\n",
      "196 199 \n",
      "seed = 671155:\n",
      "Epochs to test: {196, 199}\n",
      "196 199 \n",
      "seed = 131932:\n",
      "Epochs to test: {196, 199}\n",
      "196 199 \n",
      "seed = 365838:\n",
      "Epochs to test: {196, 199}\n",
      "196 199 \n",
      "seed = 259178:\n",
      "Epochs to test: {196, 199}\n",
      "196 199 \n",
      "seed = 644167:\n",
      "Epochs to test: {196, 199}\n",
      "196 199 \n",
      "seed = 110268:\n",
      "Epochs to test: {196, 199}\n",
      "196 199 \n",
      "seed = 732180:\n",
      "Epochs to test: {196, 199}\n",
      "196 199 \n",
      "seed = 54886:\n",
      "Epochs to test: {196, 199}\n",
      "196 199 \n",
      "seed = 137337:\n",
      "Epochs to test: {196, 199}\n",
      "196 199 \n",
      "-----npair_01-----\n"
     ]
    },
    {
     "data": {
      "application/vnd.jupyter.widget-view+json": {
       "model_id": "2682ae43654c427291d4673b6883ff65",
       "version_major": 2,
       "version_minor": 0
      },
      "text/plain": [
       "  0%|          | 0/10 [00:00<?, ?it/s]"
      ]
     },
     "metadata": {},
     "output_type": "display_data"
    },
    {
     "name": "stdout",
     "output_type": "stream",
     "text": [
      "seed = 121958:\n",
      "Epochs to test: {195, 198}\n",
      "195 198 \n",
      "seed = 671155:\n",
      "Epochs to test: {195, 198}\n",
      "195 198 \n",
      "seed = 131932:\n",
      "Epochs to test: {195, 198}\n",
      "195 198 \n",
      "seed = 365838:\n",
      "Epochs to test: {195, 198}\n",
      "195 198 \n",
      "seed = 259178:\n",
      "Epochs to test: {195, 198}\n",
      "195 198 \n",
      "seed = 644167:\n",
      "Epochs to test: {195, 198}\n",
      "195 198 \n",
      "seed = 110268:\n",
      "Epochs to test: {195, 198}\n",
      "195 198 \n",
      "seed = 732180:\n",
      "Epochs to test: {195, 198}\n",
      "195 198 \n",
      "seed = 54886:\n",
      "Epochs to test: {195, 198}\n",
      "195 198 \n",
      "seed = 137337:\n",
      "Epochs to test: {195, 198}\n",
      "195 198 \n",
      "-----npair_02-----\n"
     ]
    },
    {
     "data": {
      "application/vnd.jupyter.widget-view+json": {
       "model_id": "6c43c37a692f47b19ac234ef34471b2a",
       "version_major": 2,
       "version_minor": 0
      },
      "text/plain": [
       "  0%|          | 0/10 [00:00<?, ?it/s]"
      ]
     },
     "metadata": {},
     "output_type": "display_data"
    },
    {
     "name": "stdout",
     "output_type": "stream",
     "text": [
      "seed = 121958:\n",
      "Epochs to test: {195}\n",
      "195 \n",
      "seed = 671155:\n",
      "Epochs to test: {195}\n",
      "195 \n",
      "seed = 131932:\n",
      "Epochs to test: {195}\n",
      "195 \n",
      "seed = 365838:\n",
      "Epochs to test: {195}\n",
      "195 \n",
      "seed = 259178:\n",
      "Epochs to test: {195}\n",
      "195 \n",
      "seed = 644167:\n",
      "Epochs to test: {195}\n",
      "195 \n",
      "seed = 110268:\n",
      "Epochs to test: {195}\n",
      "195 \n",
      "seed = 732180:\n",
      "Epochs to test: {195}\n",
      "195 \n",
      "seed = 54886:\n",
      "Epochs to test: {195}\n",
      "195 \n",
      "seed = 137337:\n",
      "Epochs to test: {195}\n",
      "195 \n",
      "-----npair_03-----\n"
     ]
    },
    {
     "data": {
      "application/vnd.jupyter.widget-view+json": {
       "model_id": "fab3b8c286d34a5aa312671f7ff02482",
       "version_major": 2,
       "version_minor": 0
      },
      "text/plain": [
       "  0%|          | 0/10 [00:00<?, ?it/s]"
      ]
     },
     "metadata": {},
     "output_type": "display_data"
    },
    {
     "name": "stdout",
     "output_type": "stream",
     "text": [
      "seed = 121958:\n",
      "Epochs to test: {199}\n",
      "199 \n",
      "seed = 671155:\n",
      "Epochs to test: {199}\n",
      "199 \n",
      "seed = 131932:\n",
      "Epochs to test: {199}\n",
      "199 \n",
      "seed = 365838:\n",
      "Epochs to test: {199}\n",
      "199 \n",
      "seed = 259178:\n",
      "Epochs to test: {199}\n",
      "199 \n",
      "seed = 644167:\n",
      "Epochs to test: {199}\n",
      "199 \n",
      "seed = 110268:\n",
      "Epochs to test: {199}\n",
      "199 \n",
      "seed = 732180:\n",
      "Epochs to test: {199}\n",
      "199 \n",
      "seed = 54886:\n",
      "Epochs to test: {199}\n",
      "199 \n",
      "seed = 137337:\n",
      "Epochs to test: {199}\n",
      "199 \n",
      "-----triplet_br_01-----\n"
     ]
    },
    {
     "data": {
      "application/vnd.jupyter.widget-view+json": {
       "model_id": "d3cfdbc6fdd2402d9198fae165161a27",
       "version_major": 2,
       "version_minor": 0
      },
      "text/plain": [
       "  0%|          | 0/10 [00:00<?, ?it/s]"
      ]
     },
     "metadata": {},
     "output_type": "display_data"
    },
    {
     "name": "stdout",
     "output_type": "stream",
     "text": [
      "seed = 121958:\n",
      "Epochs to test: {199}\n",
      "199 \n",
      "seed = 671155:\n",
      "Epochs to test: {199}\n",
      "199 \n",
      "seed = 131932:\n",
      "Epochs to test: {199}\n",
      "199 \n",
      "seed = 365838:\n",
      "Epochs to test: {199}\n",
      "199 \n",
      "seed = 259178:\n",
      "Epochs to test: {199}\n",
      "199 \n",
      "seed = 644167:\n",
      "Epochs to test: {199}\n",
      "199 \n",
      "seed = 110268:\n",
      "Epochs to test: {199}\n",
      "199 \n",
      "seed = 732180:\n",
      "Epochs to test: {199}\n",
      "199 \n",
      "seed = 54886:\n",
      "Epochs to test: {199}\n",
      "199 \n",
      "seed = 137337:\n",
      "Epochs to test: {199}\n",
      "199 \n",
      "-----triplet_br_02-----\n"
     ]
    },
    {
     "data": {
      "application/vnd.jupyter.widget-view+json": {
       "model_id": "f4bda624ed724435919236fa8193ae0f",
       "version_major": 2,
       "version_minor": 0
      },
      "text/plain": [
       "  0%|          | 0/10 [00:00<?, ?it/s]"
      ]
     },
     "metadata": {},
     "output_type": "display_data"
    },
    {
     "name": "stdout",
     "output_type": "stream",
     "text": [
      "seed = 121958:\n",
      "Epochs to test: {195}\n",
      "195 \n",
      "seed = 671155:\n",
      "Epochs to test: {195}\n",
      "195 \n",
      "seed = 131932:\n",
      "Epochs to test: {195}\n",
      "195 \n",
      "seed = 365838:\n",
      "Epochs to test: {195}\n",
      "195 \n",
      "seed = 259178:\n",
      "Epochs to test: {195}\n",
      "195 \n",
      "seed = 644167:\n",
      "Epochs to test: {195}\n",
      "195 \n",
      "seed = 110268:\n",
      "Epochs to test: {195}\n",
      "195 \n",
      "seed = 732180:\n",
      "Epochs to test: {195}\n",
      "195 \n",
      "seed = 54886:\n",
      "Epochs to test: {195}\n",
      "195 \n",
      "seed = 137337:\n",
      "Epochs to test: {195}\n",
      "195 \n",
      "-----triplet_br_03-----\n"
     ]
    },
    {
     "data": {
      "application/vnd.jupyter.widget-view+json": {
       "model_id": "2aaab6528751471d8044a208f8256f65",
       "version_major": 2,
       "version_minor": 0
      },
      "text/plain": [
       "  0%|          | 0/10 [00:00<?, ?it/s]"
      ]
     },
     "metadata": {},
     "output_type": "display_data"
    },
    {
     "name": "stdout",
     "output_type": "stream",
     "text": [
      "seed = 121958:\n",
      "Epochs to test: {197, 198}\n",
      "197 198 \n",
      "seed = 671155:\n",
      "Epochs to test: {197, 198}\n",
      "197 198 \n",
      "seed = 131932:\n",
      "Epochs to test: {197, 198}\n",
      "197 198 \n",
      "seed = 365838:\n",
      "Epochs to test: {197, 198}\n",
      "197 198 \n",
      "seed = 259178:\n",
      "Epochs to test: {197, 198}\n",
      "197 198 \n",
      "seed = 644167:\n",
      "Epochs to test: {197, 198}\n",
      "197 198 \n",
      "seed = 110268:\n",
      "Epochs to test: {197, 198}\n",
      "197 198 \n",
      "seed = 732180:\n",
      "Epochs to test: {197, 198}\n",
      "197 198 \n",
      "seed = 54886:\n",
      "Epochs to test: {197, 198}\n",
      "197 198 \n",
      "seed = 137337:\n",
      "Epochs to test: {197, 198}\n",
      "197 198 \n",
      "-----triplet_br_04-----\n"
     ]
    },
    {
     "data": {
      "application/vnd.jupyter.widget-view+json": {
       "model_id": "adc39ad731834b72bfbf956132c19905",
       "version_major": 2,
       "version_minor": 0
      },
      "text/plain": [
       "  0%|          | 0/10 [00:00<?, ?it/s]"
      ]
     },
     "metadata": {},
     "output_type": "display_data"
    },
    {
     "name": "stdout",
     "output_type": "stream",
     "text": [
      "seed = 121958:\n",
      "Epochs to test: {198, 183}\n",
      "198 183 \n",
      "seed = 671155:\n",
      "Epochs to test: {198, 183}\n",
      "198 183 \n",
      "seed = 131932:\n",
      "Epochs to test: {198, 183}\n",
      "198 183 \n",
      "seed = 365838:\n",
      "Epochs to test: {198, 183}\n",
      "198 183 \n",
      "seed = 259178:\n",
      "Epochs to test: {198, 183}\n",
      "198 183 \n",
      "seed = 644167:\n",
      "Epochs to test: {198, 183}\n",
      "198 183 \n",
      "seed = 110268:\n",
      "Epochs to test: {198, 183}\n",
      "198 183 \n",
      "seed = 732180:\n",
      "Epochs to test: {198, 183}\n",
      "198 183 \n",
      "seed = 54886:\n",
      "Epochs to test: {198, 183}\n",
      "198 183 \n",
      "seed = 137337:\n",
      "Epochs to test: {198, 183}\n",
      "198 183 \n",
      "-----triplet_br_05-----\n"
     ]
    },
    {
     "data": {
      "application/vnd.jupyter.widget-view+json": {
       "model_id": "683832dd10a346aab8cff20b1a78a2bd",
       "version_major": 2,
       "version_minor": 0
      },
      "text/plain": [
       "  0%|          | 0/10 [00:00<?, ?it/s]"
      ]
     },
     "metadata": {},
     "output_type": "display_data"
    },
    {
     "name": "stdout",
     "output_type": "stream",
     "text": [
      "seed = 121958:\n",
      "Epochs to test: {198, 199}\n",
      "198 199 \n",
      "seed = 671155:\n",
      "Epochs to test: {198, 199}\n",
      "198 199 \n",
      "seed = 131932:\n",
      "Epochs to test: {198, 199}\n",
      "198 199 \n",
      "seed = 365838:\n",
      "Epochs to test: {198, 199}\n",
      "198 199 \n",
      "seed = 259178:\n",
      "Epochs to test: {198, 199}\n",
      "198 199 \n",
      "seed = 644167:\n",
      "Epochs to test: {198, 199}\n",
      "198 199 \n",
      "seed = 110268:\n",
      "Epochs to test: {198, 199}\n",
      "198 199 \n",
      "seed = 732180:\n",
      "Epochs to test: {198, 199}\n",
      "198 199 \n",
      "seed = 54886:\n",
      "Epochs to test: {198, 199}\n",
      "198 199 \n",
      "seed = 137337:\n",
      "Epochs to test: {198, 199}\n",
      "198 199 \n",
      "-----triplet_br_06-----\n"
     ]
    },
    {
     "data": {
      "application/vnd.jupyter.widget-view+json": {
       "model_id": "5b2f2c7ac5d4486a8afacd8f4c42ac0e",
       "version_major": 2,
       "version_minor": 0
      },
      "text/plain": [
       "  0%|          | 0/10 [00:00<?, ?it/s]"
      ]
     },
     "metadata": {},
     "output_type": "display_data"
    },
    {
     "name": "stdout",
     "output_type": "stream",
     "text": [
      "seed = 121958:\n",
      "Epochs to test: {144, 143}\n",
      "144 143 \n",
      "seed = 671155:\n",
      "Epochs to test: {144, 143}\n",
      "144 143 \n",
      "seed = 131932:\n",
      "Epochs to test: {144, 143}\n",
      "144 143 \n",
      "seed = 365838:\n",
      "Epochs to test: {144, 143}\n",
      "144 143 \n",
      "seed = 259178:\n",
      "Epochs to test: {144, 143}\n",
      "144 143 \n",
      "seed = 644167:\n",
      "Epochs to test: {144, 143}\n",
      "144 143 \n",
      "seed = 110268:\n",
      "Epochs to test: {144, 143}\n",
      "144 143 \n",
      "seed = 732180:\n",
      "Epochs to test: {144, 143}\n",
      "144 143 \n",
      "seed = 54886:\n",
      "Epochs to test: {144, 143}\n",
      "144 143 \n",
      "seed = 137337:\n",
      "Epochs to test: {144, 143}\n",
      "144 143 \n",
      "-----triplet_br_07-----\n"
     ]
    },
    {
     "data": {
      "application/vnd.jupyter.widget-view+json": {
       "model_id": "ec932abb39d9420f95a93c2b89e782a6",
       "version_major": 2,
       "version_minor": 0
      },
      "text/plain": [
       "  0%|          | 0/10 [00:00<?, ?it/s]"
      ]
     },
     "metadata": {},
     "output_type": "display_data"
    },
    {
     "name": "stdout",
     "output_type": "stream",
     "text": [
      "seed = 121958:\n",
      "Epochs to test: {195, 199}\n",
      "195 199 \n",
      "seed = 671155:\n",
      "Epochs to test: {195, 199}\n",
      "195 199 \n",
      "seed = 131932:\n",
      "Epochs to test: {195, 199}\n",
      "195 199 \n",
      "seed = 365838:\n",
      "Epochs to test: {195, 199}\n",
      "195 199 \n",
      "seed = 259178:\n",
      "Epochs to test: {195, 199}\n",
      "195 199 \n",
      "seed = 644167:\n",
      "Epochs to test: {195, 199}\n",
      "195 199 \n",
      "seed = 110268:\n",
      "Epochs to test: {195, 199}\n",
      "195 199 \n",
      "seed = 732180:\n",
      "Epochs to test: {195, 199}\n",
      "195 199 \n",
      "seed = 54886:\n",
      "Epochs to test: {195, 199}\n",
      "195 199 \n",
      "seed = 137337:\n",
      "Epochs to test: {195, 199}\n",
      "195 199 \n",
      "-----triplet_br_08-----\n"
     ]
    },
    {
     "data": {
      "application/vnd.jupyter.widget-view+json": {
       "model_id": "beee7a7cee8848fc9de8b98cc5785d90",
       "version_major": 2,
       "version_minor": 0
      },
      "text/plain": [
       "  0%|          | 0/10 [00:00<?, ?it/s]"
      ]
     },
     "metadata": {},
     "output_type": "display_data"
    },
    {
     "name": "stdout",
     "output_type": "stream",
     "text": [
      "seed = 121958:\n",
      "Epochs to test: {177, 197}\n",
      "177 197 \n",
      "seed = 671155:\n",
      "Epochs to test: {177, 197}\n",
      "177 197 \n",
      "seed = 131932:\n",
      "Epochs to test: {177, 197}\n",
      "177 197 \n",
      "seed = 365838:\n",
      "Epochs to test: {177, 197}\n",
      "177 197 \n",
      "seed = 259178:\n",
      "Epochs to test: {177, 197}\n",
      "177 197 \n",
      "seed = 644167:\n",
      "Epochs to test: {177, 197}\n",
      "177 197 \n",
      "seed = 110268:\n",
      "Epochs to test: {177, 197}\n",
      "177 197 \n",
      "seed = 732180:\n",
      "Epochs to test: {177, 197}\n",
      "177 197 \n",
      "seed = 54886:\n",
      "Epochs to test: {177, 197}\n",
      "177 197 \n",
      "seed = 137337:\n",
      "Epochs to test: {177, 197}\n",
      "177 197 \n"
     ]
    }
   ],
   "source": [
    "np.random.seed(42)\n",
    "seeds = np.random.randint(0, 1000000, 10)\n",
    "\n",
    "\n",
    "for experiment_name in to_do_list:\n",
    "    print(f\"-----{experiment_name}-----\")\n",
    "    experiment_folder = os.path.join(experiments_folder, experiment_name)\n",
    "\n",
    "    experiment_settings_path = os.path.join(experiment_folder, \"experiment_settings.json\")\n",
    "    experiment_stats_path = os.path.join(experiment_folder, \"stats.json\")\n",
    "\n",
    "    for i in tqdm.tqdm(range(10)):\n",
    "        print(f\"seed = {seeds[i]}:\")\n",
    "        eval_experiment_closest_known_memory(experiments_folder, experiment_name, epochs_to_test=[], fsl_examples=5, random_seed=seeds[i])"
   ]
  },
  {
   "cell_type": "code",
   "execution_count": 218,
   "metadata": {},
   "outputs": [],
   "source": [
    "experiment_name = 'base_01'\n",
    "experiment_folder = os.path.join(experiments_folder, experiment_name)\n",
    "\n",
    "experiment_settings_path = os.path.join(experiment_folder, \"experiment_settings.json\")\n",
    "experiment_stats_path = os.path.join(experiment_folder, \"stats.json\")\n",
    "\n",
    "experiment_stats = {}\n",
    "if os.path.isfile(experiment_stats_path):\n",
    "    with open(experiment_stats_path, 'r') as fp:\n",
    "        experiment_stats = json.load(fp)"
   ]
  },
  {
   "cell_type": "code",
   "execution_count": 220,
   "metadata": {},
   "outputs": [
    {
     "data": {
      "text/plain": [
       "[0.4162197568264625,\n",
       " 0.6150372643577379,\n",
       " 0.6014028934677773,\n",
       " 0.5954405962297238,\n",
       " 0.6307321350284962,\n",
       " 0.5855107409031127,\n",
       " 0.6373958790004384,\n",
       " 0.5806882946076283,\n",
       " 0.6458790004384042,\n",
       " 0.6099517755370452]"
      ]
     },
     "execution_count": 220,
     "metadata": {},
     "output_type": "execute_result"
    }
   ],
   "source": [
    "experiment_stats['fsl']['closest_known_epoch5_shots5']['accuracy']['test']"
   ]
  },
  {
   "cell_type": "code",
   "execution_count": 178,
   "metadata": {},
   "outputs": [
    {
     "name": "stdout",
     "output_type": "stream",
     "text": [
      "Train accuracy: 0.76 0.78 0.81\n",
      "Valid accuracy: 0.76 0.79 0.81\n",
      "Test  accuracy: 0.54 0.61 0.66\n",
      "Ovall accuracy: 0.67 0.70 0.73\n"
     ]
    }
   ],
   "source": [
    "train_accuracy = []\n",
    "valid_accuracy = []\n",
    "test_accuracy = []\n",
    "overall_accuracy = []\n",
    "\n",
    "for r in results:\n",
    "    train_accuracy.append(r['train_accuracy'])\n",
    "    valid_accuracy.append(r['valid_accuracy'])\n",
    "    test_accuracy.append(r['test_accuracy'])\n",
    "    overall_accuracy.append(r['overall_accuracy'])\n",
    "\n",
    "print(f'Train accuracy: {np.min(train_accuracy):.2f} {np.mean(train_accuracy):.2f} {np.max(train_accuracy):.2f}')\n",
    "print(f'Valid accuracy: {np.min(valid_accuracy):.2f} {np.mean(valid_accuracy):.2f} {np.max(valid_accuracy):.2f}')\n",
    "print(f'Test  accuracy: {np.min(test_accuracy):.2f} {np.mean(test_accuracy):.2f} {np.max(test_accuracy):.2f}')\n",
    "print(f'Ovall accuracy: {np.min(overall_accuracy):.2f} {np.mean(overall_accuracy):.2f} {np.max(overall_accuracy):.2f}')"
   ]
  },
  {
   "cell_type": "markdown",
   "metadata": {},
   "source": [
    "# Now its garbage from eval_experiment_fsl_external_memory"
   ]
  },
  {
   "cell_type": "code",
   "execution_count": 150,
   "metadata": {},
   "outputs": [],
   "source": [
    "experiments_folder = '/home/basil/Desktop/msu_4_coursework/experiments/'\n",
    "\n",
    "experiment_name = 'triplet_br_02'\n",
    "experiment_folder = os.path.join(experiments_folder, experiment_name)\n",
    "\n",
    "experiment_settings_path = os.path.join(experiment_folder, \"experiment_settings.json\")\n",
    "\n",
    "with open(experiment_settings_path, 'r') as fp:\n",
    "    experiment_settings = json.load(fp)\n",
    "\n",
    "n_mels = experiment_settings['model']['n_mels']\n",
    "embedding_size = experiment_settings['model']['ds_cnn_size']\n",
    "\n",
    "experiment_settings['model']['is_classifier'] = False\n",
    "\n",
    "checkpoint_fname = os.path.join(experiment_folder, 'checkpoints', 'checkpoint_199')\n",
    "\n",
    "checkpoint = torch.load(checkpoint_fname)\n",
    "state_dict = checkpoint['state_dict']\n",
    "cur_epoch = checkpoint['epoch']\n",
    "remove_prefix = 'module.'\n",
    "state_dict = {k[len(remove_prefix):] if k.startswith(remove_prefix) else k: v for k, v in state_dict.items()}\n",
    "\n",
    "model = create_model(experiment_settings['model'])\n",
    "model.load_state_dict(state_dict, strict=False)\n",
    "model.to(device)\n",
    "model.eval()\n",
    "model.freeze()\n",
    "\n",
    "em_classifier = ClassifierExternalMemory(model, embedding_size, device)"
   ]
  },
  {
   "cell_type": "code",
   "execution_count": 136,
   "metadata": {},
   "outputs": [],
   "source": [
    "train_dataset_path = 'datasets/speech_commands/train'\n",
    "valid_dataset_path = 'datasets/speech_commands/validation'\n",
    "test_dataset_path = 'datasets/speech_commands/test'\n",
    "\n",
    "batch_size = 128\n",
    "\n",
    "feature_transform = Compose([ToSTFT(), ToMelSpectrogramFromSTFT(n_mels=n_mels), ToTensor('mel_spectrogram', 'input')])\n",
    "\n",
    "train_dataset = SpeechCommandsDataset(train_dataset_path,\n",
    "                        Compose([LoadAudio(),\n",
    "                                FixAudioLength(),\n",
    "                                feature_transform]))\n",
    "\n",
    "valid_dataset = SpeechCommandsDataset(valid_dataset_path,\n",
    "                                Compose([LoadAudio(),\n",
    "                                        FixAudioLength(),\n",
    "                                        feature_transform]))\n",
    "\n",
    "test_dataset = SpeechCommandsDataset(test_dataset_path,\n",
    "                                Compose([LoadAudio(),\n",
    "                                        FixAudioLength(),\n",
    "                                        feature_transform]))\n",
    "\n",
    "dl_train = DataLoader(train_dataset, batch_size=batch_size, shuffle=True, num_workers=16, prefetch_factor=2)\n",
    "dl_valid = DataLoader(valid_dataset, batch_size=batch_size, shuffle=True, num_workers=16, prefetch_factor=2)\n",
    "dl_test = DataLoader(test_dataset, batch_size=batch_size, shuffle=True, num_workers=16, prefetch_factor=2)"
   ]
  },
  {
   "cell_type": "code",
   "execution_count": 119,
   "metadata": {},
   "outputs": [],
   "source": [
    "train_indices = train_dataset.get_class_indices()\n",
    "valid_indices = valid_dataset.get_class_indices()\n",
    "test_indices = test_dataset.get_class_indices()"
   ]
  },
  {
   "cell_type": "code",
   "execution_count": 120,
   "metadata": {},
   "outputs": [],
   "source": [
    "train_classes = train_dataset.classes\n",
    "valid_classes = valid_dataset.classes\n",
    "test_classes = test_dataset.classes"
   ]
  },
  {
   "cell_type": "code",
   "execution_count": 121,
   "metadata": {},
   "outputs": [],
   "source": [
    "def form_class_batch(dataset, class_indices, samples_number, class_idx):\n",
    "    indexes = np.random.choice(class_indices[class_idx], samples_number, replace=False)\n",
    "\n",
    "    batch = []\n",
    "\n",
    "    for i in indexes:\n",
    "        item = dataset.__getitem__(i)\n",
    "        batch.append(item['input'])\n",
    "    \n",
    "    batch = torch.stack(batch, dim=0)\n",
    "    return batch"
   ]
  },
  {
   "cell_type": "code",
   "execution_count": 151,
   "metadata": {},
   "outputs": [],
   "source": [
    "n_samples = 1\n",
    "classifier_train_batches = []\n",
    "classifier_train_labels = []\n",
    "\n",
    "for class_name in train_classes:\n",
    "    class_idx = train_dataset.get_idx_from_class(class_name)\n",
    "    classifier_train_batches.append(form_class_batch(train_dataset, train_indices, n_samples, class_idx))\n",
    "    classifier_train_labels.append(class_name)\n",
    "    \n",
    "for class_name in test_classes:\n",
    "    class_idx = test_dataset.get_idx_from_class(class_name)\n",
    "    classifier_train_batches.append(form_class_batch(test_dataset, test_indices, n_samples, class_idx))\n",
    "    classifier_train_labels.append(class_name)\n"
   ]
  },
  {
   "cell_type": "code",
   "execution_count": 152,
   "metadata": {},
   "outputs": [],
   "source": [
    "''' Actual Learning of classifier'''\n",
    "for i, batch in enumerate(classifier_train_batches):\n",
    "    batch = torch.unsqueeze(batch, 1)\n",
    "    em_classifier.add_class(batch, classifier_train_labels[i])"
   ]
  },
  {
   "cell_type": "code",
   "execution_count": 153,
   "metadata": {},
   "outputs": [],
   "source": [
    "all_class_names = train_classes + test_classes\n",
    "class_name_to_idx = {class_name: i for i, class_name in enumerate(all_class_names)}"
   ]
  },
  {
   "cell_type": "code",
   "execution_count": 154,
   "metadata": {},
   "outputs": [
    {
     "data": {
      "application/vnd.jupyter.widget-view+json": {
       "model_id": "bd78df686965463fbdc1ccd08e6d03d5",
       "version_major": 2,
       "version_minor": 0
      },
      "text/plain": [
       "  0%|          | 0/357 [00:00<?, ?it/s]"
      ]
     },
     "metadata": {},
     "output_type": "display_data"
    },
    {
     "data": {
      "application/vnd.jupyter.widget-view+json": {
       "model_id": "d1a6ad76b6ba4928b7d949a8e4ab23fa",
       "version_major": 2,
       "version_minor": 0
      },
      "text/plain": [
       "  0%|          | 0/89 [00:00<?, ?it/s]"
      ]
     },
     "metadata": {},
     "output_type": "display_data"
    },
    {
     "data": {
      "application/vnd.jupyter.widget-view+json": {
       "model_id": "8ded492c09064f918406a3ba8916cae0",
       "version_major": 2,
       "version_minor": 0
      },
      "text/plain": [
       "  0%|          | 0/382 [00:00<?, ?it/s]"
      ]
     },
     "metadata": {},
     "output_type": "display_data"
    }
   ],
   "source": [
    "''' test classifier on '''\n",
    "train_true_labels = []\n",
    "train_predictions = []\n",
    "with torch.no_grad():\n",
    "    for batch in tqdm.tqdm(dl_train, total=len(dl_train)):\n",
    "        input = torch.unsqueeze(batch['input'].to(device), 1)\n",
    "\n",
    "        target = [train_dataset.get_class_from_idx(item.item()) for item in batch['target']]\n",
    "        target_idx = [class_name_to_idx[t] for t in target]\n",
    "\n",
    "        prediction = em_classifier.classify(input)\n",
    "        prediction_idx = [class_name_to_idx[p] for p in prediction]\n",
    "\n",
    "        train_predictions += prediction_idx\n",
    "        train_true_labels += target_idx\n",
    "\n",
    "\n",
    "valid_true_labels = []\n",
    "valid_predictions = []\n",
    "with torch.no_grad():\n",
    "    for batch in tqdm.tqdm(dl_valid, total=len(dl_valid)):\n",
    "        input = torch.unsqueeze(batch['input'].to(device), 1)\n",
    "\n",
    "        target = [valid_dataset.get_class_from_idx(item.item()) for item in batch['target']]\n",
    "        target_idx = [class_name_to_idx[t] for t in target]\n",
    "\n",
    "        prediction = em_classifier.classify(input)\n",
    "        prediction_idx = [class_name_to_idx[p] for p in prediction]\n",
    "\n",
    "        valid_predictions += prediction_idx\n",
    "        valid_true_labels += target_idx\n",
    "\n",
    "test_true_labels = []\n",
    "test_predictions = []\n",
    "with torch.no_grad():\n",
    "    for batch in tqdm.tqdm(dl_test, total=len(dl_test)):\n",
    "        input = torch.unsqueeze(batch['input'].to(device), 1)\n",
    "\n",
    "        target = [test_dataset.get_class_from_idx(item.item()) for item in batch['target']]\n",
    "        target_idx = [class_name_to_idx[t] for t in target]\n",
    "\n",
    "        prediction = em_classifier.classify(input)\n",
    "        prediction_idx = [class_name_to_idx[p] for p in prediction]\n",
    "\n",
    "        test_predictions += prediction_idx\n",
    "        test_true_labels += target_idx\n",
    "    \n",
    "all_true_labels = train_true_labels + valid_true_labels + test_true_labels\n",
    "all_predictions = train_predictions + valid_predictions + test_predictions"
   ]
  },
  {
   "cell_type": "code",
   "execution_count": 155,
   "metadata": {},
   "outputs": [],
   "source": [
    "confusion_mat_train = confusion_matrix(all_true_labels, all_predictions)\n",
    "\n",
    "train_accuracy = accuracy_score(train_true_labels, train_predictions)\n",
    "valid_accuracy = accuracy_score(valid_true_labels, valid_predictions)\n",
    "test_accuracy = accuracy_score(test_true_labels, test_predictions)\n",
    "overall_accuracy = accuracy_score(all_true_labels, all_predictions)\n",
    "\n",
    "class_accuracy = confusion_mat_train.diagonal() / confusion_mat_train.sum(axis=1)"
   ]
  },
  {
   "cell_type": "code",
   "execution_count": 156,
   "metadata": {},
   "outputs": [
    {
     "name": "stdout",
     "output_type": "stream",
     "text": [
      "Train Accuracy: 0.69\n",
      "Valid Accuracy: 0.70\n",
      "Test Accuracy: 0.31\n",
      "Overall Accuracy: 0.52\n",
      "\n",
      "Accuracy on train classes\n",
      "\tAccuracy for backward: 0.76\n",
      "\tAccuracy for bed: 0.66\n",
      "\tAccuracy for cat: 0.23\n",
      "\tAccuracy for dog: 0.68\n",
      "\tAccuracy for eight: 0.91\n",
      "\tAccuracy for five: 0.75\n",
      "\tAccuracy for follow: 0.60\n",
      "\tAccuracy for forward: 0.78\n",
      "\tAccuracy for four: 0.71\n",
      "\tAccuracy for go: 0.03\n",
      "\tAccuracy for happy: 0.89\n",
      "\tAccuracy for learn: 0.60\n",
      "\tAccuracy for left: 0.64\n",
      "\tAccuracy for nine: 0.83\n",
      "\tAccuracy for no: 0.77\n",
      "\tAccuracy for off: 0.90\n",
      "\tAccuracy for on: 0.75\n",
      "\tAccuracy for right: 0.88\n",
      "\tAccuracy for tree: 0.62\n",
      "\tAccuracy for wow: 0.70\n",
      "\n",
      "Accuracy on test classes\n",
      "\tAccuracy for bird: 0.33\n",
      "\tAccuracy for down: 0.01\n",
      "\tAccuracy for house: 0.35\n",
      "\tAccuracy for marvin: 0.26\n",
      "\tAccuracy for one: 0.76\n",
      "\tAccuracy for seven: 0.02\n",
      "\tAccuracy for sheila: 0.10\n",
      "\tAccuracy for six: 0.54\n",
      "\tAccuracy for stop: 0.04\n",
      "\tAccuracy for three: 0.45\n",
      "\tAccuracy for two: 0.19\n",
      "\tAccuracy for up: 0.42\n",
      "\tAccuracy for visual: 0.04\n",
      "\tAccuracy for yes: 0.71\n",
      "\tAccuracy for zero: 0.16\n"
     ]
    }
   ],
   "source": [
    "# Display results\n",
    "print(f\"Train Accuracy: {train_accuracy:.2f}\")\n",
    "print(f\"Valid Accuracy: {valid_accuracy:.2f}\")\n",
    "print(f\"Test Accuracy: {test_accuracy:.2f}\")\n",
    "print(f\"Overall Accuracy: {overall_accuracy:.2f}\")\n",
    "\n",
    "print()\n",
    "print('Accuracy on train classes')\n",
    "for class_name in train_classes:\n",
    "    ind = class_name_to_idx[class_name]\n",
    "    print(f\"\\tAccuracy for {class_name}: {class_accuracy[ind]:.2f}\")\n",
    "\n",
    "print()\n",
    "print('Accuracy on test classes')\n",
    "for class_name in test_classes:\n",
    "    ind = class_name_to_idx[class_name]\n",
    "    print(f\"\\tAccuracy for {class_name}: {class_accuracy[ind]:.2f}\")"
   ]
  },
  {
   "cell_type": "code",
   "execution_count": 158,
   "metadata": {},
   "outputs": [
    {
     "data": {
      "image/png": "[encoded data removed]",
      "text/plain": [
       "<Figure size 1600x1600 with 1 Axes>"
      ]
     },
     "metadata": {},
     "output_type": "display_data"
    }
   ],
   "source": [
    "plt.figure(figsize=(16, 16))\n",
    "sns.heatmap(confusion_mat_train, annot=True, fmt=\"d\", cmap=\"Blues\", linewidths=0.5, cbar=False)\n",
    "\n",
    "tick_marks = np.arange(len(all_class_names)) + 0.5\n",
    "plt.xticks(tick_marks, all_class_names, rotation=90)\n",
    "plt.yticks(tick_marks, all_class_names, rotation=0)\n",
    "\n",
    "plt.xlabel(\"Predicted\")\n",
    "plt.ylabel(\"Actual\")\n",
    "plt.title(\"Confusion Matrix\")\n",
    "plt.show()"
   ]
  },
  {
   "cell_type": "markdown",
   "metadata": {},
   "source": [
    "# SMTH"
   ]
  },
  {
   "cell_type": "code",
   "execution_count": 181,
   "metadata": {},
   "outputs": [],
   "source": []
  },
  {
   "cell_type": "markdown",
   "metadata": {},
   "source": [
    "# SMTH"
   ]
  },
  {
   "cell_type": "markdown",
   "metadata": {},
   "source": [
    "# SMTH"
   ]
  }
 ],
 "metadata": {
  "kernelspec": {
   "display_name": ".venv",
   "language": "python",
   "name": "python3"
  },
  "language_info": {
   "codemirror_mode": {
    "name": "ipython",
    "version": 3
   },
   "file_extension": ".py",
   "mimetype": "text/x-python",
   "name": "python",
   "nbconvert_exporter": "python",
   "pygments_lexer": "ipython3",
   "version": "3.10.12"
  },
  "orig_nbformat": 4
 },
 "nbformat": 4,
 "nbformat_minor": 2
}
